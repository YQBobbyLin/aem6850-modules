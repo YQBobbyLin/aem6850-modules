{
 "cells": [
  {
   "cell_type": "markdown",
   "metadata": {},
   "source": [
    "# Midterm Exam\n",
    "\n",
    "# AEM6850\n",
    "\n",
    "## Instructions\n",
    "\n",
    "This test will be out of 100 points. Each section is graded equally. There are extra credit questions worth +3 points on your grade and one extra credit question worth +10 points on your grade.\n",
    "\n",
    "For each question, write your answer in the designated code cell. You can create extra code cells if you need them.\n",
    "\n",
    "At the end of the exam, make sure that the whole notebook can be run without errors.\n",
    "\n",
    "For certain questions, you can actually test if you get the right answer. Extra credit will be given to those that show extra code to test their answer.\n",
    "\n",
    "**Note: Some questions may require you to answer with text and analysis. In that case you will be given a markdown cell to answer.**\n",
    "\n",
    "**Note: For each question, make sure to print out your final answer.**"
   ]
  },
  {
   "cell_type": "markdown",
   "metadata": {},
   "source": [
    "## Section 1: Python Basics"
   ]
  },
  {
   "cell_type": "markdown",
   "metadata": {},
   "source": [
    "1. You are given a tuple of numbers, `(1,2,3,4)`. \n",
    "\n",
    "a. Assign the tuple to the variable `x`.\n",
    "\n"
   ]
  },
  {
   "cell_type": "code",
   "execution_count": 1,
   "metadata": {},
   "outputs": [],
   "source": [
    "## Write answer here\n"
   ]
  },
  {
   "cell_type": "markdown",
   "metadata": {},
   "source": [
    "b. Is `x` mutable or immutable? What does it mean to be mutable or immutable. Answer in your own words."
   ]
  },
  {
   "cell_type": "markdown",
   "metadata": {},
   "source": [
    "*Write answer here*"
   ]
  },
  {
   "cell_type": "markdown",
   "metadata": {},
   "source": [
    "c. Add the number `3` to the end of the tuple without changing the tuple to a different python type. Call this variable `x_new`"
   ]
  },
  {
   "cell_type": "code",
   "execution_count": 2,
   "metadata": {},
   "outputs": [],
   "source": [
    "# Write answer here"
   ]
  },
  {
   "cell_type": "markdown",
   "metadata": {},
   "source": [
    "d. Add the number `3` to the tuple by changing its type to perform an operation and then turning it back into a tuple."
   ]
  },
  {
   "cell_type": "code",
   "execution_count": 3,
   "metadata": {},
   "outputs": [],
   "source": [
    "# Write answer here"
   ]
  },
  {
   "cell_type": "markdown",
   "metadata": {},
   "source": [
    "2. You are given a loop:\n",
    "\n",
    "```python\n",
    "\n",
    "my_list = [1,2,3,4,5]\n",
    "new_list = []\n",
    "\n",
    "for m in my_list:\n",
    "    new_list.append(m*2)\n",
    "\n",
    "print(new_list)\n",
    "\n",
    "```\n",
    "\n",
    "Rewrite this loop using a list comprehension."
   ]
  },
  {
   "cell_type": "code",
   "execution_count": 4,
   "metadata": {},
   "outputs": [],
   "source": [
    "## Write answer here"
   ]
  },
  {
   "cell_type": "markdown",
   "metadata": {},
   "source": [
    "3. You are given a loop:\n",
    "\n",
    "```python\n",
    "my_list = [1,2,3,4,5]\n",
    "\n",
    "new_dict = {}\n",
    "\n",
    "for i, m in enumerate(my_list):\n",
    "    new_dict[i] = m*2\n",
    "\n",
    "print(new_dict)\n",
    "```\n",
    "\n",
    "Rewrite this loop as a *dictionary* comprehension"
   ]
  },
  {
   "cell_type": "code",
   "execution_count": 5,
   "metadata": {},
   "outputs": [],
   "source": [
    "## Write answer here"
   ]
  },
  {
   "cell_type": "markdown",
   "metadata": {},
   "source": [
    "4. Construct a dictionary with keys: `\"alpha\", \"beta\", \"gamma\", \"delta\"` and values corresponding to the number of letters in each key. Name it `greek_dict`."
   ]
  },
  {
   "cell_type": "code",
   "execution_count": 6,
   "metadata": {},
   "outputs": [],
   "source": [
    "## Write answer here"
   ]
  },
  {
   "cell_type": "markdown",
   "metadata": {},
   "source": [
    "5. You are given a function:\n",
    "\n",
    "```python\n",
    "\n",
    "def f(x):\n",
    "    y = x**2\n",
    "    z = y+x\n",
    "    return z\n",
    "\n",
    "```\n",
    "\n",
    "Rewrite this function as a lambda function."
   ]
  },
  {
   "cell_type": "code",
   "execution_count": 7,
   "metadata": {},
   "outputs": [],
   "source": [
    "## Write answer here\n"
   ]
  },
  {
   "cell_type": "markdown",
   "metadata": {},
   "source": [
    "6. You are given a dictionary:\n",
    "    \n",
    "```python\n",
    "primary_colors = {'blue' : [0,0,255], 'green' : [0,255,0], 'red' : [255,0,0]}\n",
    "```\n",
    "\n",
    "This dictionary defines the RGB code for the colors, blue, green and red, respectively.\n",
    "\n",
    "a. Use `map` to add the numbers in each of these lists together, by each index (so primary_colors['blue'][0] + primary_colors['green'][0] + primary_colors['red'][0], and so on for indices 1, and 2). Hint: remember that `map` returns an object, so you have to convert it to a list to see the output."
   ]
  },
  {
   "cell_type": "code",
   "execution_count": 8,
   "metadata": {},
   "outputs": [],
   "source": [
    "## Write answer here"
   ]
  },
  {
   "cell_type": "markdown",
   "metadata": {},
   "source": [
    "b. Construct a function, called `color_choice` that takes a string parameter, `color`, which can be either `red`, `green` or `blue` and outputs the RGB code of input colors as a list. Use if-statements for the parameter `color` to output the correct list. "
   ]
  },
  {
   "cell_type": "code",
   "execution_count": 9,
   "metadata": {},
   "outputs": [],
   "source": [
    "## Write answer here"
   ]
  },
  {
   "cell_type": "markdown",
   "metadata": {},
   "source": [
    "d. Construct this function again, but this time, by accessing the `primary_colors` variable. Hint: You should use slice notation on the dictionary."
   ]
  },
  {
   "cell_type": "code",
   "execution_count": 10,
   "metadata": {},
   "outputs": [],
   "source": [
    "## Write answer here"
   ]
  },
  {
   "cell_type": "markdown",
   "metadata": {},
   "source": [
    "Extra Credit: Rewrite the function from d., but use appropriate type hints in the definition of the function."
   ]
  },
  {
   "cell_type": "code",
   "execution_count": 11,
   "metadata": {},
   "outputs": [],
   "source": [
    "## Write answer here"
   ]
  },
  {
   "cell_type": "markdown",
   "metadata": {},
   "source": [
    "## Section 2: Numpy and Pandas"
   ]
  },
  {
   "cell_type": "markdown",
   "metadata": {},
   "source": [
    "1. Import the `numpy` library and call it `np`. Import the `pandas` library and call it `pd`"
   ]
  },
  {
   "cell_type": "code",
   "execution_count": 12,
   "metadata": {},
   "outputs": [],
   "source": [
    "## Write answer here"
   ]
  },
  {
   "cell_type": "markdown",
   "metadata": {},
   "source": [
    "2. Create a matrix of normal random variables, with seed `1234`, with `loc` (or mean)=1, and `scale` (or sigma) =3, with `size=(100,100)`. Assign it to the variable `X`."
   ]
  },
  {
   "cell_type": "code",
   "execution_count": 13,
   "metadata": {},
   "outputs": [],
   "source": [
    "## Write answer here"
   ]
  },
  {
   "cell_type": "markdown",
   "metadata": {},
   "source": [
    "3. Create a identity matrix of the same shape as `X`. Name it `I`."
   ]
  },
  {
   "cell_type": "code",
   "execution_count": 14,
   "metadata": {},
   "outputs": [],
   "source": [
    "## Write answer here."
   ]
  },
  {
   "cell_type": "markdown",
   "metadata": {},
   "source": [
    "4. Matrix multiply X by I."
   ]
  },
  {
   "cell_type": "code",
   "execution_count": 15,
   "metadata": {},
   "outputs": [],
   "source": [
    "## Write answer here"
   ]
  },
  {
   "cell_type": "markdown",
   "metadata": {},
   "source": [
    "5. Take the matrix inverse of `I`."
   ]
  },
  {
   "cell_type": "code",
   "execution_count": 16,
   "metadata": {},
   "outputs": [],
   "source": [
    "## Write answer here"
   ]
  },
  {
   "cell_type": "markdown",
   "metadata": {},
   "source": [
    "6. Convert this matrix into a pandas dataframe and drop columns 4-100. Name this dataframe `raw_df`."
   ]
  },
  {
   "cell_type": "code",
   "execution_count": 17,
   "metadata": {},
   "outputs": [],
   "source": [
    "## Write answer here"
   ]
  },
  {
   "cell_type": "markdown",
   "metadata": {},
   "source": [
    "7. Rename columns 0,1,2,3 to `consumption`, `income`, `expenditure` and `health_status`. Call this `df`."
   ]
  },
  {
   "cell_type": "code",
   "execution_count": 18,
   "metadata": {},
   "outputs": [],
   "source": [
    "## Write answer here"
   ]
  },
  {
   "cell_type": "markdown",
   "metadata": {},
   "source": [
    "8. Assign a new variable to `df` that will be called `net_income`, defined as `income - expenditure - consumption`. Feel free to overwrite `df`, i.e. `df = df.assign(...)`."
   ]
  },
  {
   "cell_type": "code",
   "execution_count": 19,
   "metadata": {},
   "outputs": [],
   "source": [
    "## Write answer here"
   ]
  },
  {
   "cell_type": "markdown",
   "metadata": {},
   "source": [
    "9. Assign a variable to `df`, called `healthy`, defined as `True` if `health_status >1` and `False` otherwise."
   ]
  },
  {
   "cell_type": "code",
   "execution_count": 20,
   "metadata": {},
   "outputs": [],
   "source": [
    "## Write answer here"
   ]
  },
  {
   "cell_type": "markdown",
   "metadata": {},
   "source": [
    "10. Calculate the mean of `net_income`, grouped by `healthy`. "
   ]
  },
  {
   "cell_type": "code",
   "execution_count": 21,
   "metadata": {},
   "outputs": [],
   "source": [
    "## Write answer here"
   ]
  },
  {
   "cell_type": "markdown",
   "metadata": {},
   "source": [
    "11. Import seaborn as `sns` in the proper code cell. Create a bar graph using `seaborn` that plots `net_income` by `healthy`"
   ]
  },
  {
   "cell_type": "code",
   "execution_count": 22,
   "metadata": {},
   "outputs": [],
   "source": [
    "## Write answer here"
   ]
  },
  {
   "cell_type": "markdown",
   "metadata": {},
   "source": [
    "12. Import `jit` from `numba` and create a `numba` function that takes an array input `x` and outputs `x**10`. Call this function `ten_power`. Set `nopython =True`"
   ]
  },
  {
   "cell_type": "code",
   "execution_count": 23,
   "metadata": {},
   "outputs": [],
   "source": [
    "## Write answer here\n"
   ]
  },
  {
   "cell_type": "markdown",
   "metadata": {},
   "source": [
    "13. Create a new variable in `df`, called `net_income_ten` that applies `ten_power` to `net_income`."
   ]
  },
  {
   "cell_type": "code",
   "execution_count": 24,
   "metadata": {},
   "outputs": [],
   "source": [
    "## Write answer here\n"
   ]
  },
  {
   "cell_type": "markdown",
   "metadata": {},
   "source": [
    "14. You are given a date variable defined below, `dates`. Use this as an index for a new dataframe called `t_df` that has one column called `price_change` with data from a random normal variable with `loc=1`, `scale=3` , `seed=1234` and `size=100`. \n",
    "\n",
    "\n",
    "a. Create a new column that is the *month* of the date you are considering."
   ]
  },
  {
   "cell_type": "code",
   "execution_count": null,
   "metadata": {},
   "outputs": [],
   "source": [
    "dates = pd.date_range(start=\"2023-01-01\", end = \"2023-12-31\", periods=100)\n",
    "\n",
    "## Write answer here\n"
   ]
  },
  {
   "cell_type": "markdown",
   "metadata": {},
   "source": [
    "b. Group by the month and calculate the mean, standard deviation and median of `price_change`.\n"
   ]
  },
  {
   "cell_type": "code",
   "execution_count": 26,
   "metadata": {},
   "outputs": [],
   "source": [
    "## Write answer here"
   ]
  },
  {
   "cell_type": "markdown",
   "metadata": {},
   "source": [
    "c. Use `plotly` to graph `price_change` as a line with time on the x-axis. "
   ]
  },
  {
   "cell_type": "code",
   "execution_count": 27,
   "metadata": {},
   "outputs": [],
   "source": [
    "## Write answer here"
   ]
  },
  {
   "cell_type": "markdown",
   "metadata": {},
   "source": [
    "## Section 3: Strings and Web-scraping\n",
    "\n",
    "For this section, you will scrape this website: https://www.scrapethissite.com/pages/simple/\n",
    "\n",
    "a. use `requests` to get the information from the website. Call the variable `response`. Then do `BeatifulSoup(response.content)` and name it a variable `soup`."
   ]
  },
  {
   "cell_type": "code",
   "execution_count": 28,
   "metadata": {},
   "outputs": [],
   "source": [
    "## Write answer here"
   ]
  },
  {
   "cell_type": "markdown",
   "metadata": {},
   "source": [
    "b. Find the part of the website that holds the country information. Hint: This will involve using `find_all` to look for `div` and adding an argument to `find_all` for the particular class. Search in the website source and find the correct class tag. The argument you will add to `find_all` will be of the form: `soup.find_all(\"div\", {\"class\" : <the correct class tag>})`. Name this variable, `countries`."
   ]
  },
  {
   "cell_type": "code",
   "execution_count": 29,
   "metadata": {},
   "outputs": [],
   "source": [
    "## Write answer here"
   ]
  },
  {
   "cell_type": "markdown",
   "metadata": {},
   "source": [
    "c. Note that the output of `countries` is a `BeautifulSoup` object, but you can turn it into a string. Loop over `countries` and in each iteration coerce it into a string. So if you do the loop like this: `for i in countries:...`, in the loop use `str(i)`.\n",
    "\n",
    "Use this loop to find the information for Andorra and print it out.\n",
    "\n",
    "Extra Credit: Do another `find_all` to find the part of the html that contains the capital, population and area information."
   ]
  },
  {
   "cell_type": "code",
   "execution_count": 30,
   "metadata": {},
   "outputs": [],
   "source": [
    "## Write answer here"
   ]
  },
  {
   "cell_type": "markdown",
   "metadata": {},
   "source": [
    "**A lot of Extra Credit** +10: Output a dataframe with an index of the country name and variables, `capital`, `population` and `area`. Make sure to convert all numbers to number types and to clean strings so they do not have whitespace."
   ]
  },
  {
   "cell_type": "code",
   "execution_count": 31,
   "metadata": {},
   "outputs": [],
   "source": [
    "## Write answer here"
   ]
  },
  {
   "cell_type": "markdown",
   "metadata": {},
   "source": [
    "## Section 4: Geopandas\n",
    "\n",
    "For this section, you will be given a map of the world. Calculate the centroid of each country and plot it on the map with the world with `color='red'`. Hint: You may need to change the CRS and create a matplotlib figure and axis object."
   ]
  },
  {
   "cell_type": "code",
   "execution_count": null,
   "metadata": {},
   "outputs": [],
   "source": [
    "world = gpd.read_file(gpd.datasets.get_path(\"naturalearth_lowres\"))\n",
    "\n",
    "## Write answer here"
   ]
  }
 ],
 "metadata": {
  "kernelspec": {
   "display_name": "base",
   "language": "python",
   "name": "python3"
  },
  "language_info": {
   "codemirror_mode": {
    "name": "ipython",
    "version": 3
   },
   "file_extension": ".py",
   "mimetype": "text/x-python",
   "name": "python",
   "nbconvert_exporter": "python",
   "pygments_lexer": "ipython3",
   "version": "3.9.13"
  }
 },
 "nbformat": 4,
 "nbformat_minor": 2
}
