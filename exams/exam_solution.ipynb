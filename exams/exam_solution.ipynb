{
 "cells": [
  {
   "cell_type": "markdown",
   "metadata": {},
   "source": [
    "# Midterm Exam\n",
    "\n",
    "# AEM6850\n",
    "\n",
    "## Instructions\n",
    "\n",
    "This test will be out of 100 points. Each section is graded equally. There are extra credit questions worth +3 points on your grade and one extra credit question worth +10 points on your grade.\n",
    "\n",
    "For each question, write your answer in the designated code cell. You can create extra code cells if you need them.\n",
    "\n",
    "At the end of the exam, make sure that the whole notebook can be run without errors.\n",
    "\n",
    "For certain questions, you can actually test if you get the right answer. Extra credit will be given to those that show extra code to test their answer.\n",
    "\n",
    "**Note: Some questions may require you to answer with text and analysis. In that case you will be given a markdown cell to answer.**\n",
    "\n",
    "**Note: For each question, make sure to print out your final answer.**\n",
    "\n",
    "**Note:** "
   ]
  },
  {
   "cell_type": "markdown",
   "metadata": {},
   "source": [
    "## Section 1: Python Basics"
   ]
  },
  {
   "cell_type": "markdown",
   "metadata": {},
   "source": [
    "1. You are given a tuple of numbers, `(1,2,3,4)`. \n",
    "\n",
    "a. Assign the tuple to the variable `x`.\n",
    "\n"
   ]
  },
  {
   "cell_type": "code",
   "execution_count": 7,
   "metadata": {},
   "outputs": [
    {
     "name": "stdout",
     "output_type": "stream",
     "text": [
      "(1, 2, 3, 4)\n"
     ]
    }
   ],
   "source": [
    "## Write answer here\n",
    "x = (1,2,3,4)\n",
    "\n",
    "print(x)"
   ]
  },
  {
   "cell_type": "markdown",
   "metadata": {},
   "source": [
    "b. Is `x` mutable or immutable? What does it mean to be mutable or immutable. Answer in your own words."
   ]
  },
  {
   "cell_type": "markdown",
   "metadata": {},
   "source": [
    "*Write answer here*"
   ]
  },
  {
   "cell_type": "markdown",
   "metadata": {},
   "source": [
    "c. Add the number `3` to the end of the tuple without changing the tuple to a different python type. Call this variable `x_new`"
   ]
  },
  {
   "cell_type": "code",
   "execution_count": 8,
   "metadata": {},
   "outputs": [
    {
     "name": "stdout",
     "output_type": "stream",
     "text": [
      "(1, 2, 3, 4, 3)\n"
     ]
    }
   ],
   "source": [
    "# Write answer here\n",
    "\n",
    "x_new = (1,2,3,4) + (3,)\n",
    "\n",
    "print(x_new)"
   ]
  },
  {
   "cell_type": "markdown",
   "metadata": {},
   "source": [
    "d. Add the number `3` to the tuple by changing its type to perform an operation and then turning it back into a tuple."
   ]
  },
  {
   "cell_type": "code",
   "execution_count": 9,
   "metadata": {},
   "outputs": [
    {
     "name": "stdout",
     "output_type": "stream",
     "text": [
      "(1, 2, 3, 4, 3)\n"
     ]
    }
   ],
   "source": [
    "# Write answer here\n",
    "\n",
    "x_aux = list(x)\n",
    "\n",
    "x_aux.append(3)\n",
    "\n",
    "x = tuple(x_aux)\n",
    "\n",
    "print(x)"
   ]
  },
  {
   "cell_type": "markdown",
   "metadata": {},
   "source": [
    "2. You are given a loop:\n",
    "\n",
    "```python\n",
    "\n",
    "my_list = [1,2,3,4,5]\n",
    "new_list = []\n",
    "\n",
    "for m in my_list:\n",
    "    new_list.append(m*2)\n",
    "\n",
    "print(new_list)\n",
    "\n",
    "```\n",
    "\n",
    "Rewrite this loop using a list comprehension."
   ]
  },
  {
   "cell_type": "code",
   "execution_count": 10,
   "metadata": {},
   "outputs": [
    {
     "name": "stdout",
     "output_type": "stream",
     "text": [
      "[2, 4, 6, 8, 10]\n"
     ]
    }
   ],
   "source": [
    "## Write answer here\n",
    "\n",
    "my_list = [1,2,3,4,5]\n",
    "new_list = []\n",
    "\n",
    "for m in my_list:\n",
    "    new_list.append(m*2)\n",
    "    \n",
    "print(new_list)"
   ]
  },
  {
   "cell_type": "code",
   "execution_count": 11,
   "metadata": {},
   "outputs": [
    {
     "name": "stdout",
     "output_type": "stream",
     "text": [
      "[2, 4, 6, 8, 10]\n"
     ]
    }
   ],
   "source": [
    "new_list = [m*2 for m in my_list]\n",
    "print(new_list)"
   ]
  },
  {
   "cell_type": "markdown",
   "metadata": {},
   "source": [
    "3. You are given a loop:\n",
    "\n",
    "```python\n",
    "my_list = [1,2,3,4,5]\n",
    "\n",
    "new_dict = {}\n",
    "\n",
    "for i, m in enumerate(my_list):\n",
    "    new_dict[i] = m*2\n",
    "\n",
    "print(new_dict)\n",
    "```\n",
    "\n",
    "Rewrite this loop as a *dictionary* comprehension"
   ]
  },
  {
   "cell_type": "code",
   "execution_count": 12,
   "metadata": {},
   "outputs": [
    {
     "name": "stdout",
     "output_type": "stream",
     "text": [
      "{0: 2, 1: 4, 2: 6, 3: 8, 4: 10}\n"
     ]
    }
   ],
   "source": [
    "## Write answer here\n",
    "\n",
    "my_list = [1,2,3,4,5]\n",
    "\n",
    "new_dict = {}\n",
    "\n",
    "for i, m in enumerate(my_list):\n",
    "    new_dict[i] = m*2\n",
    "\n",
    "print(new_dict)"
   ]
  },
  {
   "cell_type": "code",
   "execution_count": 13,
   "metadata": {},
   "outputs": [
    {
     "name": "stdout",
     "output_type": "stream",
     "text": [
      "{0: 2, 1: 4, 2: 6, 3: 8, 4: 10}\n"
     ]
    }
   ],
   "source": [
    "new_dict = {i:m*2 for i,m in enumerate(my_list)}\n",
    "\n",
    "print(new_dict)"
   ]
  },
  {
   "cell_type": "markdown",
   "metadata": {},
   "source": [
    "4. Construct a dictionary with keys: `\"alpha\", \"beta\", \"gamma\", \"delta\"` and values corresponding to the number of letters in each key. Name it `greek_dict`."
   ]
  },
  {
   "cell_type": "code",
   "execution_count": 14,
   "metadata": {},
   "outputs": [
    {
     "name": "stdout",
     "output_type": "stream",
     "text": [
      "{'alpha': 5, 'beta': 4, 'gamma': 5, 'delta': 5}\n"
     ]
    }
   ],
   "source": [
    "## Write answer here\n",
    "greek_dict = {k:len(k) for k in [\"alpha\", \"beta\", \"gamma\", \"delta\"]}\n",
    "print(greek_dict)"
   ]
  },
  {
   "cell_type": "markdown",
   "metadata": {},
   "source": [
    "5. You are given a function:\n",
    "\n",
    "```python\n",
    "\n",
    "def f(x):\n",
    "    y = x**2\n",
    "    z = y+x\n",
    "    return z\n",
    "\n",
    "```\n",
    "\n",
    "Rewrite this function as a lambda function."
   ]
  },
  {
   "cell_type": "code",
   "execution_count": 15,
   "metadata": {},
   "outputs": [],
   "source": [
    "## Write answer here\n",
    "\n",
    "f_lambda = lambda x: (x**2)+x "
   ]
  },
  {
   "cell_type": "code",
   "execution_count": 16,
   "metadata": {},
   "outputs": [],
   "source": [
    "def f(x):\n",
    "    y = x**2\n",
    "    z = y+x\n",
    "    return z\n",
    "\n",
    "## Check if correct\n",
    "\n",
    "check_if_true = []\n",
    "\n",
    "for i in range(100):\n",
    "    check_if_true.append(f(i) == f_lambda(i))"
   ]
  },
  {
   "cell_type": "code",
   "execution_count": 17,
   "metadata": {},
   "outputs": [
    {
     "name": "stdout",
     "output_type": "stream",
     "text": [
      "[True, True, True, True, True, True, True, True, True, True, True, True, True, True, True, True, True, True, True, True, True, True, True, True, True, True, True, True, True, True, True, True, True, True, True, True, True, True, True, True, True, True, True, True, True, True, True, True, True, True, True, True, True, True, True, True, True, True, True, True, True, True, True, True, True, True, True, True, True, True, True, True, True, True, True, True, True, True, True, True, True, True, True, True, True, True, True, True, True, True, True, True, True, True, True, True, True, True, True, True]\n"
     ]
    }
   ],
   "source": [
    "print(check_if_true)"
   ]
  },
  {
   "cell_type": "markdown",
   "metadata": {},
   "source": [
    "6. You are given a dictionary:\n",
    "    \n",
    "```python\n",
    "primary_colors = {'blue' : [0,0,255], 'green' : [0,255,0], 'red' : [255,0,0]}\n",
    "```\n",
    "\n",
    "This dictionary defines the RGB code for the colors, blue, green and red, respectively.\n",
    "\n",
    "a. Use `map` to add the numbers in each of these lists together, by each index (so primary_colors['blue'][0] + primary_colors['green'][0] + primary_colors['red'][0], and so on for indices 1, and 2). Hint: remember that `map` returns an object, so you have to convert it to a list to see the output."
   ]
  },
  {
   "cell_type": "code",
   "execution_count": 18,
   "metadata": {},
   "outputs": [
    {
     "name": "stdout",
     "output_type": "stream",
     "text": [
      "[255, 255, 255]\n"
     ]
    }
   ],
   "source": [
    "## Write answer here\n",
    "primary_colors = {'blue' : [0,0,255], 'green' : [0,255,0], 'red' : [255,0,0]}\n",
    "\n",
    "print(list(map(lambda x,y,z: x+y+z, \n",
    "               primary_colors['blue'], primary_colors['green'], primary_colors['red'])))"
   ]
  },
  {
   "cell_type": "markdown",
   "metadata": {},
   "source": [
    "b. Construct a function, called `color_choice` that takes a string parameter, `color`, which can be either `red`, `green` or `blue` and outputs the RGB code of input colors as a list. Use if-statements for the parameter `color` to output the correct list. "
   ]
  },
  {
   "cell_type": "code",
   "execution_count": 19,
   "metadata": {},
   "outputs": [],
   "source": [
    "## Write answer here\n",
    "def color_choice(color):\n",
    "    if color=='blue':\n",
    "        return [0,0,255]\n",
    "    elif color == 'green':\n",
    "        return [0,255,0]\n",
    "    else:\n",
    "        return [255,0,0]"
   ]
  },
  {
   "cell_type": "markdown",
   "metadata": {},
   "source": [
    "d. Construct this function again, but this time, by accessing the `primary_colors` variable. Hint: You should use slice notation on the dictionary."
   ]
  },
  {
   "cell_type": "code",
   "execution_count": 20,
   "metadata": {},
   "outputs": [],
   "source": [
    "## Write answer here\n",
    "\n",
    "def color_choice(color):\n",
    "    return primary_colors[color]"
   ]
  },
  {
   "cell_type": "markdown",
   "metadata": {},
   "source": [
    "Extra Credit: Rewrite the function from d., but use appropriate type hints in the definition of the function."
   ]
  },
  {
   "cell_type": "code",
   "execution_count": 21,
   "metadata": {},
   "outputs": [],
   "source": [
    "## Write answer here\n",
    "\n",
    "def color_choice(color : str) -> list:\n",
    "    return primary_colors[color]"
   ]
  },
  {
   "cell_type": "markdown",
   "metadata": {},
   "source": [
    "## Section 2: Numpy and Pandas"
   ]
  },
  {
   "cell_type": "markdown",
   "metadata": {},
   "source": [
    "1. Import the `numpy` library and call it `np`. Import the `pandas` library and call it `pd`"
   ]
  },
  {
   "cell_type": "code",
   "execution_count": 192,
   "metadata": {},
   "outputs": [],
   "source": [
    "## Write answer here\n",
    "\n",
    "import numpy as np\n",
    "import pandas as pd\n",
    "import seaborn as sns\n",
    "from numba import jit\n",
    "import plotly_express as px\n",
    "import requests\n",
    "from bs4 import BeautifulSoup\n",
    "import geopandas as gpd\n",
    "import matplotlib.pyplot as plt"
   ]
  },
  {
   "cell_type": "markdown",
   "metadata": {},
   "source": [
    "2. Create a matrix of normal random variables, with seed `1234`, with `loc` (or mean)=1, and `scale` (or sigma) =3, with `size=(100,100)`. Assign it to the variable `X`."
   ]
  },
  {
   "cell_type": "code",
   "execution_count": 23,
   "metadata": {},
   "outputs": [
    {
     "name": "stdout",
     "output_type": "stream",
     "text": [
      "[[-3.81151042  1.19229974  3.22267389 ...  3.89215918  5.124336\n",
      "  -0.47384859]\n",
      " [ 7.76177638  1.48484259  3.50133644 ...  2.124151   -0.93882482\n",
      "   7.0530521 ]\n",
      " [ 3.19356602  0.31105883  7.43233595 ... -4.09593555  0.07649024\n",
      "  -0.95339985]\n",
      " ...\n",
      " [-2.0757017   1.8220138  -1.37646574 ...  0.38415229 -1.6771291\n",
      "   2.15959174]\n",
      " [ 4.98375145 -1.65137131  2.43546278 ...  1.2833379   0.2642231\n",
      "   4.61851847]\n",
      " [-0.76161945  4.31173188 -4.23041046 ...  3.46491647 -0.49974132\n",
      "   4.53413904]]\n"
     ]
    }
   ],
   "source": [
    "## Write answer here\n",
    "\n",
    "rng = np.random.default_rng(seed=1234)\n",
    "\n",
    "X = rng.normal(1,3,size=(100,100))\n",
    "\n",
    "print(X)"
   ]
  },
  {
   "cell_type": "markdown",
   "metadata": {},
   "source": [
    "3. Create a identity matrix of the same shape as `X`. Name it `I`."
   ]
  },
  {
   "cell_type": "code",
   "execution_count": 24,
   "metadata": {},
   "outputs": [
    {
     "name": "stdout",
     "output_type": "stream",
     "text": [
      "[[1. 0. 0. ... 0. 0. 0.]\n",
      " [0. 1. 0. ... 0. 0. 0.]\n",
      " [0. 0. 1. ... 0. 0. 0.]\n",
      " ...\n",
      " [0. 0. 0. ... 1. 0. 0.]\n",
      " [0. 0. 0. ... 0. 1. 0.]\n",
      " [0. 0. 0. ... 0. 0. 1.]]\n"
     ]
    }
   ],
   "source": [
    "## Write answer here.\n",
    "\n",
    "I = np.identity(100)\n",
    "\n",
    "print(I)"
   ]
  },
  {
   "cell_type": "markdown",
   "metadata": {},
   "source": [
    "4. Matrix multiply X by I."
   ]
  },
  {
   "cell_type": "code",
   "execution_count": 25,
   "metadata": {},
   "outputs": [
    {
     "data": {
      "text/plain": [
       "array([[-3.81151042,  1.19229974,  3.22267389, ...,  3.89215918,\n",
       "         5.124336  , -0.47384859],\n",
       "       [ 7.76177638,  1.48484259,  3.50133644, ...,  2.124151  ,\n",
       "        -0.93882482,  7.0530521 ],\n",
       "       [ 3.19356602,  0.31105883,  7.43233595, ..., -4.09593555,\n",
       "         0.07649024, -0.95339985],\n",
       "       ...,\n",
       "       [-2.0757017 ,  1.8220138 , -1.37646574, ...,  0.38415229,\n",
       "        -1.6771291 ,  2.15959174],\n",
       "       [ 4.98375145, -1.65137131,  2.43546278, ...,  1.2833379 ,\n",
       "         0.2642231 ,  4.61851847],\n",
       "       [-0.76161945,  4.31173188, -4.23041046, ...,  3.46491647,\n",
       "        -0.49974132,  4.53413904]])"
      ]
     },
     "execution_count": 25,
     "metadata": {},
     "output_type": "execute_result"
    }
   ],
   "source": [
    "## Write answer here\n",
    "\n",
    "X @ I"
   ]
  },
  {
   "cell_type": "markdown",
   "metadata": {},
   "source": [
    "5. Take the matrix inverse of `I`."
   ]
  },
  {
   "cell_type": "code",
   "execution_count": 26,
   "metadata": {},
   "outputs": [
    {
     "data": {
      "text/plain": [
       "array([[1., 0., 0., ..., 0., 0., 0.],\n",
       "       [0., 1., 0., ..., 0., 0., 0.],\n",
       "       [0., 0., 1., ..., 0., 0., 0.],\n",
       "       ...,\n",
       "       [0., 0., 0., ..., 1., 0., 0.],\n",
       "       [0., 0., 0., ..., 0., 1., 0.],\n",
       "       [0., 0., 0., ..., 0., 0., 1.]])"
      ]
     },
     "execution_count": 26,
     "metadata": {},
     "output_type": "execute_result"
    }
   ],
   "source": [
    "## Write answer here\n",
    "\n",
    "np.linalg.inv(I)"
   ]
  },
  {
   "cell_type": "markdown",
   "metadata": {},
   "source": [
    "6. Convert this matrix into a pandas dataframe and drop columns 4-100. Name this dataframe `raw_df`."
   ]
  },
  {
   "cell_type": "code",
   "execution_count": 27,
   "metadata": {},
   "outputs": [
    {
     "data": {
      "text/html": [
       "<div>\n",
       "<style scoped>\n",
       "    .dataframe tbody tr th:only-of-type {\n",
       "        vertical-align: middle;\n",
       "    }\n",
       "\n",
       "    .dataframe tbody tr th {\n",
       "        vertical-align: top;\n",
       "    }\n",
       "\n",
       "    .dataframe thead th {\n",
       "        text-align: right;\n",
       "    }\n",
       "</style>\n",
       "<table border=\"1\" class=\"dataframe\">\n",
       "  <thead>\n",
       "    <tr style=\"text-align: right;\">\n",
       "      <th></th>\n",
       "      <th>0</th>\n",
       "      <th>1</th>\n",
       "      <th>2</th>\n",
       "      <th>3</th>\n",
       "    </tr>\n",
       "  </thead>\n",
       "  <tbody>\n",
       "    <tr>\n",
       "      <th>0</th>\n",
       "      <td>-3.811510</td>\n",
       "      <td>1.192300</td>\n",
       "      <td>3.222674</td>\n",
       "      <td>1.457858</td>\n",
       "    </tr>\n",
       "    <tr>\n",
       "      <th>1</th>\n",
       "      <td>7.761776</td>\n",
       "      <td>1.484843</td>\n",
       "      <td>3.501336</td>\n",
       "      <td>-3.740328</td>\n",
       "    </tr>\n",
       "    <tr>\n",
       "      <th>2</th>\n",
       "      <td>3.193566</td>\n",
       "      <td>0.311059</td>\n",
       "      <td>7.432336</td>\n",
       "      <td>2.191438</td>\n",
       "    </tr>\n",
       "    <tr>\n",
       "      <th>3</th>\n",
       "      <td>-2.553791</td>\n",
       "      <td>-0.063548</td>\n",
       "      <td>5.101937</td>\n",
       "      <td>6.100366</td>\n",
       "    </tr>\n",
       "    <tr>\n",
       "      <th>4</th>\n",
       "      <td>3.209992</td>\n",
       "      <td>0.812609</td>\n",
       "      <td>-0.221095</td>\n",
       "      <td>5.100957</td>\n",
       "    </tr>\n",
       "    <tr>\n",
       "      <th>...</th>\n",
       "      <td>...</td>\n",
       "      <td>...</td>\n",
       "      <td>...</td>\n",
       "      <td>...</td>\n",
       "    </tr>\n",
       "    <tr>\n",
       "      <th>95</th>\n",
       "      <td>-6.129083</td>\n",
       "      <td>-1.551463</td>\n",
       "      <td>2.163984</td>\n",
       "      <td>3.039397</td>\n",
       "    </tr>\n",
       "    <tr>\n",
       "      <th>96</th>\n",
       "      <td>3.270816</td>\n",
       "      <td>-2.291168</td>\n",
       "      <td>-3.365927</td>\n",
       "      <td>-0.911490</td>\n",
       "    </tr>\n",
       "    <tr>\n",
       "      <th>97</th>\n",
       "      <td>-2.075702</td>\n",
       "      <td>1.822014</td>\n",
       "      <td>-1.376466</td>\n",
       "      <td>-0.849247</td>\n",
       "    </tr>\n",
       "    <tr>\n",
       "      <th>98</th>\n",
       "      <td>4.983751</td>\n",
       "      <td>-1.651371</td>\n",
       "      <td>2.435463</td>\n",
       "      <td>2.167861</td>\n",
       "    </tr>\n",
       "    <tr>\n",
       "      <th>99</th>\n",
       "      <td>-0.761619</td>\n",
       "      <td>4.311732</td>\n",
       "      <td>-4.230410</td>\n",
       "      <td>1.144478</td>\n",
       "    </tr>\n",
       "  </tbody>\n",
       "</table>\n",
       "<p>100 rows × 4 columns</p>\n",
       "</div>"
      ],
      "text/plain": [
       "           0         1         2         3\n",
       "0  -3.811510  1.192300  3.222674  1.457858\n",
       "1   7.761776  1.484843  3.501336 -3.740328\n",
       "2   3.193566  0.311059  7.432336  2.191438\n",
       "3  -2.553791 -0.063548  5.101937  6.100366\n",
       "4   3.209992  0.812609 -0.221095  5.100957\n",
       "..       ...       ...       ...       ...\n",
       "95 -6.129083 -1.551463  2.163984  3.039397\n",
       "96  3.270816 -2.291168 -3.365927 -0.911490\n",
       "97 -2.075702  1.822014 -1.376466 -0.849247\n",
       "98  4.983751 -1.651371  2.435463  2.167861\n",
       "99 -0.761619  4.311732 -4.230410  1.144478\n",
       "\n",
       "[100 rows x 4 columns]"
      ]
     },
     "execution_count": 27,
     "metadata": {},
     "output_type": "execute_result"
    }
   ],
   "source": [
    "## Write answer here\n",
    "raw_df = pd.DataFrame(X).drop(columns = range(4,100))\n",
    "\n",
    "raw_df"
   ]
  },
  {
   "cell_type": "markdown",
   "metadata": {},
   "source": [
    "7. Rename columns 0,1,2,3 to `consumption`, `income`, `expenditure` and `health_status`. Call this `df`."
   ]
  },
  {
   "cell_type": "code",
   "execution_count": 28,
   "metadata": {},
   "outputs": [
    {
     "data": {
      "text/html": [
       "<div>\n",
       "<style scoped>\n",
       "    .dataframe tbody tr th:only-of-type {\n",
       "        vertical-align: middle;\n",
       "    }\n",
       "\n",
       "    .dataframe tbody tr th {\n",
       "        vertical-align: top;\n",
       "    }\n",
       "\n",
       "    .dataframe thead th {\n",
       "        text-align: right;\n",
       "    }\n",
       "</style>\n",
       "<table border=\"1\" class=\"dataframe\">\n",
       "  <thead>\n",
       "    <tr style=\"text-align: right;\">\n",
       "      <th></th>\n",
       "      <th>consumption</th>\n",
       "      <th>income</th>\n",
       "      <th>expenditure</th>\n",
       "      <th>health_status</th>\n",
       "    </tr>\n",
       "  </thead>\n",
       "  <tbody>\n",
       "    <tr>\n",
       "      <th>0</th>\n",
       "      <td>-3.811510</td>\n",
       "      <td>1.192300</td>\n",
       "      <td>3.222674</td>\n",
       "      <td>1.457858</td>\n",
       "    </tr>\n",
       "    <tr>\n",
       "      <th>1</th>\n",
       "      <td>7.761776</td>\n",
       "      <td>1.484843</td>\n",
       "      <td>3.501336</td>\n",
       "      <td>-3.740328</td>\n",
       "    </tr>\n",
       "    <tr>\n",
       "      <th>2</th>\n",
       "      <td>3.193566</td>\n",
       "      <td>0.311059</td>\n",
       "      <td>7.432336</td>\n",
       "      <td>2.191438</td>\n",
       "    </tr>\n",
       "    <tr>\n",
       "      <th>3</th>\n",
       "      <td>-2.553791</td>\n",
       "      <td>-0.063548</td>\n",
       "      <td>5.101937</td>\n",
       "      <td>6.100366</td>\n",
       "    </tr>\n",
       "    <tr>\n",
       "      <th>4</th>\n",
       "      <td>3.209992</td>\n",
       "      <td>0.812609</td>\n",
       "      <td>-0.221095</td>\n",
       "      <td>5.100957</td>\n",
       "    </tr>\n",
       "    <tr>\n",
       "      <th>...</th>\n",
       "      <td>...</td>\n",
       "      <td>...</td>\n",
       "      <td>...</td>\n",
       "      <td>...</td>\n",
       "    </tr>\n",
       "    <tr>\n",
       "      <th>95</th>\n",
       "      <td>-6.129083</td>\n",
       "      <td>-1.551463</td>\n",
       "      <td>2.163984</td>\n",
       "      <td>3.039397</td>\n",
       "    </tr>\n",
       "    <tr>\n",
       "      <th>96</th>\n",
       "      <td>3.270816</td>\n",
       "      <td>-2.291168</td>\n",
       "      <td>-3.365927</td>\n",
       "      <td>-0.911490</td>\n",
       "    </tr>\n",
       "    <tr>\n",
       "      <th>97</th>\n",
       "      <td>-2.075702</td>\n",
       "      <td>1.822014</td>\n",
       "      <td>-1.376466</td>\n",
       "      <td>-0.849247</td>\n",
       "    </tr>\n",
       "    <tr>\n",
       "      <th>98</th>\n",
       "      <td>4.983751</td>\n",
       "      <td>-1.651371</td>\n",
       "      <td>2.435463</td>\n",
       "      <td>2.167861</td>\n",
       "    </tr>\n",
       "    <tr>\n",
       "      <th>99</th>\n",
       "      <td>-0.761619</td>\n",
       "      <td>4.311732</td>\n",
       "      <td>-4.230410</td>\n",
       "      <td>1.144478</td>\n",
       "    </tr>\n",
       "  </tbody>\n",
       "</table>\n",
       "<p>100 rows × 4 columns</p>\n",
       "</div>"
      ],
      "text/plain": [
       "    consumption    income  expenditure  health_status\n",
       "0     -3.811510  1.192300     3.222674       1.457858\n",
       "1      7.761776  1.484843     3.501336      -3.740328\n",
       "2      3.193566  0.311059     7.432336       2.191438\n",
       "3     -2.553791 -0.063548     5.101937       6.100366\n",
       "4      3.209992  0.812609    -0.221095       5.100957\n",
       "..          ...       ...          ...            ...\n",
       "95    -6.129083 -1.551463     2.163984       3.039397\n",
       "96     3.270816 -2.291168    -3.365927      -0.911490\n",
       "97    -2.075702  1.822014    -1.376466      -0.849247\n",
       "98     4.983751 -1.651371     2.435463       2.167861\n",
       "99    -0.761619  4.311732    -4.230410       1.144478\n",
       "\n",
       "[100 rows x 4 columns]"
      ]
     },
     "execution_count": 28,
     "metadata": {},
     "output_type": "execute_result"
    }
   ],
   "source": [
    "## Write answer here\n",
    "\n",
    "df = raw_df.rename(\n",
    "    {0 : 'consumption',\n",
    "     1: 'income',\n",
    "     2: 'expenditure',\n",
    "     3 : 'health_status'},\n",
    "    axis=1\n",
    ")\n",
    "\n",
    "df"
   ]
  },
  {
   "cell_type": "markdown",
   "metadata": {},
   "source": [
    "8. Assign a new variable to `df` that will be called `net_income`, defined as `income - expenditure - consumption`. Feel free to overwrite `df`, i.e. `df = df.assign(...)`."
   ]
  },
  {
   "cell_type": "code",
   "execution_count": 29,
   "metadata": {},
   "outputs": [
    {
     "data": {
      "text/html": [
       "<div>\n",
       "<style scoped>\n",
       "    .dataframe tbody tr th:only-of-type {\n",
       "        vertical-align: middle;\n",
       "    }\n",
       "\n",
       "    .dataframe tbody tr th {\n",
       "        vertical-align: top;\n",
       "    }\n",
       "\n",
       "    .dataframe thead th {\n",
       "        text-align: right;\n",
       "    }\n",
       "</style>\n",
       "<table border=\"1\" class=\"dataframe\">\n",
       "  <thead>\n",
       "    <tr style=\"text-align: right;\">\n",
       "      <th></th>\n",
       "      <th>consumption</th>\n",
       "      <th>income</th>\n",
       "      <th>expenditure</th>\n",
       "      <th>health_status</th>\n",
       "      <th>net_income</th>\n",
       "    </tr>\n",
       "  </thead>\n",
       "  <tbody>\n",
       "    <tr>\n",
       "      <th>0</th>\n",
       "      <td>-3.811510</td>\n",
       "      <td>1.192300</td>\n",
       "      <td>3.222674</td>\n",
       "      <td>1.457858</td>\n",
       "      <td>1.781136</td>\n",
       "    </tr>\n",
       "    <tr>\n",
       "      <th>1</th>\n",
       "      <td>7.761776</td>\n",
       "      <td>1.484843</td>\n",
       "      <td>3.501336</td>\n",
       "      <td>-3.740328</td>\n",
       "      <td>-9.778270</td>\n",
       "    </tr>\n",
       "    <tr>\n",
       "      <th>2</th>\n",
       "      <td>3.193566</td>\n",
       "      <td>0.311059</td>\n",
       "      <td>7.432336</td>\n",
       "      <td>2.191438</td>\n",
       "      <td>-10.314843</td>\n",
       "    </tr>\n",
       "    <tr>\n",
       "      <th>3</th>\n",
       "      <td>-2.553791</td>\n",
       "      <td>-0.063548</td>\n",
       "      <td>5.101937</td>\n",
       "      <td>6.100366</td>\n",
       "      <td>-2.611694</td>\n",
       "    </tr>\n",
       "    <tr>\n",
       "      <th>4</th>\n",
       "      <td>3.209992</td>\n",
       "      <td>0.812609</td>\n",
       "      <td>-0.221095</td>\n",
       "      <td>5.100957</td>\n",
       "      <td>-2.176289</td>\n",
       "    </tr>\n",
       "    <tr>\n",
       "      <th>...</th>\n",
       "      <td>...</td>\n",
       "      <td>...</td>\n",
       "      <td>...</td>\n",
       "      <td>...</td>\n",
       "      <td>...</td>\n",
       "    </tr>\n",
       "    <tr>\n",
       "      <th>95</th>\n",
       "      <td>-6.129083</td>\n",
       "      <td>-1.551463</td>\n",
       "      <td>2.163984</td>\n",
       "      <td>3.039397</td>\n",
       "      <td>2.413636</td>\n",
       "    </tr>\n",
       "    <tr>\n",
       "      <th>96</th>\n",
       "      <td>3.270816</td>\n",
       "      <td>-2.291168</td>\n",
       "      <td>-3.365927</td>\n",
       "      <td>-0.911490</td>\n",
       "      <td>-2.196057</td>\n",
       "    </tr>\n",
       "    <tr>\n",
       "      <th>97</th>\n",
       "      <td>-2.075702</td>\n",
       "      <td>1.822014</td>\n",
       "      <td>-1.376466</td>\n",
       "      <td>-0.849247</td>\n",
       "      <td>5.274181</td>\n",
       "    </tr>\n",
       "    <tr>\n",
       "      <th>98</th>\n",
       "      <td>4.983751</td>\n",
       "      <td>-1.651371</td>\n",
       "      <td>2.435463</td>\n",
       "      <td>2.167861</td>\n",
       "      <td>-9.070586</td>\n",
       "    </tr>\n",
       "    <tr>\n",
       "      <th>99</th>\n",
       "      <td>-0.761619</td>\n",
       "      <td>4.311732</td>\n",
       "      <td>-4.230410</td>\n",
       "      <td>1.144478</td>\n",
       "      <td>9.303762</td>\n",
       "    </tr>\n",
       "  </tbody>\n",
       "</table>\n",
       "<p>100 rows × 5 columns</p>\n",
       "</div>"
      ],
      "text/plain": [
       "    consumption    income  expenditure  health_status  net_income\n",
       "0     -3.811510  1.192300     3.222674       1.457858    1.781136\n",
       "1      7.761776  1.484843     3.501336      -3.740328   -9.778270\n",
       "2      3.193566  0.311059     7.432336       2.191438  -10.314843\n",
       "3     -2.553791 -0.063548     5.101937       6.100366   -2.611694\n",
       "4      3.209992  0.812609    -0.221095       5.100957   -2.176289\n",
       "..          ...       ...          ...            ...         ...\n",
       "95    -6.129083 -1.551463     2.163984       3.039397    2.413636\n",
       "96     3.270816 -2.291168    -3.365927      -0.911490   -2.196057\n",
       "97    -2.075702  1.822014    -1.376466      -0.849247    5.274181\n",
       "98     4.983751 -1.651371     2.435463       2.167861   -9.070586\n",
       "99    -0.761619  4.311732    -4.230410       1.144478    9.303762\n",
       "\n",
       "[100 rows x 5 columns]"
      ]
     },
     "execution_count": 29,
     "metadata": {},
     "output_type": "execute_result"
    }
   ],
   "source": [
    "## Write answer here\n",
    "\n",
    "df = df.assign(net_income = lambda df: df['income'] - df['expenditure'] - df['consumption'])\n",
    "\n",
    "df"
   ]
  },
  {
   "cell_type": "markdown",
   "metadata": {},
   "source": [
    "9. Assign a variable to `df`, called `healthy`, defined as `True` if `health_status >1` and `False` otherwise."
   ]
  },
  {
   "cell_type": "code",
   "execution_count": 53,
   "metadata": {},
   "outputs": [
    {
     "data": {
      "text/html": [
       "<div>\n",
       "<style scoped>\n",
       "    .dataframe tbody tr th:only-of-type {\n",
       "        vertical-align: middle;\n",
       "    }\n",
       "\n",
       "    .dataframe tbody tr th {\n",
       "        vertical-align: top;\n",
       "    }\n",
       "\n",
       "    .dataframe thead th {\n",
       "        text-align: right;\n",
       "    }\n",
       "</style>\n",
       "<table border=\"1\" class=\"dataframe\">\n",
       "  <thead>\n",
       "    <tr style=\"text-align: right;\">\n",
       "      <th></th>\n",
       "      <th>consumption</th>\n",
       "      <th>income</th>\n",
       "      <th>expenditure</th>\n",
       "      <th>health_status</th>\n",
       "      <th>net_income</th>\n",
       "      <th>healthy</th>\n",
       "    </tr>\n",
       "  </thead>\n",
       "  <tbody>\n",
       "    <tr>\n",
       "      <th>0</th>\n",
       "      <td>-3.811510</td>\n",
       "      <td>1.192300</td>\n",
       "      <td>3.222674</td>\n",
       "      <td>1.457858</td>\n",
       "      <td>1.781136</td>\n",
       "      <td>True</td>\n",
       "    </tr>\n",
       "    <tr>\n",
       "      <th>1</th>\n",
       "      <td>7.761776</td>\n",
       "      <td>1.484843</td>\n",
       "      <td>3.501336</td>\n",
       "      <td>-3.740328</td>\n",
       "      <td>-9.778270</td>\n",
       "      <td>False</td>\n",
       "    </tr>\n",
       "    <tr>\n",
       "      <th>2</th>\n",
       "      <td>3.193566</td>\n",
       "      <td>0.311059</td>\n",
       "      <td>7.432336</td>\n",
       "      <td>2.191438</td>\n",
       "      <td>-10.314843</td>\n",
       "      <td>True</td>\n",
       "    </tr>\n",
       "    <tr>\n",
       "      <th>3</th>\n",
       "      <td>-2.553791</td>\n",
       "      <td>-0.063548</td>\n",
       "      <td>5.101937</td>\n",
       "      <td>6.100366</td>\n",
       "      <td>-2.611694</td>\n",
       "      <td>True</td>\n",
       "    </tr>\n",
       "    <tr>\n",
       "      <th>4</th>\n",
       "      <td>3.209992</td>\n",
       "      <td>0.812609</td>\n",
       "      <td>-0.221095</td>\n",
       "      <td>5.100957</td>\n",
       "      <td>-2.176289</td>\n",
       "      <td>True</td>\n",
       "    </tr>\n",
       "    <tr>\n",
       "      <th>...</th>\n",
       "      <td>...</td>\n",
       "      <td>...</td>\n",
       "      <td>...</td>\n",
       "      <td>...</td>\n",
       "      <td>...</td>\n",
       "      <td>...</td>\n",
       "    </tr>\n",
       "    <tr>\n",
       "      <th>95</th>\n",
       "      <td>-6.129083</td>\n",
       "      <td>-1.551463</td>\n",
       "      <td>2.163984</td>\n",
       "      <td>3.039397</td>\n",
       "      <td>2.413636</td>\n",
       "      <td>True</td>\n",
       "    </tr>\n",
       "    <tr>\n",
       "      <th>96</th>\n",
       "      <td>3.270816</td>\n",
       "      <td>-2.291168</td>\n",
       "      <td>-3.365927</td>\n",
       "      <td>-0.911490</td>\n",
       "      <td>-2.196057</td>\n",
       "      <td>False</td>\n",
       "    </tr>\n",
       "    <tr>\n",
       "      <th>97</th>\n",
       "      <td>-2.075702</td>\n",
       "      <td>1.822014</td>\n",
       "      <td>-1.376466</td>\n",
       "      <td>-0.849247</td>\n",
       "      <td>5.274181</td>\n",
       "      <td>False</td>\n",
       "    </tr>\n",
       "    <tr>\n",
       "      <th>98</th>\n",
       "      <td>4.983751</td>\n",
       "      <td>-1.651371</td>\n",
       "      <td>2.435463</td>\n",
       "      <td>2.167861</td>\n",
       "      <td>-9.070586</td>\n",
       "      <td>True</td>\n",
       "    </tr>\n",
       "    <tr>\n",
       "      <th>99</th>\n",
       "      <td>-0.761619</td>\n",
       "      <td>4.311732</td>\n",
       "      <td>-4.230410</td>\n",
       "      <td>1.144478</td>\n",
       "      <td>9.303762</td>\n",
       "      <td>True</td>\n",
       "    </tr>\n",
       "  </tbody>\n",
       "</table>\n",
       "<p>100 rows × 6 columns</p>\n",
       "</div>"
      ],
      "text/plain": [
       "    consumption    income  expenditure  health_status  net_income  healthy\n",
       "0     -3.811510  1.192300     3.222674       1.457858    1.781136     True\n",
       "1      7.761776  1.484843     3.501336      -3.740328   -9.778270    False\n",
       "2      3.193566  0.311059     7.432336       2.191438  -10.314843     True\n",
       "3     -2.553791 -0.063548     5.101937       6.100366   -2.611694     True\n",
       "4      3.209992  0.812609    -0.221095       5.100957   -2.176289     True\n",
       "..          ...       ...          ...            ...         ...      ...\n",
       "95    -6.129083 -1.551463     2.163984       3.039397    2.413636     True\n",
       "96     3.270816 -2.291168    -3.365927      -0.911490   -2.196057    False\n",
       "97    -2.075702  1.822014    -1.376466      -0.849247    5.274181    False\n",
       "98     4.983751 -1.651371     2.435463       2.167861   -9.070586     True\n",
       "99    -0.761619  4.311732    -4.230410       1.144478    9.303762     True\n",
       "\n",
       "[100 rows x 6 columns]"
      ]
     },
     "execution_count": 53,
     "metadata": {},
     "output_type": "execute_result"
    }
   ],
   "source": [
    "## Write answer here\n",
    "\n",
    "df = df.assign(healthy = lambda df: df['health_status'] > 1)\n",
    "\n",
    "df"
   ]
  },
  {
   "cell_type": "markdown",
   "metadata": {},
   "source": [
    "10. Calculate the mean of `net_income`, grouped by `healthy`. "
   ]
  },
  {
   "cell_type": "code",
   "execution_count": 54,
   "metadata": {},
   "outputs": [
    {
     "data": {
      "text/plain": [
       "healthy\n",
       "False   -1.780588\n",
       "True    -2.202334\n",
       "Name: net_income, dtype: float64"
      ]
     },
     "execution_count": 54,
     "metadata": {},
     "output_type": "execute_result"
    }
   ],
   "source": [
    "## Write answer here\n",
    "\n",
    "df.groupby('healthy')['net_income'].mean()"
   ]
  },
  {
   "cell_type": "markdown",
   "metadata": {},
   "source": [
    "11. Import seaborn as `sns` in the proper code cell. Create a bar graph using `seaborn` that plots `net_income` by `healthy`"
   ]
  },
  {
   "cell_type": "code",
   "execution_count": 64,
   "metadata": {},
   "outputs": [
    {
     "data": {
      "text/plain": [
       "<AxesSubplot:xlabel='healthy', ylabel='net_income'>"
      ]
     },
     "execution_count": 64,
     "metadata": {},
     "output_type": "execute_result"
    },
    {
     "data": {
      "image/png": "[encoded data removed]",
      "text/plain": [
       "<Figure size 640x480 with 1 Axes>"
      ]
     },
     "metadata": {},
     "output_type": "display_data"
    }
   ],
   "source": [
    "## Write answer here\n",
    "\n",
    "sns.barplot(x = 'healthy', y='net_income', data=df)"
   ]
  },
  {
   "cell_type": "markdown",
   "metadata": {},
   "source": [
    "12. Import `jit` from `numba` and create a `numba` function that takes an array input `x` and outputs `x**10`. Call this function `ten_power`. Set `nopython =True`"
   ]
  },
  {
   "cell_type": "code",
   "execution_count": 66,
   "metadata": {},
   "outputs": [],
   "source": [
    "## Write answer here\n",
    "\n",
    "@jit(nopython=True)\n",
    "def ten_power(x):\n",
    "    return x**10"
   ]
  },
  {
   "cell_type": "markdown",
   "metadata": {},
   "source": [
    "13. Create a new variable in `df`, called `net_income_ten` that applies `ten_power` to `net_income`."
   ]
  },
  {
   "cell_type": "code",
   "execution_count": 67,
   "metadata": {},
   "outputs": [
    {
     "data": {
      "text/html": [
       "<div>\n",
       "<style scoped>\n",
       "    .dataframe tbody tr th:only-of-type {\n",
       "        vertical-align: middle;\n",
       "    }\n",
       "\n",
       "    .dataframe tbody tr th {\n",
       "        vertical-align: top;\n",
       "    }\n",
       "\n",
       "    .dataframe thead th {\n",
       "        text-align: right;\n",
       "    }\n",
       "</style>\n",
       "<table border=\"1\" class=\"dataframe\">\n",
       "  <thead>\n",
       "    <tr style=\"text-align: right;\">\n",
       "      <th></th>\n",
       "      <th>consumption</th>\n",
       "      <th>income</th>\n",
       "      <th>expenditure</th>\n",
       "      <th>health_status</th>\n",
       "      <th>net_income</th>\n",
       "      <th>healthy</th>\n",
       "      <th>net_income_ten</th>\n",
       "    </tr>\n",
       "  </thead>\n",
       "  <tbody>\n",
       "    <tr>\n",
       "      <th>0</th>\n",
       "      <td>-3.811510</td>\n",
       "      <td>1.192300</td>\n",
       "      <td>3.222674</td>\n",
       "      <td>1.457858</td>\n",
       "      <td>1.781136</td>\n",
       "      <td>True</td>\n",
       "      <td>3.213449e+02</td>\n",
       "    </tr>\n",
       "    <tr>\n",
       "      <th>1</th>\n",
       "      <td>7.761776</td>\n",
       "      <td>1.484843</td>\n",
       "      <td>3.501336</td>\n",
       "      <td>-3.740328</td>\n",
       "      <td>-9.778270</td>\n",
       "      <td>False</td>\n",
       "      <td>7.991354e+09</td>\n",
       "    </tr>\n",
       "    <tr>\n",
       "      <th>2</th>\n",
       "      <td>3.193566</td>\n",
       "      <td>0.311059</td>\n",
       "      <td>7.432336</td>\n",
       "      <td>2.191438</td>\n",
       "      <td>-10.314843</td>\n",
       "      <td>True</td>\n",
       "      <td>1.363409e+10</td>\n",
       "    </tr>\n",
       "    <tr>\n",
       "      <th>3</th>\n",
       "      <td>-2.553791</td>\n",
       "      <td>-0.063548</td>\n",
       "      <td>5.101937</td>\n",
       "      <td>6.100366</td>\n",
       "      <td>-2.611694</td>\n",
       "      <td>True</td>\n",
       "      <td>1.476463e+04</td>\n",
       "    </tr>\n",
       "    <tr>\n",
       "      <th>4</th>\n",
       "      <td>3.209992</td>\n",
       "      <td>0.812609</td>\n",
       "      <td>-0.221095</td>\n",
       "      <td>5.100957</td>\n",
       "      <td>-2.176289</td>\n",
       "      <td>True</td>\n",
       "      <td>2.383232e+03</td>\n",
       "    </tr>\n",
       "    <tr>\n",
       "      <th>...</th>\n",
       "      <td>...</td>\n",
       "      <td>...</td>\n",
       "      <td>...</td>\n",
       "      <td>...</td>\n",
       "      <td>...</td>\n",
       "      <td>...</td>\n",
       "      <td>...</td>\n",
       "    </tr>\n",
       "    <tr>\n",
       "      <th>95</th>\n",
       "      <td>-6.129083</td>\n",
       "      <td>-1.551463</td>\n",
       "      <td>2.163984</td>\n",
       "      <td>3.039397</td>\n",
       "      <td>2.413636</td>\n",
       "      <td>True</td>\n",
       "      <td>6.709918e+03</td>\n",
       "    </tr>\n",
       "    <tr>\n",
       "      <th>96</th>\n",
       "      <td>3.270816</td>\n",
       "      <td>-2.291168</td>\n",
       "      <td>-3.365927</td>\n",
       "      <td>-0.911490</td>\n",
       "      <td>-2.196057</td>\n",
       "      <td>False</td>\n",
       "      <td>2.608774e+03</td>\n",
       "    </tr>\n",
       "    <tr>\n",
       "      <th>97</th>\n",
       "      <td>-2.075702</td>\n",
       "      <td>1.822014</td>\n",
       "      <td>-1.376466</td>\n",
       "      <td>-0.849247</td>\n",
       "      <td>5.274181</td>\n",
       "      <td>False</td>\n",
       "      <td>1.665522e+07</td>\n",
       "    </tr>\n",
       "    <tr>\n",
       "      <th>98</th>\n",
       "      <td>4.983751</td>\n",
       "      <td>-1.651371</td>\n",
       "      <td>2.435463</td>\n",
       "      <td>2.167861</td>\n",
       "      <td>-9.070586</td>\n",
       "      <td>True</td>\n",
       "      <td>3.770103e+09</td>\n",
       "    </tr>\n",
       "    <tr>\n",
       "      <th>99</th>\n",
       "      <td>-0.761619</td>\n",
       "      <td>4.311732</td>\n",
       "      <td>-4.230410</td>\n",
       "      <td>1.144478</td>\n",
       "      <td>9.303762</td>\n",
       "      <td>True</td>\n",
       "      <td>4.859436e+09</td>\n",
       "    </tr>\n",
       "  </tbody>\n",
       "</table>\n",
       "<p>100 rows × 7 columns</p>\n",
       "</div>"
      ],
      "text/plain": [
       "    consumption    income  expenditure  health_status  net_income  healthy  \\\n",
       "0     -3.811510  1.192300     3.222674       1.457858    1.781136     True   \n",
       "1      7.761776  1.484843     3.501336      -3.740328   -9.778270    False   \n",
       "2      3.193566  0.311059     7.432336       2.191438  -10.314843     True   \n",
       "3     -2.553791 -0.063548     5.101937       6.100366   -2.611694     True   \n",
       "4      3.209992  0.812609    -0.221095       5.100957   -2.176289     True   \n",
       "..          ...       ...          ...            ...         ...      ...   \n",
       "95    -6.129083 -1.551463     2.163984       3.039397    2.413636     True   \n",
       "96     3.270816 -2.291168    -3.365927      -0.911490   -2.196057    False   \n",
       "97    -2.075702  1.822014    -1.376466      -0.849247    5.274181    False   \n",
       "98     4.983751 -1.651371     2.435463       2.167861   -9.070586     True   \n",
       "99    -0.761619  4.311732    -4.230410       1.144478    9.303762     True   \n",
       "\n",
       "    net_income_ten  \n",
       "0     3.213449e+02  \n",
       "1     7.991354e+09  \n",
       "2     1.363409e+10  \n",
       "3     1.476463e+04  \n",
       "4     2.383232e+03  \n",
       "..             ...  \n",
       "95    6.709918e+03  \n",
       "96    2.608774e+03  \n",
       "97    1.665522e+07  \n",
       "98    3.770103e+09  \n",
       "99    4.859436e+09  \n",
       "\n",
       "[100 rows x 7 columns]"
      ]
     },
     "execution_count": 67,
     "metadata": {},
     "output_type": "execute_result"
    }
   ],
   "source": [
    "## Write answer here\n",
    "\n",
    "df.assign(net_income_ten = lambda df: df['net_income'].apply(ten_power))"
   ]
  },
  {
   "cell_type": "markdown",
   "metadata": {},
   "source": [
    "14. You are given a date variable defined below, `dates`. Use this as an index for a new dataframe called `t_df` that has one column called `price_change` with data from a random normal variable with `loc=1`, `scale=3` , `seed=1234` and `size=100`. \n",
    "\n",
    "\n",
    "a. Create a new column that is the *month* of the date you are considering."
   ]
  },
  {
   "cell_type": "code",
   "execution_count": 74,
   "metadata": {},
   "outputs": [
    {
     "data": {
      "text/html": [
       "<div>\n",
       "<style scoped>\n",
       "    .dataframe tbody tr th:only-of-type {\n",
       "        vertical-align: middle;\n",
       "    }\n",
       "\n",
       "    .dataframe tbody tr th {\n",
       "        vertical-align: top;\n",
       "    }\n",
       "\n",
       "    .dataframe thead th {\n",
       "        text-align: right;\n",
       "    }\n",
       "</style>\n",
       "<table border=\"1\" class=\"dataframe\">\n",
       "  <thead>\n",
       "    <tr style=\"text-align: right;\">\n",
       "      <th></th>\n",
       "      <th>price_change</th>\n",
       "      <th>month</th>\n",
       "    </tr>\n",
       "  </thead>\n",
       "  <tbody>\n",
       "    <tr>\n",
       "      <th>2023-01-01 00:00:00.000000000</th>\n",
       "      <td>-2.963639</td>\n",
       "      <td>1</td>\n",
       "    </tr>\n",
       "    <tr>\n",
       "      <th>2023-01-04 16:14:32.727272727</th>\n",
       "      <td>3.119600</td>\n",
       "      <td>1</td>\n",
       "    </tr>\n",
       "    <tr>\n",
       "      <th>2023-01-08 08:29:05.454545454</th>\n",
       "      <td>-0.033625</td>\n",
       "      <td>1</td>\n",
       "    </tr>\n",
       "    <tr>\n",
       "      <th>2023-01-12 00:43:38.181818181</th>\n",
       "      <td>3.301459</td>\n",
       "      <td>1</td>\n",
       "    </tr>\n",
       "    <tr>\n",
       "      <th>2023-01-15 16:58:10.909090909</th>\n",
       "      <td>4.197671</td>\n",
       "      <td>1</td>\n",
       "    </tr>\n",
       "    <tr>\n",
       "      <th>...</th>\n",
       "      <td>...</td>\n",
       "      <td>...</td>\n",
       "    </tr>\n",
       "    <tr>\n",
       "      <th>2023-12-16 07:01:49.090909088</th>\n",
       "      <td>-0.384518</td>\n",
       "      <td>12</td>\n",
       "    </tr>\n",
       "    <tr>\n",
       "      <th>2023-12-19 23:16:21.818181816</th>\n",
       "      <td>-0.473706</td>\n",
       "      <td>12</td>\n",
       "    </tr>\n",
       "    <tr>\n",
       "      <th>2023-12-23 15:30:54.545454544</th>\n",
       "      <td>4.339960</td>\n",
       "      <td>12</td>\n",
       "    </tr>\n",
       "    <tr>\n",
       "      <th>2023-12-27 07:45:27.272727272</th>\n",
       "      <td>-2.351371</td>\n",
       "      <td>12</td>\n",
       "    </tr>\n",
       "    <tr>\n",
       "      <th>2023-12-31 00:00:00.000000000</th>\n",
       "      <td>4.325529</td>\n",
       "      <td>12</td>\n",
       "    </tr>\n",
       "  </tbody>\n",
       "</table>\n",
       "<p>100 rows × 2 columns</p>\n",
       "</div>"
      ],
      "text/plain": [
       "                               price_change  month\n",
       "2023-01-01 00:00:00.000000000     -2.963639      1\n",
       "2023-01-04 16:14:32.727272727      3.119600      1\n",
       "2023-01-08 08:29:05.454545454     -0.033625      1\n",
       "2023-01-12 00:43:38.181818181      3.301459      1\n",
       "2023-01-15 16:58:10.909090909      4.197671      1\n",
       "...                                     ...    ...\n",
       "2023-12-16 07:01:49.090909088     -0.384518     12\n",
       "2023-12-19 23:16:21.818181816     -0.473706     12\n",
       "2023-12-23 15:30:54.545454544      4.339960     12\n",
       "2023-12-27 07:45:27.272727272     -2.351371     12\n",
       "2023-12-31 00:00:00.000000000      4.325529     12\n",
       "\n",
       "[100 rows x 2 columns]"
      ]
     },
     "execution_count": 74,
     "metadata": {},
     "output_type": "execute_result"
    }
   ],
   "source": [
    "dates = pd.date_range(start=\"2023-01-01\", end = \"2023-12-31\", periods=100)\n",
    "\n",
    "## Write answer here\n",
    "\n",
    "t_df = pd.DataFrame(index=dates, columns= ['price_change'], data=rng.normal(1,3,size=100)).assign(month = lambda df: df.index.month)\n",
    "\n",
    "t_df"
   ]
  },
  {
   "cell_type": "markdown",
   "metadata": {},
   "source": [
    "b. Group by the month and calculate the mean, standard deviation and median of `price_change`.\n"
   ]
  },
  {
   "cell_type": "code",
   "execution_count": 75,
   "metadata": {},
   "outputs": [
    {
     "data": {
      "text/html": [
       "<div>\n",
       "<style scoped>\n",
       "    .dataframe tbody tr th:only-of-type {\n",
       "        vertical-align: middle;\n",
       "    }\n",
       "\n",
       "    .dataframe tbody tr th {\n",
       "        vertical-align: top;\n",
       "    }\n",
       "\n",
       "    .dataframe thead tr th {\n",
       "        text-align: left;\n",
       "    }\n",
       "\n",
       "    .dataframe thead tr:last-of-type th {\n",
       "        text-align: right;\n",
       "    }\n",
       "</style>\n",
       "<table border=\"1\" class=\"dataframe\">\n",
       "  <thead>\n",
       "    <tr>\n",
       "      <th></th>\n",
       "      <th colspan=\"3\" halign=\"left\">price_change</th>\n",
       "    </tr>\n",
       "    <tr>\n",
       "      <th></th>\n",
       "      <th>mean</th>\n",
       "      <th>std</th>\n",
       "      <th>median</th>\n",
       "    </tr>\n",
       "    <tr>\n",
       "      <th>month</th>\n",
       "      <th></th>\n",
       "      <th></th>\n",
       "      <th></th>\n",
       "    </tr>\n",
       "  </thead>\n",
       "  <tbody>\n",
       "    <tr>\n",
       "      <th>1</th>\n",
       "      <td>0.926664</td>\n",
       "      <td>3.320690</td>\n",
       "      <td>1.411360</td>\n",
       "    </tr>\n",
       "    <tr>\n",
       "      <th>2</th>\n",
       "      <td>1.265733</td>\n",
       "      <td>2.022821</td>\n",
       "      <td>0.590478</td>\n",
       "    </tr>\n",
       "    <tr>\n",
       "      <th>3</th>\n",
       "      <td>-0.091565</td>\n",
       "      <td>2.910763</td>\n",
       "      <td>0.488939</td>\n",
       "    </tr>\n",
       "    <tr>\n",
       "      <th>4</th>\n",
       "      <td>0.546775</td>\n",
       "      <td>4.497026</td>\n",
       "      <td>0.834079</td>\n",
       "    </tr>\n",
       "    <tr>\n",
       "      <th>5</th>\n",
       "      <td>0.912120</td>\n",
       "      <td>2.634133</td>\n",
       "      <td>0.270744</td>\n",
       "    </tr>\n",
       "    <tr>\n",
       "      <th>6</th>\n",
       "      <td>0.716574</td>\n",
       "      <td>2.928325</td>\n",
       "      <td>1.103877</td>\n",
       "    </tr>\n",
       "    <tr>\n",
       "      <th>7</th>\n",
       "      <td>1.071175</td>\n",
       "      <td>1.954610</td>\n",
       "      <td>1.104663</td>\n",
       "    </tr>\n",
       "    <tr>\n",
       "      <th>8</th>\n",
       "      <td>3.055574</td>\n",
       "      <td>2.914847</td>\n",
       "      <td>3.842150</td>\n",
       "    </tr>\n",
       "    <tr>\n",
       "      <th>9</th>\n",
       "      <td>1.542859</td>\n",
       "      <td>3.038030</td>\n",
       "      <td>1.139780</td>\n",
       "    </tr>\n",
       "    <tr>\n",
       "      <th>10</th>\n",
       "      <td>0.418069</td>\n",
       "      <td>2.238997</td>\n",
       "      <td>-0.307834</td>\n",
       "    </tr>\n",
       "    <tr>\n",
       "      <th>11</th>\n",
       "      <td>0.062299</td>\n",
       "      <td>1.314208</td>\n",
       "      <td>-0.020909</td>\n",
       "    </tr>\n",
       "    <tr>\n",
       "      <th>12</th>\n",
       "      <td>1.606259</td>\n",
       "      <td>2.755204</td>\n",
       "      <td>0.400423</td>\n",
       "    </tr>\n",
       "  </tbody>\n",
       "</table>\n",
       "</div>"
      ],
      "text/plain": [
       "      price_change                    \n",
       "              mean       std    median\n",
       "month                                 \n",
       "1         0.926664  3.320690  1.411360\n",
       "2         1.265733  2.022821  0.590478\n",
       "3        -0.091565  2.910763  0.488939\n",
       "4         0.546775  4.497026  0.834079\n",
       "5         0.912120  2.634133  0.270744\n",
       "6         0.716574  2.928325  1.103877\n",
       "7         1.071175  1.954610  1.104663\n",
       "8         3.055574  2.914847  3.842150\n",
       "9         1.542859  3.038030  1.139780\n",
       "10        0.418069  2.238997 -0.307834\n",
       "11        0.062299  1.314208 -0.020909\n",
       "12        1.606259  2.755204  0.400423"
      ]
     },
     "execution_count": 75,
     "metadata": {},
     "output_type": "execute_result"
    }
   ],
   "source": [
    "## Write answer here\n",
    "t_df.groupby('month').agg(['mean', 'std', 'median'])\n"
   ]
  },
  {
   "cell_type": "markdown",
   "metadata": {},
   "source": [
    "c. Use `plotly` to graph `price_change` as a line with time on the x-axis. "
   ]
  },
  {
   "cell_type": "code",
   "execution_count": 80,
   "metadata": {},
   "outputs": [
    {
     "data": {
      "application/vnd.plotly.v1+json": {
       "config": {
        "plotlyServerURL": "https://plot.ly"
       },
       "data": [
        {
         "alignmentgroup": "True",
         "hovertemplate": "index=%{x}<br>price_change=%{y}<extra></extra>",
         "legendgroup": "",
         "marker": {
          "color": "#636efa",
          "pattern": {
           "shape": ""
          }
         },
         "name": "",
         "offsetgroup": "",
         "orientation": "v",
         "showlegend": false,
         "textposition": "auto",
         "type": "bar",
         "x": [
          "2023-01-01T00:00:00",
          "2023-01-04T16:14:32.727272",
          "2023-01-08T08:29:05.454545",
          "2023-01-12T00:43:38.181818",
          "2023-01-15T16:58:10.909090",
          "2023-01-19T09:12:43.636363",
          "2023-01-23T01:27:16.363636",
          "2023-01-26T17:41:49.090909",
          "2023-01-30T09:56:21.818181",
          "2023-02-03T02:10:54.545454",
          "2023-02-06T18:25:27.272727",
          "2023-02-10T10:40:00",
          "2023-02-14T02:54:32.727272",
          "2023-02-17T19:09:05.454545",
          "2023-02-21T11:23:38.181818",
          "2023-02-25T03:38:10.909090",
          "2023-02-28T19:52:43.636363",
          "2023-03-04T12:07:16.363636",
          "2023-03-08T04:21:49.090909",
          "2023-03-11T20:36:21.818181",
          "2023-03-15T12:50:54.545454",
          "2023-03-19T05:05:27.272727",
          "2023-03-22T21:20:00",
          "2023-03-26T13:34:32.727272",
          "2023-03-30T05:49:05.454545",
          "2023-04-02T22:03:38.181818",
          "2023-04-06T14:18:10.909090",
          "2023-04-10T06:32:43.636363",
          "2023-04-13T22:47:16.363636",
          "2023-04-17T15:01:49.090909",
          "2023-04-21T07:16:21.818181",
          "2023-04-24T23:30:54.545454",
          "2023-04-28T15:45:27.272727",
          "2023-05-02T08:00:00",
          "2023-05-06T00:14:32.727272",
          "2023-05-09T16:29:05.454545",
          "2023-05-13T08:43:38.181818",
          "2023-05-17T00:58:10.909090",
          "2023-05-20T17:12:43.636363",
          "2023-05-24T09:27:16.363636",
          "2023-05-28T01:41:49.090909",
          "2023-05-31T17:56:21.818181",
          "2023-06-04T10:10:54.545454",
          "2023-06-08T02:25:27.272727",
          "2023-06-11T18:40:00",
          "2023-06-15T10:54:32.727272",
          "2023-06-19T03:09:05.454545",
          "2023-06-22T19:23:38.181818",
          "2023-06-26T11:38:10.909090",
          "2023-06-30T03:52:43.636363",
          "2023-07-03T20:07:16.363636",
          "2023-07-07T12:21:49.090909",
          "2023-07-11T04:36:21.818181",
          "2023-07-14T20:50:54.545454",
          "2023-07-18T13:05:27.272727",
          "2023-07-22T05:19:59.999999",
          "2023-07-25T21:34:32.727272",
          "2023-07-29T13:49:05.454545",
          "2023-08-02T06:03:38.181818",
          "2023-08-05T22:18:10.909090",
          "2023-08-09T14:32:43.636363",
          "2023-08-13T06:47:16.363636",
          "2023-08-16T23:01:49.090909",
          "2023-08-20T15:16:21.818181",
          "2023-08-24T07:30:54.545454",
          "2023-08-27T23:45:27.272727",
          "2023-08-31T16:00:00",
          "2023-09-04T08:14:32.727272",
          "2023-09-08T00:29:05.454545",
          "2023-09-11T16:43:38.181818",
          "2023-09-15T08:58:10.909090",
          "2023-09-19T01:12:43.636363",
          "2023-09-22T17:27:16.363636",
          "2023-09-26T09:41:49.090909",
          "2023-09-30T01:56:21.818181",
          "2023-10-03T18:10:54.545454",
          "2023-10-07T10:25:27.272727",
          "2023-10-11T02:40:00",
          "2023-10-14T18:54:32.727272",
          "2023-10-18T11:09:05.454545",
          "2023-10-22T03:23:38.181818",
          "2023-10-25T19:38:10.909090",
          "2023-10-29T11:52:43.636363",
          "2023-11-02T04:07:16.363636",
          "2023-11-05T20:21:49.090909",
          "2023-11-09T12:36:21.818181",
          "2023-11-13T04:50:54.545454",
          "2023-11-16T21:05:27.272727",
          "2023-11-20T13:20:00",
          "2023-11-24T05:34:32.727272",
          "2023-11-27T21:49:05.454545",
          "2023-12-01T14:03:38.181818",
          "2023-12-05T06:18:10.909090",
          "2023-12-08T22:32:43.636363",
          "2023-12-12T14:47:16.363636",
          "2023-12-16T07:01:49.090909",
          "2023-12-19T23:16:21.818181",
          "2023-12-23T15:30:54.545454",
          "2023-12-27T07:45:27.272727",
          "2023-12-31T00:00:00"
         ],
         "xaxis": "x",
         "y": [
          -2.9636391866933964,
          3.1196003902713487,
          -0.033625228646929406,
          3.3014592490898025,
          4.1976707777625695,
          1.4113604307012146,
          -4.44142484147825,
          5.0494929146440715,
          -1.300917097018647,
          -0.5176986621288868,
          1.126045800215264,
          4.789370186365971,
          -0.2508637895833048,
          -0.5639742462374178,
          3.622023359772939,
          1.8660468181511698,
          0.05491076237049397,
          -0.8814484888100618,
          1.315330863058588,
          -6.3521763876359145,
          0.40925764954406885,
          2.2380640131849763,
          0.5686193993926313,
          -1.1455534985924216,
          3.1153878958916508,
          -2.0724936183495783,
          2.7375110764649957,
          7.575322336916366,
          2.04028869252089,
          4.493489062942047,
          -5.0799208643313625,
          -0.3721298814259557,
          -4.947868185324569,
          3.6414428468591438,
          5.52513617384735,
          3.164418644908695,
          -1.1420933583378,
          0.2707438378838145,
          -2.042611157094305,
          0.049844234580565416,
          -1.823196393021318,
          0.5653987556410116,
          4.099186997425475,
          1.0324558313755337,
          -0.0845966913846552,
          1.4531030927764965,
          4.542233212925085,
          -2.4995510104021705,
          1.175298974697238,
          -3.985538870002327,
          -1.001127294908927,
          2.0411449845272243,
          2.860605194213081,
          0.16818137897712448,
          3.7633599539195135,
          2.5076961252574224,
          -0.3732401391819393,
          -1.3972197860754916,
          6.008403022578243,
          4.072275616487646,
          6.7820898773668015,
          -1.1562961731109396,
          3.842150293819178,
          5.929785226957656,
          -0.006160915463006678,
          1.03192956974845,
          0.995991232013353,
          2.1148413841925273,
          -1.5151166363119266,
          0.16471866088214493,
          3.615470356017836,
          4.263939946433688,
          -1.0966558247362004,
          6.453740438700793,
          -1.658068074892694,
          -0.515683109079434,
          -0.7791328645949864,
          3.952149480739073,
          2.94006032819199,
          -2.2822560787176625,
          -1.6855173228758829,
          1.8149206568925498,
          -0.09998533334985327,
          -0.08683483771035316,
          -0.4329016166110409,
          -1.1228468993104022,
          0.045016992117414834,
          2.7827579978945467,
          0.6966202186202457,
          0.16775178193640616,
          -1.5511711495831015,
          4.989875380315498,
          -0.30767543689821375,
          3.9178187280609986,
          0.40042253669348404,
          -0.3845178955260846,
          -0.4737060429714506,
          4.339960318721305,
          -2.35137107757857,
          4.325528960954614
         ],
         "yaxis": "y"
        }
       ],
       "layout": {
        "barmode": "relative",
        "legend": {
         "tracegroupgap": 0
        },
        "margin": {
         "t": 60
        },
        "template": {
         "data": {
          "bar": [
           {
            "error_x": {
             "color": "#2a3f5f"
            },
            "error_y": {
             "color": "#2a3f5f"
            },
            "marker": {
             "line": {
              "color": "#E5ECF6",
              "width": 0.5
             },
             "pattern": {
              "fillmode": "overlay",
              "size": 10,
              "solidity": 0.2
             }
            },
            "type": "bar"
           }
          ],
          "barpolar": [
           {
            "marker": {
             "line": {
              "color": "#E5ECF6",
              "width": 0.5
             },
             "pattern": {
              "fillmode": "overlay",
              "size": 10,
              "solidity": 0.2
             }
            },
            "type": "barpolar"
           }
          ],
          "carpet": [
           {
            "aaxis": {
             "endlinecolor": "#2a3f5f",
             "gridcolor": "white",
             "linecolor": "white",
             "minorgridcolor": "white",
             "startlinecolor": "#2a3f5f"
            },
            "baxis": {
             "endlinecolor": "#2a3f5f",
             "gridcolor": "white",
             "linecolor": "white",
             "minorgridcolor": "white",
             "startlinecolor": "#2a3f5f"
            },
            "type": "carpet"
           }
          ],
          "choropleth": [
           {
            "colorbar": {
             "outlinewidth": 0,
             "ticks": ""
            },
            "type": "choropleth"
           }
          ],
          "contour": [
           {
            "colorbar": {
             "outlinewidth": 0,
             "ticks": ""
            },
            "colorscale": [
             [
              0,
              "#0d0887"
             ],
             [
              0.1111111111111111,
              "#46039f"
             ],
             [
              0.2222222222222222,
              "#7201a8"
             ],
             [
              0.3333333333333333,
              "#9c179e"
             ],
             [
              0.4444444444444444,
              "#bd3786"
             ],
             [
              0.5555555555555556,
              "#d8576b"
             ],
             [
              0.6666666666666666,
              "#ed7953"
             ],
             [
              0.7777777777777778,
              "#fb9f3a"
             ],
             [
              0.8888888888888888,
              "#fdca26"
             ],
             [
              1,
              "#f0f921"
             ]
            ],
            "type": "contour"
           }
          ],
          "contourcarpet": [
           {
            "colorbar": {
             "outlinewidth": 0,
             "ticks": ""
            },
            "type": "contourcarpet"
           }
          ],
          "heatmap": [
           {
            "colorbar": {
             "outlinewidth": 0,
             "ticks": ""
            },
            "colorscale": [
             [
              0,
              "#0d0887"
             ],
             [
              0.1111111111111111,
              "#46039f"
             ],
             [
              0.2222222222222222,
              "#7201a8"
             ],
             [
              0.3333333333333333,
              "#9c179e"
             ],
             [
              0.4444444444444444,
              "#bd3786"
             ],
             [
              0.5555555555555556,
              "#d8576b"
             ],
             [
              0.6666666666666666,
              "#ed7953"
             ],
             [
              0.7777777777777778,
              "#fb9f3a"
             ],
             [
              0.8888888888888888,
              "#fdca26"
             ],
             [
              1,
              "#f0f921"
             ]
            ],
            "type": "heatmap"
           }
          ],
          "heatmapgl": [
           {
            "colorbar": {
             "outlinewidth": 0,
             "ticks": ""
            },
            "colorscale": [
             [
              0,
              "#0d0887"
             ],
             [
              0.1111111111111111,
              "#46039f"
             ],
             [
              0.2222222222222222,
              "#7201a8"
             ],
             [
              0.3333333333333333,
              "#9c179e"
             ],
             [
              0.4444444444444444,
              "#bd3786"
             ],
             [
              0.5555555555555556,
              "#d8576b"
             ],
             [
              0.6666666666666666,
              "#ed7953"
             ],
             [
              0.7777777777777778,
              "#fb9f3a"
             ],
             [
              0.8888888888888888,
              "#fdca26"
             ],
             [
              1,
              "#f0f921"
             ]
            ],
            "type": "heatmapgl"
           }
          ],
          "histogram": [
           {
            "marker": {
             "pattern": {
              "fillmode": "overlay",
              "size": 10,
              "solidity": 0.2
             }
            },
            "type": "histogram"
           }
          ],
          "histogram2d": [
           {
            "colorbar": {
             "outlinewidth": 0,
             "ticks": ""
            },
            "colorscale": [
             [
              0,
              "#0d0887"
             ],
             [
              0.1111111111111111,
              "#46039f"
             ],
             [
              0.2222222222222222,
              "#7201a8"
             ],
             [
              0.3333333333333333,
              "#9c179e"
             ],
             [
              0.4444444444444444,
              "#bd3786"
             ],
             [
              0.5555555555555556,
              "#d8576b"
             ],
             [
              0.6666666666666666,
              "#ed7953"
             ],
             [
              0.7777777777777778,
              "#fb9f3a"
             ],
             [
              0.8888888888888888,
              "#fdca26"
             ],
             [
              1,
              "#f0f921"
             ]
            ],
            "type": "histogram2d"
           }
          ],
          "histogram2dcontour": [
           {
            "colorbar": {
             "outlinewidth": 0,
             "ticks": ""
            },
            "colorscale": [
             [
              0,
              "#0d0887"
             ],
             [
              0.1111111111111111,
              "#46039f"
             ],
             [
              0.2222222222222222,
              "#7201a8"
             ],
             [
              0.3333333333333333,
              "#9c179e"
             ],
             [
              0.4444444444444444,
              "#bd3786"
             ],
             [
              0.5555555555555556,
              "#d8576b"
             ],
             [
              0.6666666666666666,
              "#ed7953"
             ],
             [
              0.7777777777777778,
              "#fb9f3a"
             ],
             [
              0.8888888888888888,
              "#fdca26"
             ],
             [
              1,
              "#f0f921"
             ]
            ],
            "type": "histogram2dcontour"
           }
          ],
          "mesh3d": [
           {
            "colorbar": {
             "outlinewidth": 0,
             "ticks": ""
            },
            "type": "mesh3d"
           }
          ],
          "parcoords": [
           {
            "line": {
             "colorbar": {
              "outlinewidth": 0,
              "ticks": ""
             }
            },
            "type": "parcoords"
           }
          ],
          "pie": [
           {
            "automargin": true,
            "type": "pie"
           }
          ],
          "scatter": [
           {
            "fillpattern": {
             "fillmode": "overlay",
             "size": 10,
             "solidity": 0.2
            },
            "type": "scatter"
           }
          ],
          "scatter3d": [
           {
            "line": {
             "colorbar": {
              "outlinewidth": 0,
              "ticks": ""
             }
            },
            "marker": {
             "colorbar": {
              "outlinewidth": 0,
              "ticks": ""
             }
            },
            "type": "scatter3d"
           }
          ],
          "scattercarpet": [
           {
            "marker": {
             "colorbar": {
              "outlinewidth": 0,
              "ticks": ""
             }
            },
            "type": "scattercarpet"
           }
          ],
          "scattergeo": [
           {
            "marker": {
             "colorbar": {
              "outlinewidth": 0,
              "ticks": ""
             }
            },
            "type": "scattergeo"
           }
          ],
          "scattergl": [
           {
            "marker": {
             "colorbar": {
              "outlinewidth": 0,
              "ticks": ""
             }
            },
            "type": "scattergl"
           }
          ],
          "scattermapbox": [
           {
            "marker": {
             "colorbar": {
              "outlinewidth": 0,
              "ticks": ""
             }
            },
            "type": "scattermapbox"
           }
          ],
          "scatterpolar": [
           {
            "marker": {
             "colorbar": {
              "outlinewidth": 0,
              "ticks": ""
             }
            },
            "type": "scatterpolar"
           }
          ],
          "scatterpolargl": [
           {
            "marker": {
             "colorbar": {
              "outlinewidth": 0,
              "ticks": ""
             }
            },
            "type": "scatterpolargl"
           }
          ],
          "scatterternary": [
           {
            "marker": {
             "colorbar": {
              "outlinewidth": 0,
              "ticks": ""
             }
            },
            "type": "scatterternary"
           }
          ],
          "surface": [
           {
            "colorbar": {
             "outlinewidth": 0,
             "ticks": ""
            },
            "colorscale": [
             [
              0,
              "#0d0887"
             ],
             [
              0.1111111111111111,
              "#46039f"
             ],
             [
              0.2222222222222222,
              "#7201a8"
             ],
             [
              0.3333333333333333,
              "#9c179e"
             ],
             [
              0.4444444444444444,
              "#bd3786"
             ],
             [
              0.5555555555555556,
              "#d8576b"
             ],
             [
              0.6666666666666666,
              "#ed7953"
             ],
             [
              0.7777777777777778,
              "#fb9f3a"
             ],
             [
              0.8888888888888888,
              "#fdca26"
             ],
             [
              1,
              "#f0f921"
             ]
            ],
            "type": "surface"
           }
          ],
          "table": [
           {
            "cells": {
             "fill": {
              "color": "#EBF0F8"
             },
             "line": {
              "color": "white"
             }
            },
            "header": {
             "fill": {
              "color": "#C8D4E3"
             },
             "line": {
              "color": "white"
             }
            },
            "type": "table"
           }
          ]
         },
         "layout": {
          "annotationdefaults": {
           "arrowcolor": "#2a3f5f",
           "arrowhead": 0,
           "arrowwidth": 1
          },
          "autotypenumbers": "strict",
          "coloraxis": {
           "colorbar": {
            "outlinewidth": 0,
            "ticks": ""
           }
          },
          "colorscale": {
           "diverging": [
            [
             0,
             "#8e0152"
            ],
            [
             0.1,
             "#c51b7d"
            ],
            [
             0.2,
             "#de77ae"
            ],
            [
             0.3,
             "#f1b6da"
            ],
            [
             0.4,
             "#fde0ef"
            ],
            [
             0.5,
             "#f7f7f7"
            ],
            [
             0.6,
             "#e6f5d0"
            ],
            [
             0.7,
             "#b8e186"
            ],
            [
             0.8,
             "#7fbc41"
            ],
            [
             0.9,
             "#4d9221"
            ],
            [
             1,
             "#276419"
            ]
           ],
           "sequential": [
            [
             0,
             "#0d0887"
            ],
            [
             0.1111111111111111,
             "#46039f"
            ],
            [
             0.2222222222222222,
             "#7201a8"
            ],
            [
             0.3333333333333333,
             "#9c179e"
            ],
            [
             0.4444444444444444,
             "#bd3786"
            ],
            [
             0.5555555555555556,
             "#d8576b"
            ],
            [
             0.6666666666666666,
             "#ed7953"
            ],
            [
             0.7777777777777778,
             "#fb9f3a"
            ],
            [
             0.8888888888888888,
             "#fdca26"
            ],
            [
             1,
             "#f0f921"
            ]
           ],
           "sequentialminus": [
            [
             0,
             "#0d0887"
            ],
            [
             0.1111111111111111,
             "#46039f"
            ],
            [
             0.2222222222222222,
             "#7201a8"
            ],
            [
             0.3333333333333333,
             "#9c179e"
            ],
            [
             0.4444444444444444,
             "#bd3786"
            ],
            [
             0.5555555555555556,
             "#d8576b"
            ],
            [
             0.6666666666666666,
             "#ed7953"
            ],
            [
             0.7777777777777778,
             "#fb9f3a"
            ],
            [
             0.8888888888888888,
             "#fdca26"
            ],
            [
             1,
             "#f0f921"
            ]
           ]
          },
          "colorway": [
           "#636efa",
           "#EF553B",
           "#00cc96",
           "#ab63fa",
           "#FFA15A",
           "#19d3f3",
           "#FF6692",
           "#B6E880",
           "#FF97FF",
           "#FECB52"
          ],
          "font": {
           "color": "#2a3f5f"
          },
          "geo": {
           "bgcolor": "white",
           "lakecolor": "white",
           "landcolor": "#E5ECF6",
           "showlakes": true,
           "showland": true,
           "subunitcolor": "white"
          },
          "hoverlabel": {
           "align": "left"
          },
          "hovermode": "closest",
          "mapbox": {
           "style": "light"
          },
          "paper_bgcolor": "white",
          "plot_bgcolor": "#E5ECF6",
          "polar": {
           "angularaxis": {
            "gridcolor": "white",
            "linecolor": "white",
            "ticks": ""
           },
           "bgcolor": "#E5ECF6",
           "radialaxis": {
            "gridcolor": "white",
            "linecolor": "white",
            "ticks": ""
           }
          },
          "scene": {
           "xaxis": {
            "backgroundcolor": "#E5ECF6",
            "gridcolor": "white",
            "gridwidth": 2,
            "linecolor": "white",
            "showbackground": true,
            "ticks": "",
            "zerolinecolor": "white"
           },
           "yaxis": {
            "backgroundcolor": "#E5ECF6",
            "gridcolor": "white",
            "gridwidth": 2,
            "linecolor": "white",
            "showbackground": true,
            "ticks": "",
            "zerolinecolor": "white"
           },
           "zaxis": {
            "backgroundcolor": "#E5ECF6",
            "gridcolor": "white",
            "gridwidth": 2,
            "linecolor": "white",
            "showbackground": true,
            "ticks": "",
            "zerolinecolor": "white"
           }
          },
          "shapedefaults": {
           "line": {
            "color": "#2a3f5f"
           }
          },
          "ternary": {
           "aaxis": {
            "gridcolor": "white",
            "linecolor": "white",
            "ticks": ""
           },
           "baxis": {
            "gridcolor": "white",
            "linecolor": "white",
            "ticks": ""
           },
           "bgcolor": "#E5ECF6",
           "caxis": {
            "gridcolor": "white",
            "linecolor": "white",
            "ticks": ""
           }
          },
          "title": {
           "x": 0.05
          },
          "xaxis": {
           "automargin": true,
           "gridcolor": "white",
           "linecolor": "white",
           "ticks": "",
           "title": {
            "standoff": 15
           },
           "zerolinecolor": "white",
           "zerolinewidth": 2
          },
          "yaxis": {
           "automargin": true,
           "gridcolor": "white",
           "linecolor": "white",
           "ticks": "",
           "title": {
            "standoff": 15
           },
           "zerolinecolor": "white",
           "zerolinewidth": 2
          }
         }
        },
        "xaxis": {
         "anchor": "y",
         "domain": [
          0,
          1
         ],
         "title": {
          "text": "index"
         }
        },
        "yaxis": {
         "anchor": "x",
         "domain": [
          0,
          1
         ],
         "title": {
          "text": "price_change"
         }
        }
       }
      }
     },
     "metadata": {},
     "output_type": "display_data"
    }
   ],
   "source": [
    "## Write answer here\n",
    "\n",
    "px.bar(t_df, y='price_change')"
   ]
  },
  {
   "cell_type": "markdown",
   "metadata": {},
   "source": [
    "## Section 3: Strings and Web-scraping\n",
    "\n",
    "For this section, you will scrape this website: https://www.scrapethissite.com/pages/simple/\n",
    "\n",
    "a. use `requests` to get the information from the website. Call the variable `response`. Then do `BeatifulSoup(response.content)` and name it a variable `soup`."
   ]
  },
  {
   "cell_type": "code",
   "execution_count": 132,
   "metadata": {},
   "outputs": [],
   "source": [
    "## Write answer here\n",
    "\n",
    "response = requests.get(\"https://www.scrapethissite.com/pages/simple/\")\n",
    "\n",
    "soup = BeautifulSoup(response.content)"
   ]
  },
  {
   "cell_type": "markdown",
   "metadata": {},
   "source": [
    "b. Find the part of the website that holds the country information. Hint: This will involve using `find_all` to look for `div` and adding an argument to `find_all` for the particular class. Search in the website source and find the correct class tag. The argument you will add to `find_all` will be of the form: `soup.find_all(\"div\", {\"class\" : <the correct class tag>})`. Name this variable, `countries`."
   ]
  },
  {
   "cell_type": "code",
   "execution_count": 133,
   "metadata": {},
   "outputs": [],
   "source": [
    "## Write answer here\n",
    "\n",
    "countries = soup.find_all(\"div\", {\"class\" : \"col-md-4 country\"})"
   ]
  },
  {
   "cell_type": "markdown",
   "metadata": {},
   "source": [
    "c. Note that the output of `countries` is a `BeautifulSoup` object, but you can turn it into a string. Loop over `countries` and in each iteration coerce it into a string. So if you do the loop like this: `for i in countries:...`, in the loop use `str(i)`.\n",
    "\n",
    "Use this loop to find the information for Andorra and print it out.\n",
    "\n",
    "Extra Credit: Do another `find_all` to find the part of the html that contains the capital, population and area information."
   ]
  },
  {
   "cell_type": "code",
   "execution_count": 131,
   "metadata": {},
   "outputs": [
    {
     "name": "stdout",
     "output_type": "stream",
     "text": [
      "[<div class=\"country-info\">\n",
      "<strong>Capital:</strong> <span class=\"country-capital\">Andorra la Vella</span><br/>\n",
      "<strong>Population:</strong> <span class=\"country-population\">84000</span><br/>\n",
      "<strong>Area (km<sup>2</sup>):</strong> <span class=\"country-area\">468.0</span><br/>\n",
      "</div>]\n"
     ]
    }
   ],
   "source": [
    "## Write answer here\n",
    "\n",
    "for i in soup.find_all(\"div\", {\"class\" : \"col-md-4 country\"}):\n",
    "    if \"Andorra\" in str(i):\n",
    "        print(i.find_all(\"div\", {\"class\" : \"country-info\"}))"
   ]
  },
  {
   "cell_type": "markdown",
   "metadata": {},
   "source": [
    "**A lot of Extra Credit** +10: Output a dataframe with an index of the country name and variables, `capital`, `population` and `area`. Make sure to convert all numbers to number types and to clean strings so they do not have whitespace."
   ]
  },
  {
   "cell_type": "code",
   "execution_count": 161,
   "metadata": {},
   "outputs": [],
   "source": [
    "## Write answer here\n",
    "country_name = []\n",
    "capital = []\n",
    "population = []\n",
    "area = []\n",
    "\n",
    "for i in soup.find_all(\"div\", {\"class\" : \"col-md-4 country\"}):\n",
    "    country_name.append(i.h3.text.strip())\n",
    "    capital.append(i.find_all(\"span\", {'class' : 'country-capital'})[0].text)\n",
    "    population.append(i.find_all(\"span\", {\"class\" : 'country-population'})[0].text)\n",
    "    area.append(i.find_all(\"span\", {\"class\" : 'country-area'})[0].text)\n"
   ]
  },
  {
   "cell_type": "code",
   "execution_count": 170,
   "metadata": {},
   "outputs": [
    {
     "data": {
      "text/html": [
       "<div>\n",
       "<style scoped>\n",
       "    .dataframe tbody tr th:only-of-type {\n",
       "        vertical-align: middle;\n",
       "    }\n",
       "\n",
       "    .dataframe tbody tr th {\n",
       "        vertical-align: top;\n",
       "    }\n",
       "\n",
       "    .dataframe thead th {\n",
       "        text-align: right;\n",
       "    }\n",
       "</style>\n",
       "<table border=\"1\" class=\"dataframe\">\n",
       "  <thead>\n",
       "    <tr style=\"text-align: right;\">\n",
       "      <th></th>\n",
       "      <th>capital</th>\n",
       "      <th>population</th>\n",
       "      <th>area</th>\n",
       "    </tr>\n",
       "  </thead>\n",
       "  <tbody>\n",
       "    <tr>\n",
       "      <th>Andorra</th>\n",
       "      <td>Andorra la Vella</td>\n",
       "      <td>84000</td>\n",
       "      <td>468.0</td>\n",
       "    </tr>\n",
       "    <tr>\n",
       "      <th>United Arab Emirates</th>\n",
       "      <td>Abu Dhabi</td>\n",
       "      <td>4975593</td>\n",
       "      <td>82880.0</td>\n",
       "    </tr>\n",
       "    <tr>\n",
       "      <th>Afghanistan</th>\n",
       "      <td>Kabul</td>\n",
       "      <td>29121286</td>\n",
       "      <td>647500.0</td>\n",
       "    </tr>\n",
       "    <tr>\n",
       "      <th>Antigua and Barbuda</th>\n",
       "      <td>St. John's</td>\n",
       "      <td>86754</td>\n",
       "      <td>443.0</td>\n",
       "    </tr>\n",
       "    <tr>\n",
       "      <th>Anguilla</th>\n",
       "      <td>The Valley</td>\n",
       "      <td>13254</td>\n",
       "      <td>102.0</td>\n",
       "    </tr>\n",
       "    <tr>\n",
       "      <th>...</th>\n",
       "      <td>...</td>\n",
       "      <td>...</td>\n",
       "      <td>...</td>\n",
       "    </tr>\n",
       "    <tr>\n",
       "      <th>Yemen</th>\n",
       "      <td>Sanaa</td>\n",
       "      <td>23495361</td>\n",
       "      <td>527970.0</td>\n",
       "    </tr>\n",
       "    <tr>\n",
       "      <th>Mayotte</th>\n",
       "      <td>Mamoudzou</td>\n",
       "      <td>159042</td>\n",
       "      <td>374.0</td>\n",
       "    </tr>\n",
       "    <tr>\n",
       "      <th>South Africa</th>\n",
       "      <td>Pretoria</td>\n",
       "      <td>49000000</td>\n",
       "      <td>1219912.0</td>\n",
       "    </tr>\n",
       "    <tr>\n",
       "      <th>Zambia</th>\n",
       "      <td>Lusaka</td>\n",
       "      <td>13460305</td>\n",
       "      <td>752614.0</td>\n",
       "    </tr>\n",
       "    <tr>\n",
       "      <th>Zimbabwe</th>\n",
       "      <td>Harare</td>\n",
       "      <td>11651858</td>\n",
       "      <td>390580.0</td>\n",
       "    </tr>\n",
       "  </tbody>\n",
       "</table>\n",
       "<p>250 rows × 3 columns</p>\n",
       "</div>"
      ],
      "text/plain": [
       "                               capital  population       area\n",
       "Andorra               Andorra la Vella       84000      468.0\n",
       "United Arab Emirates         Abu Dhabi     4975593    82880.0\n",
       "Afghanistan                      Kabul    29121286   647500.0\n",
       "Antigua and Barbuda         St. John's       86754      443.0\n",
       "Anguilla                    The Valley       13254      102.0\n",
       "...                                ...         ...        ...\n",
       "Yemen                            Sanaa    23495361   527970.0\n",
       "Mayotte                      Mamoudzou      159042      374.0\n",
       "South Africa                  Pretoria    49000000  1219912.0\n",
       "Zambia                          Lusaka    13460305   752614.0\n",
       "Zimbabwe                        Harare    11651858   390580.0\n",
       "\n",
       "[250 rows x 3 columns]"
      ]
     },
     "execution_count": 170,
     "metadata": {},
     "output_type": "execute_result"
    }
   ],
   "source": [
    "(\n",
    "    pd.DataFrame(index=country_name, \n",
    "                 columns= ['capital', 'population', 'area'], \n",
    "                 data=[[i,j,k] for i,j,k in zip(capital, population, area)])\n",
    "    .astype({'population' : int,\n",
    "             'area' : float})\n",
    "    )"
   ]
  },
  {
   "cell_type": "markdown",
   "metadata": {},
   "source": [
    "## Section 4: Geopandas\n",
    "\n",
    "For this section, you will be given a map of the world. Calculate the centroid of each country and plot it on the map with the world with `color='red'`. Hint: You may need to change the CRS and create a matplotlib figure and axis object."
   ]
  },
  {
   "cell_type": "code",
   "execution_count": 199,
   "metadata": {},
   "outputs": [
    {
     "data": {
      "text/plain": [
       "<AxesSubplot:>"
      ]
     },
     "execution_count": 199,
     "metadata": {},
     "output_type": "execute_result"
    },
    {
     "data": {
      "image/png": "[encoded data removed]",
      "text/plain": [
       "<Figure size 640x480 with 1 Axes>"
      ]
     },
     "metadata": {},
     "output_type": "display_data"
    }
   ],
   "source": [
    "world = gpd.read_file(gpd.datasets.get_path(\"naturalearth_lowres\"))\n",
    "\n",
    "## Write answer here\n",
    "\n",
    "fig, ax = plt.subplots()\n",
    "\n",
    "world.plot(ax=ax)\n",
    "\n",
    "world.to_crs(\"epsg:3857\").centroid.to_crs(\"epsg:4326\").plot(ax=ax, color='red')\n"
   ]
  }
 ],
 "metadata": {
  "kernelspec": {
   "display_name": "base",
   "language": "python",
   "name": "python3"
  },
  "language_info": {
   "codemirror_mode": {
    "name": "ipython",
    "version": 3
   },
   "file_extension": ".py",
   "mimetype": "text/x-python",
   "name": "python",
   "nbconvert_exporter": "python",
   "pygments_lexer": "ipython3",
   "version": "3.9.13"
  }
 },
 "nbformat": 4,
 "nbformat_minor": 2
}
