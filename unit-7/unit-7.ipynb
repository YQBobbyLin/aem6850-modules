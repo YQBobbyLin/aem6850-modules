{
 "cells": [
  {
   "cell_type": "markdown",
   "metadata": {},
   "source": [
    "## Visualization and Interactivity in Python\n",
    "\n",
    "- Now that we're a little acquainted in how to manipulate data with python, let's see how we can actually visualize it\n",
    "- There are many libraries that visualize data \n",
    "- The nice thing about Python, is that visualization is pretty one-button to get something out that looks *okay*\n",
    "    - but you have infinite flexibility to make it your own\n",
    "- You can also get interactivity pretty easily, without too much trouble\n",
    "    -  Interactivity is great when you want to explore data more easily or give your collaborators an easy way to explore the data without having them go deep into code\n",
    "        So, basically very good for RA work..."
   ]
  },
  {
   "cell_type": "markdown",
   "metadata": {},
   "source": [
    "## The Art of Visualization\n",
    "\n",
    "- Visualization of data is as much an art as it is a science\n",
    "- You have to be able to show the most information in a digestible way, that highlights your story\n",
    "    - Without being misleading!\n",
    "- We'll be talking about the methods and different libraries that might be useful to you, but this is really the tip of the iceberg\n",
    "- Plotting in python is not difficult, but different libraries have different approaches\n",
    "- We'll be looking at `matplotlib`, `seaborn` and `plotly`\n",
    "    - `matplotlib` is the basis of most visualization in python\n",
    "        - is based on an OOP implementation of visualization\n",
    "    - `seaborn` builds on `matplotlib` and creates many ways to create useful plots fast\n",
    "        - regression plots, heatmaps etc...\n",
    "    - `plotly` is an easy way to make your visualization interactive or even animated\n",
    "- These are great starts to get the hang of visualizing data and even creating interactive visualizations"
   ]
  },
  {
   "cell_type": "markdown",
   "metadata": {},
   "source": [
    "##  "
   ]
  },
  {
   "cell_type": "markdown",
   "metadata": {},
   "source": [
    "- correlation heatmap\n"
   ]
  }
 ],
 "metadata": {
  "language_info": {
   "name": "python"
  },
  "orig_nbformat": 4
 },
 "nbformat": 4,
 "nbformat_minor": 2
}
