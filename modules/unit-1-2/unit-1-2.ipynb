{
 "cells": [
  {
   "cell_type": "markdown",
   "metadata": {},
   "source": [
    "# AEM 6850 Introduction\n",
    "-  NLP and NN\n",
    "\n",
    "- Terminal\n",
    "- `conda`\n",
    "- `pip`\n",
    "- `conda create -n <name> python=3.10`\n",
    "- `conda activate <name>`\n",
    "\n",
    "- Welcome!\n",
    "- Aleksandr Michuda\n",
    "    - Office Hours: Wednesdays 10-11\n",
    "- Let's do some introductions!\n",
    "\n",
    "\n",
    "Today:\n",
    "\n",
    "- Get everyone set up with Python and VSCode\n",
    "- If we have time, start talking about Python and the plan for the course\n",
    "\n",
    "- The course introduces students to basic practices and tools that will enhance your ability to conduct empirical research and analysis in microeconomics in a data-rich world. \n",
    "- By the end of the course, students will be proficient in various data management, visualization and quantitative techniques necessary to efficiently conduct independent research. \n",
    "\n",
    "Topics:\n",
    "\n",
    "- Python\n",
    "- Data visualization and interactivity\n",
    "- Reproducibility\n",
    "- Version Control with GitHub\n",
    "- Web Scraping\n",
    "- Machine Learning\n",
    "- Using GPT\n",
    "- Image Analysis\n",
    "- Regression/DiD/RDD\n",
    "- Bootstrapping and Monte Carlo\n",
    "- !!Special Topic!!\n",
    "- Guest Speaker to talk about some real research!\n",
    "\n",
    "- Importantly, we will spend a large chunk of the beginning of the course learning some python \n",
    "    - Python for data analysis\n",
    "    - Estimation/ML/anything else you want\n",
    "\n",
    "Communication:\n",
    "\n",
    "- Slack: https://join.slack.com/t/aem-6850/shared_invite/zt-20ru84lxj-m7i5au7qcKaE~24LpIvDdw\n",
    "- Please use Slack to communicate with me on any questions that arise.\n",
    "- If you post on Canvas, I might not see it\n",
    "- If you email me, I will refer you to Slack!\n",
    "\n",
    "- Syllabus\n",
    "    - NOTE: ChatGPT Policy\n",
    "\n",
    "Research Project:\n",
    "\n",
    "- This will give you the opportunity to take what you've learned and apply it to a problem interesting to you.\n",
    "- You will need to give a reproducible artifact as a submission by the end of the semester\n",
    "- 15 minute presentations at the end of the semester.\n"
   ]
  },
  {
   "attachments": {},
   "cell_type": "markdown",
   "metadata": {
    "slideshow": {
     "slide_type": "slide"
    }
   },
   "source": [
    "Python is multi-purpose computer language that can be used for statistical analysis, machine learning, visualization, and mathematical programming.\n",
    "\n",
    "Our job today is to go from:\n",
    "\n",
    "![Ruff](https://i.kym-cdn.com/entries/icons/original/000/008/342/ihave.jpg)\n",
    "\n",
    "\n"
   ]
  },
  {
   "attachments": {},
   "cell_type": "markdown",
   "metadata": {
    "slideshow": {
     "slide_type": "slide"
    }
   },
   "source": [
    "To this:\n",
    "\n",
    "![Oh yeah!](http://orig05.deviantart.net/51a3/f/2016/306/0/9/hackerman_by_shiiftyshift-dan31sc.png)"
   ]
  },
  {
   "attachments": {},
   "cell_type": "markdown",
   "metadata": {
    "slideshow": {
     "slide_type": "slide"
    }
   },
   "source": [
    "Odds are, the question you have will 99% of the time be answered on stackoverflow. \n",
    "\n",
    "Also, don't panic if you need to check the help files all the time to get the syntax of a command. That's what the internet is for. If you need to check to make sure syntax is correct, that's completely okay."
   ]
  },
  {
   "attachments": {},
   "cell_type": "markdown",
   "metadata": {
    "ExecuteTime": {
     "end_time": "2019-07-12T23:48:12.550649Z",
     "start_time": "2019-07-12T23:48:12.542858Z"
    },
    "slideshow": {
     "slide_type": "slide"
    }
   },
   "source": [
    "By now you should have all installed the Anaconda Distribution which gives you access to:\n",
    "\n",
    "- A python interpreter\n",
    "- A package management system\n",
    "- Jupyter Notebooks\n"
   ]
  },
  {
   "cell_type": "markdown",
   "metadata": {},
   "source": [
    "## What is an interpreter?\n",
    "\n",
    "An interpreter is an environment/program that handles taking the syntax of a programming language and understands it.\n",
    "\n",
    "Anaconda installed a *python interpreter*.\n",
    "\n",
    "In order to make things easier for you, there are also programs that use the interpreter and have other nice features so you can code efficiently (Jupyter)."
   ]
  },
  {
   "cell_type": "markdown",
   "metadata": {},
   "source": [
    "## Setting up your Environment\n",
    "\n",
    "To install Jupyter Notebooks and Rstudio, please go to https://www.anaconda.com/download/ and download the newest version of the Anaconda Distribution. This application installs a Python and R environment on your desktop, as well as some helpful libraries and applications for scientific computing. Even if you do not plan on using Python or R in the future, (which would be a shame, but regardless) please install this application.\n",
    "\n",
    "After a lengthy installation process, you will have access to Jupyter notebook from the Anaconda Navigator (and notice that there is also a program called Anaconda Prompt, this will be important later). \n",
    "\n",
    "Now install VSCode: https://code.visualstudio.com/Download. This will be the IDE (Integrated Development Environment that you will use).\n",
    "\n",
    "VSCode is a great way to code in any language you want (including R and Stata, and Latex, and anything else you might want).\n",
    "\n"
   ]
  },
  {
   "cell_type": "markdown",
   "metadata": {},
   "source": [
    "## Using VSCode"
   ]
  },
  {
   "attachments": {},
   "cell_type": "markdown",
   "metadata": {
    "slideshow": {
     "slide_type": "slide"
    }
   },
   "source": [
    "- Open up VSCode and install the Python extension (on the left bar menu)\n",
    "- That's it, you're done!\n"
   ]
  },
  {
   "attachments": {},
   "cell_type": "markdown",
   "metadata": {
    "slideshow": {
     "slide_type": "slide"
    }
   },
   "source": [
    "![](https://docs.anaconda.com/_images/navigator-environments-1-6.png)"
   ]
  },
  {
   "cell_type": "markdown",
   "metadata": {},
   "source": [
    "## Why VSCode?"
   ]
  },
  {
   "attachments": {},
   "cell_type": "markdown",
   "metadata": {
    "slideshow": {
     "slide_type": "-"
    }
   },
   "source": [
    "- VSCode is a great way to do any type of coding and includes different extensions for anything you might need. \n",
    "- If you use VSCode, you can basically use it for any and all code-based stuff, even writing documents!\n",
    "- We will be using Jupyter notebook WITHIN VSCode."
   ]
  },
  {
   "cell_type": "markdown",
   "metadata": {},
   "source": [
    "## Why Jupyter?\n",
    "\n",
    "- Jupyter is probably the easiest way to get into python\n",
    "- It allows you to write your code and your analysis/explanation in one place\n",
    "    - No more writing a word document, exporting/copy-pasting from output \n",
    "        - What happens if you need to rerun something?\n",
    "            - Jupyter has it all there\n",
    "            - Don't work hard, work smart\n",
    "    - Great for sharing or presenting\n",
    "- Export your results and analysis with a click of a button\n",
    "- This presentation was done in a Jupyter Notebook!\n",
    "- Jupyter is made up of code cells and markdown cells\n",
    "    - Each code cell can be used to write some code and all code cells are using the same interpreter\n",
    "        - writing code in one cell transfers to the next\n",
    "       "
   ]
  },
  {
   "cell_type": "markdown",
   "metadata": {},
   "source": [
    "## Markdown Quick"
   ]
  },
  {
   "attachments": {},
   "cell_type": "markdown",
   "metadata": {
    "slideshow": {
     "slide_type": "-"
    }
   },
   "source": [
    "- The writing part of Jupyter uses a writing format (markup language) called Markdown\n",
    "- It's easy to learn and all you need is a cheatsheet to get up and running"
   ]
  },
  {
   "attachments": {},
   "cell_type": "markdown",
   "metadata": {
    "slideshow": {
     "slide_type": "slide"
    }
   },
   "source": [
    "- Headings\n",
    "\n",
    "\\# Title\n",
    "\n",
    "\\## Heading 1\n",
    "\n",
    "\\### Heading 2\n",
    "\n",
    "\\*italic* *italic*\n",
    "\n",
    "\\*\\*bold** **bold**\n",
    "\n",
    "\\*\\*\\*bold italic*\\**  ***italic bold***\n",
    "\n",
    "- List 1\n",
    "    - List 2\n",
    "    \n",
    "\\- List 1\n",
    "\n",
    "    - List 2\n",
    "    \n"
   ]
  },
  {
   "attachments": {},
   "cell_type": "markdown",
   "metadata": {
    "slideshow": {
     "slide_type": "slide"
    }
   },
   "source": [
    "\\``` writing code ```\n",
    "\n",
    "```writing code```\n",
    "\n",
    "Math: \\\\$\\beta\\$\n",
    "\n",
    "$\\beta$\n",
    "\n",
    "\n",
    "\\\\$\\\\$\n",
    "y = \\beta X +u\n",
    "\\\\$\\\\$\n",
    "\n",
    "$$\n",
    "y = \\beta X + u\n",
    "$$"
   ]
  },
  {
   "attachments": {},
   "cell_type": "markdown",
   "metadata": {
    "slideshow": {
     "slide_type": "slide"
    }
   },
   "source": [
    "## Python as a Language"
   ]
  },
  {
   "attachments": {},
   "cell_type": "markdown",
   "metadata": {
    "slideshow": {
     "slide_type": "-"
    }
   },
   "source": [
    "- Python is a multipurpose language\n",
    "- \n",
    "- Python can be:\n",
    "    - Used for data science/econometrics/statistics\n",
    "        - handles data efficiently and sanely (I'm looking at you Stata)\n",
    "        - Many packages for running regressions/doing analysis/summary statistics\n",
    "        - Can play nice with other data oriented languages like Stata or R\n",
    "        - parallelization\n",
    "        - VISUALIZING DATA\n",
    "  "
   ]
  },
  {
   "attachments": {},
   "cell_type": "markdown",
   "metadata": {
    "slideshow": {
     "slide_type": "slide"
    }
   },
   "source": [
    "- The purpose of teaching you python:\n",
    "    - It will teach you basic programming concepts that you can take to other languages\n",
    "    - It's relatively easy in terms of syntax (almost pseudo-code)\n",
    "    - Many industries and academia are using it\n",
    "    - It's a nice thing to put on your resume\n",
    "    - All the cool kids are doing (statisticians, computer scientists, plant scientists, bio-statisticians)\n"
   ]
  },
  {
   "attachments": {},
   "cell_type": "markdown",
   "metadata": {
    "slideshow": {
     "slide_type": "slide"
    }
   },
   "source": [
    "- What I expect you to be able to do with Python by the end of the course\n",
    "    - the basics of doing some math\n",
    "    - running a regression\n",
    "    - getting some output\n",
    "    - making a graph of some data\n",
    "    - running a for loop\n",
    "    - writing a super easy function\n",
    "    - Being able to write down your logic to solving a data problem\n",
    "    - COMMENTING YOUR CODE\n",
    "- What I don't expect:\n",
    "    - Memorizing python syntax\n",
    "    - Hacking into Cornell\n"
   ]
  },
  {
   "attachments": {},
   "cell_type": "markdown",
   "metadata": {},
   "source": [
    "## Everything in Python is a class\n",
    "\n",
    "- What does that mean?\n",
    "- Python is an \"object oriented language\"\n",
    "- Everything in python is an \"object\"\n",
    "    - An object is an instance of a class\n",
    "    - Think of a class as a way to organize data and information about a particular unit of something\n",
    "        - A class could be `Household` and your household would be an instance of that household\n",
    "        - A household could have features associated with it\n",
    "            - its income, credit score, home ownership, etc...\n",
    "        - and particular behaviors associated with it\n",
    "            - selling labor on labor market\n",
    "            - mowing the lawn\n",
    "            - buying goods\n",
    "    - Classes are powerful ways to organize code and create encapsulated units so you can control how they interact with other parts of your code\n",
    "- For this course, this would be particularly useful if you wanted to:\n",
    "    - Create custom maximum likelihood problems/GMM problems\n",
    "    - modify code as needed if options you need don't exist\n",
    "    - Write your own python packages!\n"
   ]
  },
  {
   "attachments": {},
   "cell_type": "markdown",
   "metadata": {},
   "source": [
    "## Why are classes powerful?\n",
    "\n",
    "Four principles (of which we will only really think about 2):\n",
    "\n",
    "1. Abstraction*\n",
    "2. Encapsulation\n",
    "3. Inheritance*\n",
    "4. Polymorphism\n",
    "\n",
    "- Abstraction is the idea that you want to think about what you're doing and create as abstract of a component as you can.\n",
    "    - This helps with creating reusable code\n",
    "    - Helps you and the reader of your code understand what is where and which components are used for what\n",
    "    - Example: if you're cleaning data and running regressions, and you know will need to do this for many different outcomes and different X variables\n",
    "        - Do you create a separate piece of code for each?\n",
    "        - `reg y_1 X_1`, `reg y_2 X_2`, `reg y_3 X_3`, etc...\n",
    "        - or would it be better to create one \"class\" or object that is more abstract, that you can adapt to different circumstances\n",
    "    \n",
    "    ```\n",
    "    class Regression:\n",
    "        def reg(y, X):\n",
    "            ...\n",
    "    ```\n",
    "\n",
    "- Inheritance is the idea that we can create new objects from \"parent\" objects and they inherit all its properties\n"
   ]
  },
  {
   "attachments": {},
   "cell_type": "markdown",
   "metadata": {},
   "source": [
    "## What is a class?\n",
    "\n",
    "[![](https://mermaid.ink/img/pako:eNp9kt9OwjAUh1-l6RUm4wV2YQJDRRS9UK8YIV17tjXZekh3GoJj724BJeyP9Kppv3P6_drWXKICHvK0wJ3MhSX2OYsN86NySWbFNmdzdBXkWKjz-mR1WViz8fieHSZEVieO4MBmo2cjsYS7X7YHPIwWmLR3l0A5qgN7rDMwYAXBRp-aNGcMjD-54_RlE2G6ZlHvtKe2Th-YX-lEbZ1FVydkEk1F1knSaJrBopc6cfuNFPaG-ySzWrqCnBVFN8JxTHuWr-0Yw9DyKsoV8Wf21o_jVZk2W0dVwDKLO5YiqubfDu-nbClY0oX-hlbE4-QS5VQ2XQ3nXA_B0arzoJ7iAS_BlkIr_z3rY1XMKYcSYh76qYJU-OYxj03jUeEIP_ZG8tA_EATcbZWPOtPC33nJw1QUFTQ_bGH19Q?type=png)](https://mermaid.live/edit#pako:eNp9kt9OwjAUh1-l6RUm4wV2YQJDRRS9UK8YIV17tjXZekh3GoJj724BJeyP9Kppv3P6_drWXKICHvK0wJ3MhSX2OYsN86NySWbFNmdzdBXkWKjz-mR1WViz8fieHSZEVieO4MBmo2cjsYS7X7YHPIwWmLR3l0A5qgN7rDMwYAXBRp-aNGcMjD-54_RlE2G6ZlHvtKe2Th-YX-lEbZ1FVydkEk1F1knSaJrBopc6cfuNFPaG-ySzWrqCnBVFN8JxTHuWr-0Yw9DyKsoV8Wf21o_jVZk2W0dVwDKLO5YiqubfDu-nbClY0oX-hlbE4-QS5VQ2XQ3nXA_B0arzoJ7iAS_BlkIr_z3rY1XMKYcSYh76qYJU-OYxj03jUeEIP_ZG8tA_EATcbZWPOtPC33nJw1QUFTQ_bGH19Q)"
   ]
  },
  {
   "attachments": {},
   "cell_type": "markdown",
   "metadata": {},
   "source": [
    "## Accessing classes, methods and attributes\n",
    "\n",
    "- Everything in python is a class\n",
    "- So everything follows the same rules\n",
    "- Everything has attributes and methods\n",
    "- Everything inherits from a base class called `object`. Not important...\n",
    "- To get an attribute, we simply use `.` notation\n",
    "\n",
    "```python\n",
    "my_object.whatever_my_attribute_is_called\n",
    "```\n",
    "\n",
    "To call a method (or function):\n",
    "\n",
    "```python\n",
    "my_object.the_method(arg1, arg2,...argn)\n",
    "```"
   ]
  },
  {
   "attachments": {},
   "cell_type": "markdown",
   "metadata": {},
   "source": [
    "## In Econometrics\n",
    "\n",
    "```python\n",
    "class GMM:\n",
    "    def moments(y,X,u):\n",
    "        X_inv = inv(X.T @ X) \n",
    "        # ... some other code\n",
    "        return moments\n",
    "```\n",
    "\n",
    "But if need to define new moments, you can just inherit from the class and go crazy!\n",
    "\n",
    "```python\n",
    "class MyGMM(GMM):\n",
    "    def moments(y,X,u):\n",
    "        # you new code here...\n",
    "        return moments\n",
    "```"
   ]
  },
  {
   "attachments": {},
   "cell_type": "markdown",
   "metadata": {
    "slideshow": {
     "slide_type": "slide"
    }
   },
   "source": [
    "## The Basics of Python"
   ]
  },
  {
   "attachments": {},
   "cell_type": "markdown",
   "metadata": {
    "slideshow": {
     "slide_type": "slide"
    }
   },
   "source": [
    "### The print statement\n"
   ]
  },
  {
   "attachments": {},
   "cell_type": "markdown",
   "metadata": {
    "slideshow": {
     "slide_type": "slide"
    }
   },
   "source": [
    "The first thing we should do is print something so we can see it!"
   ]
  },
  {
   "cell_type": "code",
   "execution_count": 4,
   "metadata": {
    "ExecuteTime": {
     "end_time": "2019-08-04T04:44:11.271235Z",
     "start_time": "2019-08-04T04:44:11.263143Z"
    },
    "slideshow": {
     "slide_type": "slide"
    }
   },
   "outputs": [
    {
     "name": "stdout",
     "output_type": "stream",
     "text": [
      "Hello World\n"
     ]
    }
   ],
   "source": [
    "print('Hello World')"
   ]
  },
  {
   "attachments": {},
   "cell_type": "markdown",
   "metadata": {
    "slideshow": {
     "slide_type": "slide"
    }
   },
   "source": [
    "### Basic Math"
   ]
  },
  {
   "attachments": {},
   "cell_type": "markdown",
   "metadata": {
    "slideshow": {
     "slide_type": "slide"
    }
   },
   "source": [
    "- Writing math in the a code cell gives you output! \n",
    "- In Jupyter, only the last line gets shown"
   ]
  },
  {
   "cell_type": "code",
   "execution_count": 7,
   "metadata": {
    "ExecuteTime": {
     "end_time": "2019-08-04T03:39:08.119345Z",
     "start_time": "2019-08-04T03:39:08.108747Z"
    },
    "slideshow": {
     "slide_type": "slide"
    }
   },
   "outputs": [
    {
     "data": {
      "text/plain": [
       "-1"
      ]
     },
     "execution_count": 7,
     "metadata": {},
     "output_type": "execute_result"
    }
   ],
   "source": [
    "3+3\n",
    "3-4"
   ]
  },
  {
   "attachments": {},
   "cell_type": "markdown",
   "metadata": {
    "slideshow": {
     "slide_type": "slide"
    }
   },
   "source": [
    "### Strings"
   ]
  },
  {
   "attachments": {},
   "cell_type": "markdown",
   "metadata": {
    "slideshow": {
     "slide_type": "slide"
    }
   },
   "source": [
    "- Strings are everything that's not a number\n",
    "- Needs to be in double or single parantheses"
   ]
  },
  {
   "cell_type": "code",
   "execution_count": 13,
   "metadata": {
    "ExecuteTime": {
     "end_time": "2019-08-04T03:40:38.868704Z",
     "start_time": "2019-08-04T03:40:38.858524Z"
    },
    "slideshow": {
     "slide_type": "slide"
    }
   },
   "outputs": [
    {
     "data": {
      "text/plain": [
       "'hello World'"
      ]
     },
     "execution_count": 13,
     "metadata": {},
     "output_type": "execute_result"
    }
   ],
   "source": [
    "a = '''hello World'''\n",
    "a"
   ]
  },
  {
   "attachments": {},
   "cell_type": "markdown",
   "metadata": {
    "slideshow": {
     "slide_type": "slide"
    }
   },
   "source": [
    "### Python Types"
   ]
  },
  {
   "attachments": {},
   "cell_type": "markdown",
   "metadata": {
    "slideshow": {
     "slide_type": "slide"
    }
   },
   "source": [
    "- Python, for the most part has four main \"types\"\n",
    "    - A type is a thing that the interpreter understands\n",
    "- Types\n",
    "    - int\n",
    "    - float\n",
    "    - bool\n",
    "    - string\n",
    "- int - integer (anything that doesn't have a decimal)\n",
    "- float - anything that does have a decimal\n",
    "- bool - `True` or `False` (important for later)\n",
    "- string - stuff in quotation marks\n",
    "    "
   ]
  },
  {
   "attachments": {},
   "cell_type": "markdown",
   "metadata": {
    "slideshow": {
     "slide_type": "slide"
    }
   },
   "source": [
    "### Defining a variable"
   ]
  },
  {
   "attachments": {},
   "cell_type": "markdown",
   "metadata": {
    "slideshow": {
     "slide_type": "-"
    }
   },
   "source": [
    "- For most of what we'll be doing, we'll be taking in data or doing math operations on data, and we will need a way to tell Python to do it to all the data at once.\n",
    "- Variables come in now\n",
    "- Same as in math\n",
    "- define some variable x and assign it a value"
   ]
  },
  {
   "cell_type": "code",
   "execution_count": 14,
   "metadata": {
    "ExecuteTime": {
     "end_time": "2019-08-04T03:42:05.767619Z",
     "start_time": "2019-08-04T03:42:05.754547Z"
    },
    "slideshow": {
     "slide_type": "slide"
    }
   },
   "outputs": [
    {
     "name": "stdout",
     "output_type": "stream",
     "text": [
      "3\n"
     ]
    }
   ],
   "source": [
    "x = 3\n",
    "print(x)"
   ]
  },
  {
   "cell_type": "code",
   "execution_count": 18,
   "metadata": {},
   "outputs": [
    {
     "ename": "SyntaxError",
     "evalue": "unterminated string literal (detected at line 1) (3618319273.py, line 1)",
     "output_type": "error",
     "traceback": [
      "\u001b[0;36m  Cell \u001b[0;32mIn[18], line 1\u001b[0;36m\u001b[0m\n\u001b[0;31m    print(\"3)\u001b[0m\n\u001b[0m          ^\u001b[0m\n\u001b[0;31mSyntaxError\u001b[0m\u001b[0;31m:\u001b[0m unterminated string literal (detected at line 1)\n"
     ]
    }
   ],
   "source": [
    "print(\"3)"
   ]
  },
  {
   "attachments": {},
   "cell_type": "markdown",
   "metadata": {
    "slideshow": {
     "slide_type": "slide"
    }
   },
   "source": [
    "- We can also assign strings to variables."
   ]
  },
  {
   "cell_type": "code",
   "execution_count": 19,
   "metadata": {
    "ExecuteTime": {
     "end_time": "2019-08-04T03:42:44.554322Z",
     "start_time": "2019-08-04T03:42:44.541963Z"
    },
    "slideshow": {
     "slide_type": "slide"
    }
   },
   "outputs": [
    {
     "name": "stdout",
     "output_type": "stream",
     "text": [
      "Hello World\n"
     ]
    }
   ],
   "source": [
    "string = \"Hello World\"\n",
    "\n",
    "print(string)"
   ]
  },
  {
   "attachments": {},
   "cell_type": "markdown",
   "metadata": {
    "slideshow": {
     "slide_type": "slide"
    }
   },
   "source": [
    "- We can also print a statement with a variable so that it gives us a nice message\n",
    "    - the f-string"
   ]
  },
  {
   "cell_type": "code",
   "execution_count": 21,
   "metadata": {
    "ExecuteTime": {
     "end_time": "2019-08-04T03:44:11.095179Z",
     "start_time": "2019-08-04T03:44:11.084918Z"
    },
    "slideshow": {
     "slide_type": "-"
    }
   },
   "outputs": [
    {
     "name": "stdout",
     "output_type": "stream",
     "text": [
      "I am 3 years old\n",
      "I am {x} years old\n"
     ]
    }
   ],
   "source": [
    "print(f\"I am {x} years old\")\n",
    "print(\"I am {x} years old\")"
   ]
  },
  {
   "attachments": {},
   "cell_type": "markdown",
   "metadata": {
    "slideshow": {
     "slide_type": "slide"
    }
   },
   "source": [
    "Fun Fact: The addition operator is \"overloaded\" in Python, meaning that you can \"add\" strings together"
   ]
  },
  {
   "cell_type": "code",
   "execution_count": 23,
   "metadata": {
    "ExecuteTime": {
     "end_time": "2019-08-04T03:45:44.393694Z",
     "start_time": "2019-08-04T03:45:44.382586Z"
    },
    "slideshow": {
     "slide_type": "-"
    }
   },
   "outputs": [
    {
     "data": {
      "text/plain": [
       "'first string second string'"
      ]
     },
     "execution_count": 23,
     "metadata": {},
     "output_type": "execute_result"
    }
   ],
   "source": [
    "\"first string\" + \" \" + \"second string\""
   ]
  },
  {
   "attachments": {},
   "cell_type": "markdown",
   "metadata": {
    "slideshow": {
     "slide_type": "slide"
    }
   },
   "source": [
    "### Containers (Lists, Tuples and Dictionaries)"
   ]
  },
  {
   "attachments": {},
   "cell_type": "markdown",
   "metadata": {
    "slideshow": {
     "slide_type": "-"
    }
   },
   "source": [
    "- This is a little bit more advanced\n",
    "- But this is super important\n"
   ]
  },
  {
   "attachments": {},
   "cell_type": "markdown",
   "metadata": {
    "slideshow": {
     "slide_type": "slide"
    }
   },
   "source": [
    "### Lists"
   ]
  },
  {
   "attachments": {},
   "cell_type": "markdown",
   "metadata": {
    "slideshow": {
     "slide_type": "-"
    }
   },
   "source": [
    "- Lists can be collections of objects (numbers, strings) that you can put together\n",
    "- We can refer to an object in a list by using \"slicing notation\""
   ]
  },
  {
   "cell_type": "code",
   "execution_count": 32,
   "metadata": {
    "ExecuteTime": {
     "end_time": "2019-08-04T04:45:19.222270Z",
     "start_time": "2019-08-04T04:45:19.211110Z"
    },
    "slideshow": {
     "slide_type": "slide"
    }
   },
   "outputs": [
    {
     "name": "stdout",
     "output_type": "stream",
     "text": [
      "[2, 'string']\n"
     ]
    },
    {
     "data": {
      "text/plain": [
       "[1, 2, 'string']"
      ]
     },
     "execution_count": 32,
     "metadata": {},
     "output_type": "execute_result"
    }
   ],
   "source": [
    "y = [1,2,'string']\n",
    "\n",
    "# print(y[3])\n",
    "\n",
    "print(y[1:])\n",
    "\n",
    "# y\n",
    "y[0:3]"
   ]
  },
  {
   "attachments": {},
   "cell_type": "markdown",
   "metadata": {
    "slideshow": {
     "slide_type": "slide"
    }
   },
   "source": [
    "- We can also do thing like `append` and `extend` to a list"
   ]
  },
  {
   "cell_type": "code",
   "execution_count": 57,
   "metadata": {
    "ExecuteTime": {
     "end_time": "2019-08-04T04:45:21.535021Z",
     "start_time": "2019-08-04T04:45:21.524395Z"
    },
    "slideshow": {
     "slide_type": "-"
    }
   },
   "outputs": [
    {
     "data": {
      "text/plain": [
       "[1, 2, 'string', 2]"
      ]
     },
     "execution_count": 57,
     "metadata": {},
     "output_type": "execute_result"
    }
   ],
   "source": [
    "y.append(2)\n",
    "y"
   ]
  },
  {
   "cell_type": "code",
   "execution_count": 58,
   "metadata": {
    "ExecuteTime": {
     "end_time": "2019-08-04T04:45:23.748587Z",
     "start_time": "2019-08-04T04:45:23.730292Z"
    },
    "slideshow": {
     "slide_type": "slide"
    }
   },
   "outputs": [
    {
     "data": {
      "text/plain": [
       "[1, 2, 'string', 2, [5, 6]]"
      ]
     },
     "execution_count": 58,
     "metadata": {},
     "output_type": "execute_result"
    }
   ],
   "source": [
    "y.append([5,6])\n",
    "y"
   ]
  },
  {
   "cell_type": "code",
   "execution_count": 33,
   "metadata": {
    "ExecuteTime": {
     "end_time": "2019-08-04T04:45:26.051849Z",
     "start_time": "2019-08-04T04:45:26.040279Z"
    },
    "slideshow": {
     "slide_type": "slide"
    }
   },
   "outputs": [
    {
     "data": {
      "text/plain": [
       "[1, 2, 'string', 4, 5]"
      ]
     },
     "execution_count": 33,
     "metadata": {},
     "output_type": "execute_result"
    }
   ],
   "source": [
    "y.extend([4,5, None])\n",
    "y"
   ]
  },
  {
   "cell_type": "code",
   "execution_count": 23,
   "metadata": {
    "ExecuteTime": {
     "end_time": "2019-08-04T04:02:02.397481Z",
     "start_time": "2019-08-04T04:02:02.385614Z"
    },
    "slideshow": {
     "slide_type": "slide"
    }
   },
   "outputs": [
    {
     "data": {
      "text/plain": [
       "[4, 5, 1, 2]"
      ]
     },
     "execution_count": 23,
     "metadata": {},
     "output_type": "execute_result"
    }
   ],
   "source": [
    "[4,5] + [1,2]"
   ]
  },
  {
   "cell_type": "code",
   "execution_count": 60,
   "metadata": {
    "ExecuteTime": {
     "end_time": "2019-08-04T04:45:47.712648Z",
     "start_time": "2019-08-04T04:45:47.701597Z"
    },
    "slideshow": {
     "slide_type": "slide"
    }
   },
   "outputs": [
    {
     "data": {
      "text/plain": [
       "7"
      ]
     },
     "execution_count": 60,
     "metadata": {},
     "output_type": "execute_result"
    }
   ],
   "source": [
    "len(y)"
   ]
  },
  {
   "attachments": {},
   "cell_type": "markdown",
   "metadata": {
    "slideshow": {
     "slide_type": "slide"
    }
   },
   "source": [
    "- Note: These operations are \"inplace\"\n",
    "    - That means the list itself is changed!\n",
    "    - Continuously running the program will lead to it getting changed\n",
    "    - Lists are MUTABLE"
   ]
  },
  {
   "attachments": {},
   "cell_type": "markdown",
   "metadata": {
    "slideshow": {
     "slide_type": "slide"
    }
   },
   "source": [
    "- An example of an immutable list is a tuple\n",
    "- Once it's created, the underlying tuple can't be changed"
   ]
  },
  {
   "cell_type": "code",
   "execution_count": 36,
   "metadata": {
    "ExecuteTime": {
     "end_time": "2019-08-04T04:46:23.439030Z",
     "start_time": "2019-08-04T04:46:23.427997Z"
    },
    "slideshow": {
     "slide_type": "slide"
    }
   },
   "outputs": [
    {
     "data": {
      "text/plain": [
       "1"
      ]
     },
     "execution_count": 36,
     "metadata": {},
     "output_type": "execute_result"
    }
   ],
   "source": [
    "x = (1,2,'string')\n",
    "\n",
    "x[0]"
   ]
  },
  {
   "cell_type": "code",
   "execution_count": 37,
   "metadata": {},
   "outputs": [
    {
     "ename": "AttributeError",
     "evalue": "'tuple' object has no attribute 'append'",
     "output_type": "error",
     "traceback": [
      "\u001b[0;31m---------------------------------------------------------------------------\u001b[0m",
      "\u001b[0;31mAttributeError\u001b[0m                            Traceback (most recent call last)",
      "Cell \u001b[0;32mIn[37], line 1\u001b[0m\n\u001b[0;32m----> 1\u001b[0m x\u001b[39m.\u001b[39;49mappend(\u001b[39m2\u001b[39m)\n",
      "\u001b[0;31mAttributeError\u001b[0m: 'tuple' object has no attribute 'append'"
     ]
    }
   ],
   "source": [
    "x.append(2)"
   ]
  },
  {
   "cell_type": "code",
   "execution_count": 35,
   "metadata": {
    "ExecuteTime": {
     "end_time": "2019-08-04T04:46:26.587703Z",
     "start_time": "2019-08-04T04:46:26.576693Z"
    },
    "slideshow": {
     "slide_type": "slide"
    }
   },
   "outputs": [
    {
     "data": {
      "text/plain": [
       "(1, 2, 'string', 1, 2, 'string')"
      ]
     },
     "execution_count": 35,
     "metadata": {},
     "output_type": "execute_result"
    }
   ],
   "source": [
    "x + x\n"
   ]
  },
  {
   "cell_type": "code",
   "execution_count": 40,
   "metadata": {
    "ExecuteTime": {
     "end_time": "2019-08-04T04:03:30.630439Z",
     "start_time": "2019-08-04T04:03:30.613728Z"
    },
    "slideshow": {
     "slide_type": "slide"
    }
   },
   "outputs": [
    {
     "name": "stdout",
     "output_type": "stream",
     "text": [
      "1\n",
      "2\n",
      "string\n"
     ]
    }
   ],
   "source": [
    "a,b, c = x\n",
    "\n",
    "print(a)\n",
    "print(b)\n",
    "print(c)"
   ]
  },
  {
   "attachments": {},
   "cell_type": "markdown",
   "metadata": {
    "slideshow": {
     "slide_type": "slide"
    }
   },
   "source": [
    "### Dictionaries"
   ]
  },
  {
   "attachments": {},
   "cell_type": "markdown",
   "metadata": {
    "slideshow": {
     "slide_type": "-"
    }
   },
   "source": [
    "- Dictionaries are analogous to how you would thing of data\n",
    "    - Income maps onto a big column or data\n",
    "- Dictionaries have a `key` (income) and `values` (the data)"
   ]
  },
  {
   "cell_type": "code",
   "execution_count": 47,
   "metadata": {
    "ExecuteTime": {
     "end_time": "2019-08-04T04:05:57.156974Z",
     "start_time": "2019-08-04T04:05:57.144470Z"
    },
    "slideshow": {
     "slide_type": "slide"
    }
   },
   "outputs": [
    {
     "data": {
      "text/plain": [
       "\"don't be stupid\""
      ]
     },
     "execution_count": 47,
     "metadata": {},
     "output_type": "execute_result"
    }
   ],
   "source": [
    "my_dictionary = {\n",
    "    'income' : [1,2,3],\n",
    "    'other stuff' : 1,\n",
    "    'and more stuff' : 'a string'\n",
    "}\n",
    "\n",
    "my_dictionary.get('incomewekjflwghj',\"don't be stupid\")"
   ]
  },
  {
   "attachments": {},
   "cell_type": "markdown",
   "metadata": {
    "slideshow": {
     "slide_type": "slide"
    }
   },
   "source": [
    "- This is basically like you would think of a \"dictionary\" that you would read:\n",
    "    - The letter \"A\" applies to all words that start with A, \"B\" with B so on...\n"
   ]
  },
  {
   "cell_type": "code",
   "execution_count": 34,
   "metadata": {
    "ExecuteTime": {
     "end_time": "2019-08-04T04:07:31.385010Z",
     "start_time": "2019-08-04T04:07:31.373866Z"
    },
    "slideshow": {
     "slide_type": "slide"
    }
   },
   "outputs": [
    {
     "data": {
      "text/plain": [
       "dict_keys(['income', 'other stuff', 'and more stuff'])"
      ]
     },
     "execution_count": 34,
     "metadata": {},
     "output_type": "execute_result"
    }
   ],
   "source": [
    "my_dictionary.keys()"
   ]
  },
  {
   "cell_type": "code",
   "execution_count": 36,
   "metadata": {
    "ExecuteTime": {
     "end_time": "2019-08-04T04:09:10.125535Z",
     "start_time": "2019-08-04T04:09:10.109188Z"
    },
    "slideshow": {
     "slide_type": "slide"
    }
   },
   "outputs": [
    {
     "data": {
      "text/plain": [
       "dict_values([[1, 2, 3], 1, 'a string'])"
      ]
     },
     "execution_count": 36,
     "metadata": {},
     "output_type": "execute_result"
    }
   ],
   "source": [
    "my_dictionary.values()"
   ]
  },
  {
   "cell_type": "code",
   "execution_count": 48,
   "metadata": {
    "ExecuteTime": {
     "end_time": "2019-08-04T04:09:44.543777Z",
     "start_time": "2019-08-04T04:09:44.531672Z"
    },
    "slideshow": {
     "slide_type": "slide"
    }
   },
   "outputs": [
    {
     "data": {
      "text/plain": [
       "[[1, 2, 3], 1, 'a string']"
      ]
     },
     "execution_count": 48,
     "metadata": {},
     "output_type": "execute_result"
    }
   ],
   "source": [
    "list(my_dictionary.values())"
   ]
  },
  {
   "attachments": {},
   "cell_type": "markdown",
   "metadata": {
    "slideshow": {
     "slide_type": "slide"
    }
   },
   "source": [
    "### The Range function"
   ]
  },
  {
   "attachments": {},
   "cell_type": "markdown",
   "metadata": {
    "slideshow": {
     "slide_type": "-"
    }
   },
   "source": [
    "Fun Fact: one really useful function, but which is not any of the ones we talked about above is the `range` function\n",
    "\n",
    "It's really good for loops"
   ]
  },
  {
   "cell_type": "code",
   "execution_count": 51,
   "metadata": {},
   "outputs": [
    {
     "data": {
      "text/plain": [
       "range(0, 100000000)"
      ]
     },
     "execution_count": 51,
     "metadata": {},
     "output_type": "execute_result"
    }
   ],
   "source": [
    "range(100000000)"
   ]
  },
  {
   "attachments": {},
   "cell_type": "markdown",
   "metadata": {
    "slideshow": {
     "slide_type": "slide"
    }
   },
   "source": [
    "### Loops"
   ]
  },
  {
   "attachments": {},
   "cell_type": "markdown",
   "metadata": {
    "slideshow": {
     "slide_type": "-"
    }
   },
   "source": [
    "-  Loops are a great way to go through list and things to and do multiple things to multiple things\n",
    "- When working with data, that's going to be useful, to say the least.\n",
    "- We're going to focus on `for` loops."
   ]
  },
  {
   "attachments": {},
   "cell_type": "markdown",
   "metadata": {
    "slideshow": {
     "slide_type": "slide"
    }
   },
   "source": [
    "-  Setup:\n",
    "    - Let's say we have a list of numbers, and we want to go through each of them and see what they are\n",
    "    - What can we use?\n",
    "    "
   ]
  },
  {
   "cell_type": "code",
   "execution_count": 54,
   "metadata": {
    "ExecuteTime": {
     "end_time": "2019-08-04T04:15:17.508451Z",
     "start_time": "2019-08-04T04:15:17.496745Z"
    },
    "slideshow": {
     "slide_type": "-"
    }
   },
   "outputs": [
    {
     "name": "stdout",
     "output_type": "stream",
     "text": [
      "h\n",
      "e\n",
      "l\n",
      "l\n",
      "o\n",
      " \n",
      "w\n",
      "o\n",
      "r\n",
      "l\n",
      "d\n"
     ]
    }
   ],
   "source": [
    "looper = [1,2,3,4,6,8]\n",
    "\n",
    "for thing in 'hello world':\n",
    "    print(thing)"
   ]
  },
  {
   "attachments": {},
   "cell_type": "markdown",
   "metadata": {
    "slideshow": {
     "slide_type": "slide"
    }
   },
   "source": [
    "- The loop basically tells python this:\n",
    "    - Here's this list, and for the purposes of our discussion together, I want you to consider each part of this list and call it `thing`. As many times as there are `thing`s in this list, do something for me, like print out what the `thing` is."
   ]
  },
  {
   "attachments": {},
   "cell_type": "markdown",
   "metadata": {
    "slideshow": {
     "slide_type": "slide"
    }
   },
   "source": [
    "- What if we wanted to make a list out of a loop?\n",
    "    - We have to start by telling python, \"this here is the list that I want you to add to\"\n",
    "    - Then, do some stuff in the loop (like let's say add 1 to a variable)\n",
    "    - and `append` it to the list.\n",
    "    - The only thing left is to tell it how many times we want python to do it\n",
    "        - Enter the range function from before\n",
    "    "
   ]
  },
  {
   "cell_type": "code",
   "execution_count": 44,
   "metadata": {
    "ExecuteTime": {
     "end_time": "2019-08-04T04:20:00.345722Z",
     "start_time": "2019-08-04T04:20:00.322066Z"
    },
    "slideshow": {
     "slide_type": "slide"
    }
   },
   "outputs": [
    {
     "data": {
      "text/plain": [
       "[2, 3, 4, 5, 6, 7, 8, 9, 10, 11]"
      ]
     },
     "execution_count": 44,
     "metadata": {},
     "output_type": "execute_result"
    }
   ],
   "source": [
    "list_to_work_with = []\n",
    "\n",
    "variable = 1\n",
    "\n",
    "for thing in range(10):\n",
    "    \n",
    "    variable = variable + 1\n",
    "    list_to_work_with.append(variable)\n",
    "\n",
    "list_to_work_with"
   ]
  },
  {
   "attachments": {},
   "cell_type": "markdown",
   "metadata": {
    "slideshow": {
     "slide_type": "slide"
    }
   },
   "source": [
    "### IF Statement"
   ]
  },
  {
   "attachments": {},
   "cell_type": "markdown",
   "metadata": {
    "slideshow": {
     "slide_type": "-"
    }
   },
   "source": [
    "- This is where `bool` type comes in\n",
    "- an If Statement lets you break up code based on whether something is `True` or `False`\n"
   ]
  },
  {
   "cell_type": "code",
   "execution_count": 55,
   "metadata": {
    "ExecuteTime": {
     "end_time": "2019-08-04T04:22:17.627213Z",
     "start_time": "2019-08-04T04:22:17.615698Z"
    },
    "slideshow": {
     "slide_type": "slide"
    }
   },
   "outputs": [
    {
     "data": {
      "text/plain": [
       "False"
      ]
     },
     "execution_count": 55,
     "metadata": {},
     "output_type": "execute_result"
    }
   ],
   "source": [
    "x=0\n",
    "x==1"
   ]
  },
  {
   "cell_type": "code",
   "execution_count": 56,
   "metadata": {},
   "outputs": [
    {
     "data": {
      "text/plain": [
       "0"
      ]
     },
     "execution_count": 56,
     "metadata": {},
     "output_type": "execute_result"
    }
   ],
   "source": [
    "bool(x)"
   ]
  },
  {
   "cell_type": "code",
   "execution_count": 67,
   "metadata": {},
   "outputs": [
    {
     "data": {
      "text/plain": [
       "False"
      ]
     },
     "execution_count": 67,
     "metadata": {},
     "output_type": "execute_result"
    }
   ],
   "source": [
    "five = '5'\n",
    "bool([])"
   ]
  },
  {
   "cell_type": "code",
   "execution_count": 69,
   "metadata": {},
   "outputs": [
    {
     "data": {
      "text/plain": [
       "True"
      ]
     },
     "execution_count": 69,
     "metadata": {},
     "output_type": "execute_result"
    }
   ],
   "source": [
    "x==0"
   ]
  },
  {
   "cell_type": "code",
   "execution_count": 72,
   "metadata": {
    "ExecuteTime": {
     "end_time": "2019-08-04T04:22:44.853741Z",
     "start_time": "2019-08-04T04:22:44.840582Z"
    },
    "slideshow": {
     "slide_type": "slide"
    }
   },
   "outputs": [
    {
     "name": "stdout",
     "output_type": "stream",
     "text": [
      "wow\n"
     ]
    }
   ],
   "source": [
    "if x==0:\n",
    "    print(\"wow\")\n",
    "elif x>1:\n",
    "    print(\"hehgh\")\n",
    "else:\n",
    "    print(\"still wow, but not as wow\")"
   ]
  },
  {
   "cell_type": "code",
   "execution_count": 75,
   "metadata": {},
   "outputs": [
    {
     "name": "stdout",
     "output_type": "stream",
     "text": [
      "Intel MKL WARNING: Support of Intel(R) Streaming SIMD Extensions 4.2 (Intel(R) SSE4.2) enabled only processors has been deprecated. Intel oneAPI Math Kernel Library 2025.0 will require Intel(R) Advanced Vector Extensions (Intel(R) AVX) instructions.\n",
      "Intel MKL WARNING: Support of Intel(R) Streaming SIMD Extensions 4.2 (Intel(R) SSE4.2) enabled only processors has been deprecated. Intel oneAPI Math Kernel Library 2025.0 will require Intel(R) Advanced Vector Extensions (Intel(R) AVX) instructions.\n"
     ]
    }
   ],
   "source": [
    "import numpy as np"
   ]
  },
  {
   "cell_type": "code",
   "execution_count": 79,
   "metadata": {},
   "outputs": [
    {
     "name": "stdout",
     "output_type": "stream",
     "text": [
      "it's fine.\n",
      "it's fine.\n",
      "it's zero\n",
      "it's fine.\n",
      "it has stuff\n"
     ]
    }
   ],
   "source": [
    "list_to_work_with = []\n",
    "\n",
    "variable = 1\n",
    "\n",
    "for thing in [1,2,0, 4]:\n",
    "    \n",
    "    if thing == 0:\n",
    "        print(\"it's zero\")\n",
    "        list_to_work_with.append(thing)\n",
    "    else:\n",
    "        print(\"it's fine.\")\n",
    "    \n",
    "\n",
    "if list_to_work_with:\n",
    "    print(\"it has stuff\")\n",
    "else:\n",
    "    print(\"empty\")\n"
   ]
  },
  {
   "attachments": {},
   "cell_type": "markdown",
   "metadata": {
    "slideshow": {
     "slide_type": "slide"
    }
   },
   "source": [
    "- This is really useful in the context of loops.\n",
    "- Let's say we want to print a number from a list, but only if it's not like those ugly odd numbers."
   ]
  },
  {
   "cell_type": "code",
   "execution_count": 51,
   "metadata": {
    "ExecuteTime": {
     "end_time": "2019-08-04T04:25:46.886956Z",
     "start_time": "2019-08-04T04:25:46.868478Z"
    },
    "slideshow": {
     "slide_type": "-"
    }
   },
   "outputs": [
    {
     "name": "stdout",
     "output_type": "stream",
     "text": [
      "0\n",
      "ew that was an odd number\n",
      "2\n",
      "ew that was an odd number\n",
      "4\n",
      "ew that was an odd number\n",
      "6\n",
      "ew that was an odd number\n",
      "8\n",
      "ew that was an odd number\n"
     ]
    }
   ],
   "source": [
    "for thing in range(10):\n",
    "    \n",
    "    if thing%2==0:\n",
    "        print(thing)\n",
    "    else:\n",
    "        print(\"ew that was an odd number\")\n"
   ]
  },
  {
   "attachments": {},
   "cell_type": "markdown",
   "metadata": {
    "slideshow": {
     "slide_type": "-"
    }
   },
   "source": [
    "Actually we can tell python to just not do anything if it encounters the `else` eventuality."
   ]
  },
  {
   "cell_type": "code",
   "execution_count": 82,
   "metadata": {
    "ExecuteTime": {
     "end_time": "2019-08-04T04:26:26.182266Z",
     "start_time": "2019-08-04T04:26:26.171132Z"
    },
    "slideshow": {
     "slide_type": "slide"
    }
   },
   "outputs": [
    {
     "name": "stdout",
     "output_type": "stream",
     "text": [
      "0\n"
     ]
    }
   ],
   "source": [
    "for thing in range(10):\n",
    "    \n",
    "    if thing%2==0:\n",
    "        print(thing)\n",
    "    else:\n",
    "        break"
   ]
  },
  {
   "attachments": {},
   "cell_type": "markdown",
   "metadata": {
    "slideshow": {
     "slide_type": "slide"
    }
   },
   "source": [
    "### Functions"
   ]
  },
  {
   "attachments": {},
   "cell_type": "markdown",
   "metadata": {
    "slideshow": {
     "slide_type": "-"
    }
   },
   "source": [
    "- A super important thing that will be useful for us when we work with data, is the idea of functions.\n",
    "- Function are mini-programs that take in some input and shoots something out for us\n",
    "    - So similar to a function in math, $f(x)$"
   ]
  },
  {
   "cell_type": "code",
   "execution_count": 90,
   "metadata": {
    "ExecuteTime": {
     "end_time": "2019-08-04T04:31:26.041663Z",
     "start_time": "2019-08-04T04:31:26.027911Z"
    },
    "slideshow": {
     "slide_type": "slide"
    }
   },
   "outputs": [],
   "source": [
    "def f(x):\n",
    "    y = x+1\n",
    "    # return y,x\n",
    "\n",
    "f(2)"
   ]
  },
  {
   "cell_type": "markdown",
   "metadata": {},
   "source": [
    "## Comprehensions\n",
    "\n",
    "Many times, a pattern seen a lot in python is that you'll create an empty list, loop over something and then put the result in that list:\n",
    "\n",
    "```python\n",
    "my_list = []\n",
    "\n",
    "X = [1,2,3,4,5]\n",
    "\n",
    "for x in X:\n",
    "    X_new = X +1 # create a new variable and add 1\n",
    "    my_list.append(X)\n",
    "\n",
    "print(X)\n",
    "print(my_list)\n",
    "\n",
    "```\n",
    "\n",
    "For complicated loops, this works, but if all you wanted to do is that addition above, there's a fast and easier way:\n",
    "\n",
    "```python\n",
    "my_list = [x+1 for x in X]\n",
    "```\n",
    "\n",
    "You can do the same with dictionaries and tuples as well!\n",
    "\n",
    "```python\n",
    "my_dict = {k:v + 1 for k,v in enumerate(X)} # enumerate creates a counter \n",
    "```"
   ]
  },
  {
   "cell_type": "code",
   "execution_count": 106,
   "metadata": {},
   "outputs": [
    {
     "name": "stdout",
     "output_type": "stream",
     "text": [
      "[2, 3, 4, 5, 6]\n"
     ]
    }
   ],
   "source": [
    "X = [1,2,3,4,5]\n",
    "\n",
    "my_list = []\n",
    "\n",
    "for x in X:\n",
    "    X_new = x+ 1 # create a new variable and add 1\n",
    "    my_list.append(X_new)\n",
    "\n",
    "print(my_list)"
   ]
  },
  {
   "cell_type": "code",
   "execution_count": 107,
   "metadata": {},
   "outputs": [
    {
     "data": {
      "text/plain": [
       "[2, 3, 4, 5, 6]"
      ]
     },
     "execution_count": 107,
     "metadata": {},
     "output_type": "execute_result"
    }
   ],
   "source": [
    "my_list = [x+1 for x in X]\n",
    "my_list"
   ]
  },
  {
   "cell_type": "code",
   "execution_count": 109,
   "metadata": {},
   "outputs": [
    {
     "data": {
      "text/plain": [
       "{0: 2, 1: 3, 2: 4, 3: 5, 4: 6}"
      ]
     },
     "execution_count": 109,
     "metadata": {},
     "output_type": "execute_result"
    }
   ],
   "source": [
    "my_dict = {k:v + 1 for k,v in enumerate(X)}\n",
    "\n",
    "my_dict"
   ]
  },
  {
   "cell_type": "code",
   "execution_count": 126,
   "metadata": {},
   "outputs": [],
   "source": [
    "my_dict = {}\n",
    "\n",
    "for k,v in enumerate(X):\n",
    "    my_dict[k] = v+1"
   ]
  },
  {
   "cell_type": "code",
   "execution_count": 127,
   "metadata": {},
   "outputs": [
    {
     "data": {
      "text/plain": [
       "{0: 2, 1: 3, 2: 4, 3: 5, 4: 6}"
      ]
     },
     "execution_count": 127,
     "metadata": {},
     "output_type": "execute_result"
    }
   ],
   "source": [
    "my_dict"
   ]
  },
  {
   "cell_type": "code",
   "execution_count": 118,
   "metadata": {},
   "outputs": [],
   "source": [
    "b = enumerate(X)\n"
   ]
  },
  {
   "cell_type": "code",
   "execution_count": 123,
   "metadata": {},
   "outputs": [
    {
     "data": {
      "text/plain": [
       "(4, 5)"
      ]
     },
     "execution_count": 123,
     "metadata": {},
     "output_type": "execute_result"
    }
   ],
   "source": [
    "\n",
    "next(b)"
   ]
  },
  {
   "cell_type": "code",
   "execution_count": 125,
   "metadata": {},
   "outputs": [
    {
     "name": "stdout",
     "output_type": "stream",
     "text": [
      "index 0, value 1\n",
      "index 1, value 2\n",
      "index 2, value 3\n",
      "index 3, value 4\n",
      "index 4, value 5\n"
     ]
    }
   ],
   "source": [
    "for i, v in enumerate(X):\n",
    "    print(f\"index {i}, value {v}\")\n"
   ]
  },
  {
   "cell_type": "markdown",
   "metadata": {},
   "source": [
    "## Functional Programming\n",
    "\n",
    "-  There are many different ways to program and one of these ways is functional programming\n",
    "- There are functional programming languages like `haskell`, where everything is a function and you define things as a function\n",
    "- Although Python is not a functional language, it has tools for functional programming.\n",
    "- Functional programming also teaches us a great way to write code (write code without side effects, more on that later)\n",
    "- Python gives us three great tools from functional programming, `map`, `filter` and `reduce`\n",
    "    - These functions are fast, and uses lambda functions heavily"
   ]
  },
  {
   "cell_type": "markdown",
   "metadata": {},
   "source": [
    "`map` takes a function and applies each element from a list together"
   ]
  },
  {
   "cell_type": "code",
   "execution_count": 138,
   "metadata": {},
   "outputs": [
    {
     "data": {
      "text/plain": [
       "[12, 15, 18]"
      ]
     },
     "execution_count": 138,
     "metadata": {},
     "output_type": "execute_result"
    }
   ],
   "source": [
    "m = map(lambda a,b,c:  a+b+c, [1,2,3], [4,5,6], [7,8,9]) # creates an iterable, not important right now\n",
    "\n",
    "list(m)\n"
   ]
  },
  {
   "cell_type": "code",
   "execution_count": null,
   "metadata": {},
   "outputs": [],
   "source": [
    "def f(a,b,c): #(1,4,7), (2,5,8), (3,6,9)\n",
    "    return a+b+c"
   ]
  },
  {
   "cell_type": "markdown",
   "metadata": {},
   "source": [
    "`filter` keeps only a part of the list that matches some condition:"
   ]
  },
  {
   "cell_type": "code",
   "execution_count": 6,
   "metadata": {},
   "outputs": [
    {
     "data": {
      "text/plain": [
       "[81, 82, 83, 84, 85, 86, 87, 88, 89, 90, 91, 92, 93, 94, 95, 96, 97, 98, 99]"
      ]
     },
     "execution_count": 6,
     "metadata": {},
     "output_type": "execute_result"
    }
   ],
   "source": [
    "list(filter(lambda x: x>80, range(100)))"
   ]
  },
  {
   "cell_type": "code",
   "execution_count": 139,
   "metadata": {},
   "outputs": [],
   "source": [
    "def f(x):\n",
    "    return x>80"
   ]
  },
  {
   "cell_type": "markdown",
   "metadata": {},
   "source": [
    "`reduce` recursively does operations on the list. This function is in the `functools` library"
   ]
  },
  {
   "cell_type": "code",
   "execution_count": 7,
   "metadata": {},
   "outputs": [
    {
     "data": {
      "text/plain": [
       "16"
      ]
     },
     "execution_count": 7,
     "metadata": {},
     "output_type": "execute_result"
    }
   ],
   "source": [
    "from functools import reduce\n",
    "\n",
    "reduce(lambda x, y: x+y, [1,2,3,4,6])"
   ]
  },
  {
   "cell_type": "code",
   "execution_count": 140,
   "metadata": {},
   "outputs": [],
   "source": [
    "def f(x,y):\n",
    "    return x+y"
   ]
  },
  {
   "attachments": {},
   "cell_type": "markdown",
   "metadata": {
    "slideshow": {
     "slide_type": "slide"
    }
   },
   "source": [
    "## Exercises"
   ]
  },
  {
   "attachments": {},
   "cell_type": "markdown",
   "metadata": {},
   "source": [
    "### Question 1 \n",
    "\n",
    "Let's have some fun with strings! Yay! define a string `string= \"Hello World\"`. Now just multiply it by 3, so `string*3`. What happens?"
   ]
  },
  {
   "cell_type": "code",
   "execution_count": 142,
   "metadata": {},
   "outputs": [
    {
     "data": {
      "text/plain": [
       "'Hello WorldHello WorldHello World'"
      ]
     },
     "execution_count": 142,
     "metadata": {},
     "output_type": "execute_result"
    }
   ],
   "source": [
    "string = \"Hello World\"\n",
    "string*3"
   ]
  },
  {
   "attachments": {},
   "cell_type": "markdown",
   "metadata": {},
   "source": [
    "### Question 2\n",
    "\n",
    "Now what happens when, instead of a running this loop:\n",
    "\n",
    "```\n",
    "looper = [1,2,3,4,6,8]\n",
    "\n",
    "for thing in looper:\n",
    "    print(thing)\n",
    "```\n",
    "\n",
    "You put substitute, `looper` for `string`? What happens?\n"
   ]
  },
  {
   "cell_type": "code",
   "execution_count": 143,
   "metadata": {},
   "outputs": [
    {
     "name": "stdout",
     "output_type": "stream",
     "text": [
      "H\n",
      "e\n",
      "l\n",
      "l\n",
      "o\n",
      " \n",
      "W\n",
      "o\n",
      "r\n",
      "l\n",
      "d\n"
     ]
    }
   ],
   "source": [
    "looper = [1,2,3,4,6,8]\n",
    "\n",
    "for thing in string:\n",
    "    print(thing)"
   ]
  },
  {
   "attachments": {},
   "cell_type": "markdown",
   "metadata": {
    "slideshow": {
     "slide_type": "slide"
    }
   },
   "source": [
    "### Question 3\n",
    "\n",
    "Write a function that squares a number: $f(x) = x^2$. Evaluate this function at $x=4$."
   ]
  },
  {
   "cell_type": "code",
   "execution_count": 2,
   "metadata": {},
   "outputs": [
    {
     "data": {
      "text/plain": [
       "16"
      ]
     },
     "execution_count": 2,
     "metadata": {},
     "output_type": "execute_result"
    }
   ],
   "source": [
    "def f(x):\n",
    "    y=x**2\n",
    "    return y\n",
    "f(4)\n",
    "\n",
    "f = lambda x: x**2\n",
    "f(4)"
   ]
  },
  {
   "attachments": {},
   "cell_type": "markdown",
   "metadata": {
    "slideshow": {
     "slide_type": "slide"
    }
   },
   "source": [
    "### Question 4\n",
    "\n",
    "Now that you have a function, let's see what we can do with it! Does this function work with a list of numbers? Let's find out!\n",
    "\n",
    "Define a list `a=[1,2,3]` and evaluate the function at `a`. What happens?"
   ]
  },
  {
   "cell_type": "code",
   "execution_count": 3,
   "metadata": {},
   "outputs": [
    {
     "ename": "TypeError",
     "evalue": "unsupported operand type(s) for ** or pow(): 'list' and 'int'",
     "output_type": "error",
     "traceback": [
      "\u001b[0;31m---------------------------------------------------------------------------\u001b[0m",
      "\u001b[0;31mTypeError\u001b[0m                                 Traceback (most recent call last)",
      "Cell \u001b[0;32mIn[3], line 3\u001b[0m\n\u001b[1;32m      1\u001b[0m a \u001b[39m=\u001b[39m [\u001b[39m1\u001b[39m,\u001b[39m2\u001b[39m,\u001b[39m3\u001b[39m]\n\u001b[0;32m----> 3\u001b[0m f(a)\n",
      "Cell \u001b[0;32mIn[2], line 6\u001b[0m, in \u001b[0;36m<lambda>\u001b[0;34m(x)\u001b[0m\n\u001b[1;32m      3\u001b[0m     \u001b[39mreturn\u001b[39;00m y\n\u001b[1;32m      4\u001b[0m f(\u001b[39m4\u001b[39m)\n\u001b[0;32m----> 6\u001b[0m f \u001b[39m=\u001b[39m \u001b[39mlambda\u001b[39;00m x: x\u001b[39m*\u001b[39;49m\u001b[39m*\u001b[39;49m\u001b[39m2\u001b[39;49m\n\u001b[1;32m      7\u001b[0m f(\u001b[39m4\u001b[39m)\n",
      "\u001b[0;31mTypeError\u001b[0m: unsupported operand type(s) for ** or pow(): 'list' and 'int'"
     ]
    }
   ],
   "source": [
    "a = [1,2,3]\n",
    "\n",
    "f(a)"
   ]
  },
  {
   "attachments": {},
   "cell_type": "markdown",
   "metadata": {},
   "source": [
    "So it seems it doesn't really work right? Python shoots out an error. That's because Python doesn't really have a \"squaring\" operation for lists, It was expecting an `int` or `float` instead. Since doing complication operations are important for us when working with data, we need a way around this. One way to solve this problem is to explicitly put a loop in the function.\n",
    "\n",
    "So let's do that. This is a bit complicated, but listen up: what you're going to do is take the function you wrote for Question 3, but assume that `x` (the input) isn't meant to be some number, but rather that `x` is a list. And what can we do with lists, use them in our loop as the thing we iterate over. So if we assume that `x` is a list and not just some number, can you rewrite the function from Question 3 to take in a list as an input and then output that list squared? Let's use `a=[1,2,3]` as our candidate list.\n",
    "\n",
    "**Hint:** There are two main ways that I can think of to do this with the tools I've given you. One is where you make an empty list and fill it up with the squared values, and the other is by using slice notation."
   ]
  },
  {
   "cell_type": "code",
   "execution_count": 5,
   "metadata": {
    "ExecuteTime": {
     "end_time": "2019-08-04T23:01:30.845445Z",
     "start_time": "2019-08-04T23:01:30.835191Z"
    }
   },
   "outputs": [
    {
     "data": {
      "text/plain": [
       "[1, 4, 9]"
      ]
     },
     "execution_count": 5,
     "metadata": {},
     "output_type": "execute_result"
    }
   ],
   "source": [
    "mylist =[]\n",
    "a =[1,2,3]\n",
    "def f(a):\n",
    "    # for i in a:\n",
    "    #     a_squared= i*i\n",
    "    #     mylist.append(a_squared)\n",
    "    mylist = [x**2 for x in a]\n",
    "    return mylist\n",
    "\n",
    "f(a)"
   ]
  },
  {
   "attachments": {},
   "cell_type": "markdown",
   "metadata": {},
   "source": [
    "### Question 5: List Comprehensions\n",
    "\n",
    "Another way we can do this is by using list comprehensions (not lists, but list comprehensions). List comprehensions are basically ways of making lists, but using the logic behind set notation. You can learn more about them [here](https://www.pythonforbeginners.com/basics/list-comprehensions-in-python), but look: let's say we wanted to write out the list you made in Question 4 as a set in math, what would it look like? Well basically something like (assuming that the resulting list was some variable called `b`:\n",
    "\n",
    "$$\n",
    "b = \\{x^2 \\text{ s.t. }  x\\in \\{1,2,3\\}\\}\n",
    "$$\n",
    "\n",
    "So what would this look like as a list comprehension? Look at the website linked above and try to figure it out."
   ]
  },
  {
   "cell_type": "code",
   "execution_count": 6,
   "metadata": {},
   "outputs": [
    {
     "data": {
      "text/plain": [
       "[1, 4, 9]"
      ]
     },
     "execution_count": 6,
     "metadata": {},
     "output_type": "execute_result"
    }
   ],
   "source": [
    "a=[1,2,3]\n",
    "[x**2 for x in a]"
   ]
  },
  {
   "attachments": {},
   "cell_type": "markdown",
   "metadata": {},
   "source": [
    "### Question 6: Imports and Numpy\n",
    "\n",
    "Finally, a great way to deal with this problem is through using a library that is made to work with complicated operations on so-called \"containers\", or lists, or vectors.\n",
    "\n",
    "And that is the `numpy` library! You will come to know this library well. But before we do this, we need to understand what an `import` statement is.\n",
    "\n",
    "Python has a lot of nice features in it that you can use out of the box and that's called \"using the Python standard library.\" But sometimes Python doesn't have everything you need and that's on purpose: the point of the standard library is to give the tools needed to build and create new uses for Python. Since there are sometimes very specialized functions for things, if Python had to include web development AND linear regression into the standard library, as well as other things, Python would become super big.\n",
    "\n",
    "Luckily, however, it is easy to install new \"packages\" and \"libraries\" for Python. Your Anaconda distribution already has a lot of libraries that we'll need for the course, so you don't really need to install them, just `import` them. \n",
    "\n",
    "All an import is is that you have to put the command in a script you're writing to tell Python that you want to use that library as well as the standard library. So simply adding `import numpy` in your script will tell Python that you want to use `numpy`. \n",
    "\n",
    "Sometimes you don't want to use the whole library, but just one function. In that case what you can do is:\n",
    "\n",
    "`from <<library>> import <<function>>`\n",
    "\n",
    "Sometimes if the name of the library is really big and writing it out in the script is cumbersome, you can tell Python that you want a different name for that package.\n",
    "\n",
    "`import numpy as np`\n",
    "\n",
    "So now you'll only need to type in `np` when you want to call a numpy function."
   ]
  },
  {
   "cell_type": "markdown",
   "metadata": {},
   "source": [
    "Now that we know what imports are, let's see how numpy can help us. Numpy has a \"method\" called `array` that can make things easier for us. A method in this case just refers to a function in a library. To call that function, we first invoke that we want to use numpy, and then call its function. That amounts to:\n",
    "\n",
    "```\n",
    "import numpy as np\n",
    "# [Recall that a=[1,2,3]](#toc0_)\n",
    "a_np = np.array(a)\n",
    "```\n",
    "\n",
    "Great! Now it's an \"instance\" of a numpy array. That just means that you've said this to Python:\n",
    "\n",
    "**You:** Hey Python, here's this list, can you use `numpy` and transform it into one of its arrays?\n",
    "\n",
    "**Python:** Okay cool, I'll remember that and create this new thing called `a_np` that's been transformed from the list `a`, but it's a lot cooler now, its a numpy array!\n",
    "\n",
    "Once you've created an instance of the array, it's become an instance that comes with its own methods (more in the next question).\n",
    "\n",
    "Now that we have `a_np`, our problem is solved. I know that I misled you before and made you square a list, only to have Python spit out an error, but what happens when you square the numpy array `a_np`?"
   ]
  },
  {
   "cell_type": "code",
   "execution_count": 14,
   "metadata": {},
   "outputs": [
    {
     "ename": "ModuleNotFoundError",
     "evalue": "No module named 'sdjdj'",
     "output_type": "error",
     "traceback": [
      "\u001b[0;31m---------------------------------------------------------------------------\u001b[0m",
      "\u001b[0;31mModuleNotFoundError\u001b[0m                       Traceback (most recent call last)",
      "Cell \u001b[0;32mIn[14], line 2\u001b[0m\n\u001b[1;32m      1\u001b[0m \u001b[39mimport\u001b[39;00m \u001b[39mnumpy\u001b[39;00m \u001b[39mas\u001b[39;00m \u001b[39mnp\u001b[39;00m\n\u001b[0;32m----> 2\u001b[0m \u001b[39mimport\u001b[39;00m \u001b[39msdjdj\u001b[39;00m\n\u001b[1;32m      4\u001b[0m a_np \u001b[39m=\u001b[39m np\u001b[39m.\u001b[39marray([\u001b[39m1\u001b[39m,\u001b[39m2\u001b[39m,\u001b[39m3\u001b[39m]) \u001b[39m# np.array(a)\u001b[39;00m\n\u001b[1;32m      6\u001b[0m a_np\u001b[39m*\u001b[39m\u001b[39m*\u001b[39m\u001b[39m2\u001b[39m\n",
      "\u001b[0;31mModuleNotFoundError\u001b[0m: No module named 'sdjdj'"
     ]
    }
   ],
   "source": [
    "import numpy as np\n",
    "import sdjdj\n",
    "\n",
    "a_np = np.array([1,2,3]) # np.array(a)\n",
    "\n",
    "a_np**2"
   ]
  },
  {
   "attachments": {},
   "cell_type": "markdown",
   "metadata": {},
   "source": [
    "### Question 7: Means, variances, standard deviations, maxima, minima\n",
    "\n",
    "Numpy arrays also allow us to do some nice data stuff too. Let's take some list, `my_list = [3,4,7]`. Turn it into a numpy array (remember if you imported numpy in a different code cell and ran it, you don't have to do it in a new code cell, it's been imported). Same as how we used a dot or period to signify that we want to access a library's methods, once you have an array, they also have methods that you can use. Some of those methods are:\n",
    "\n",
    "- mean()\n",
    "- std()\n",
    "- var()\n",
    "- min()\n",
    "- max()\n",
    "\n",
    "For example, to find the variance of the array, you would write, `my_array.var()`.\n",
    "\n",
    "So here's the question:\n",
    "\n",
    "Create a numpy array from the list `my_list`. Then find the mean, standard deviation, minimum, and maximum of that array you've made.\n",
    "\n",
    "\n",
    "\n",
    "**Note:** Remember that since a method is a function, you have to put parantheses after its name, that's how Python knows it's a method/function. The difference is that functions oftentimes take an input, while methods might work without taking in any input, but you need to put the parantheses all the same (so, basically `method()`)\n",
    "\n"
   ]
  },
  {
   "cell_type": "code",
   "execution_count": 13,
   "metadata": {},
   "outputs": [
    {
     "data": {
      "text/plain": [
       "0.816496580927726"
      ]
     },
     "execution_count": 13,
     "metadata": {},
     "output_type": "execute_result"
    }
   ],
   "source": [
    "a_np.std()"
   ]
  },
  {
   "attachments": {},
   "cell_type": "markdown",
   "metadata": {
    "slideshow": {
     "slide_type": "skip"
    }
   },
   "source": [
    "## Appendix"
   ]
  },
  {
   "attachments": {},
   "cell_type": "markdown",
   "metadata": {
    "slideshow": {
     "slide_type": "skip"
    }
   },
   "source": [
    "Before we make our way to Python, there are a few things that we should become familiar with. Firstly, it is the terminal.\n",
    "\n",
    "The terminal or command line or command prompt is the scary black screen that the characters in the Matrix to destroy the Agents.\n",
    "\n",
    "![Mr.Anderson...](https://libertychurchonline.files.wordpress.com/2015/02/64cb4-matrix2bhas2bu.png)"
   ]
  },
  {
   "attachments": {},
   "cell_type": "markdown",
   "metadata": {
    "slideshow": {
     "slide_type": "skip"
    }
   },
   "source": [
    "To open your command prompt:\n",
    "\n",
    "Go to the bottom bar, where you see an X with a circle, a number on it: \n",
    "\n",
    "![](figures/terminal.png)\n",
    "\n",
    "It'll open up a window on the bottom and one of the options on the bar will be \"Terminal\"\n",
    "\n",
    "Then run:\n",
    "\n",
    "`conda activate base`\n",
    "\n",
    "`conda install jupyter`\n",
    "\n"
   ]
  },
  {
   "attachments": {},
   "cell_type": "markdown",
   "metadata": {
    "slideshow": {
     "slide_type": "skip"
    }
   },
   "source": [
    "Anaconda has a commandline utility called ```conda``` that is in charge of installing packages. This is done by sending messages to the command line:\n",
    "\n",
    "```conda install``` is the command that we will use to install the packages we need.\n",
    "\n",
    "The python we will use is a barebones interpeter. Python was not initially designed to be for statistics, so we need to give it the knowledge and skills it needs first. That involves using ```conda``` to install relevant packages."
   ]
  },
  {
   "attachments": {},
   "cell_type": "markdown",
   "metadata": {
    "slideshow": {
     "slide_type": "skip"
    }
   },
   "source": [
    "Please take a second to install the following packages:\n",
    "\n",
    "```conda install pandas```\n",
    "\n",
    "```conda install numpy```\n",
    "\n",
    "```conda install scipy```"
   ]
  }
 ],
 "metadata": {
  "celltoolbar": "Slideshow",
  "hide_input": false,
  "kernelspec": {
   "display_name": "Python 3",
   "language": "python",
   "name": "python3"
  },
  "language_info": {
   "codemirror_mode": {
    "name": "ipython",
    "version": 3
   },
   "file_extension": ".py",
   "mimetype": "text/x-python",
   "name": "python",
   "nbconvert_exporter": "python",
   "pygments_lexer": "ipython3",
   "version": "3.10.12"
  },
  "latex_envs": {
   "LaTeX_envs_menu_present": true,
   "autoclose": false,
   "autocomplete": true,
   "bibliofile": "biblio.bib",
   "cite_by": "apalike",
   "current_citInitial": 1,
   "eqLabelWithNumbers": true,
   "eqNumInitial": 1,
   "hotkeys": {
    "equation": "Ctrl-E",
    "itemize": "Ctrl-I"
   },
   "labels_anchors": false,
   "latex_user_defs": false,
   "report_style_numbering": false,
   "user_envs_cfg": false
  },
  "nbTranslate": {
   "displayLangs": [
    "*"
   ],
   "hotkey": "alt-t",
   "langInMainMenu": true,
   "sourceLang": "en",
   "targetLang": "fr",
   "useGoogleTranslate": true
  },
  "varInspector": {
   "cols": {
    "lenName": 16,
    "lenType": 16,
    "lenVar": 40
   },
   "kernels_config": {
    "python": {
     "delete_cmd_postfix": "",
     "delete_cmd_prefix": "del ",
     "library": "var_list.py",
     "varRefreshCmd": "print(var_dic_list())"
    },
    "r": {
     "delete_cmd_postfix": ") ",
     "delete_cmd_prefix": "rm(",
     "library": "var_list.r",
     "varRefreshCmd": "cat(var_dic_list()) "
    }
   },
   "types_to_exclude": [
    "module",
    "function",
    "builtin_function_or_method",
    "instance",
    "_Feature"
   ],
   "window_display": false
  }
 },
 "nbformat": 4,
 "nbformat_minor": 2
}
