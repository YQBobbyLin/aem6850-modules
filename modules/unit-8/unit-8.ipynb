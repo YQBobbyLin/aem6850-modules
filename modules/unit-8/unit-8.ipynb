{
 "cells": [
  {
   "cell_type": "markdown",
   "metadata": {},
   "source": [
    "# Manipulating Text\n",
    "\n",
    "- Text manipulation warrant its own lecture for two reasons:\n",
    "    - There's lots of different operations you can do to text\n",
    "    - When doing web-scraping or image analysis or machine learning, much of the time, you'll get a block of text to clean"
   ]
  },
  {
   "cell_type": "markdown",
   "metadata": {},
   "source": [
    "## Strings and Manipulations\n",
    "\n",
    "- Strings are class!\n",
    "- They come with a set of operations that you can use on them\n",
    "- Before going into string data, it's useful to know what you can just do to the string, itself"
   ]
  },
  {
   "cell_type": "code",
   "execution_count": 8,
   "metadata": {},
   "outputs": [
    {
     "name": "stdout",
     "output_type": "stream",
     "text": [
      "Hello World\n",
      "Hello World\n",
      "Hello World\n"
     ]
    }
   ],
   "source": [
    "# All ways of defining strings\n",
    "\n",
    "my_string = \"Hello World\"\n",
    "print(my_string)\n",
    "my_string = 'Hello World'\n",
    "print(my_string)\n",
    "my_string = \"\"\"Hello World\"\"\"\n",
    "print(my_string)"
   ]
  },
  {
   "cell_type": "code",
   "execution_count": 16,
   "metadata": {},
   "outputs": [
    {
     "name": "stdout",
     "output_type": "stream",
     "text": [
      "Hellow \" World\n",
      "Hello ' World\n",
      "Hello \"'\n",
      "World\n"
     ]
    }
   ],
   "source": [
    "# Different ways of defining strings allow you to put in other quotations in the string\n",
    "my_string = 'Hellow \" World'\n",
    "print(my_string)\n",
    "my_string = \"Hello ' World\"\n",
    "print(my_string)\n",
    "my_string = \"\"\"Hello \"'\n",
    "World\"\"\"\n",
    "\n",
    "print(my_string)"
   ]
  },
  {
   "cell_type": "code",
   "execution_count": 17,
   "metadata": {},
   "outputs": [
    {
     "ename": "SyntaxError",
     "evalue": "invalid syntax (2743816767.py, line 3)",
     "output_type": "error",
     "traceback": [
      "\u001b[0;36m  File \u001b[0;32m\"/var/folders/22/d2d1hrtn3kl9cq0gsx95c6lr0000gn/T/ipykernel_53053/2743816767.py\"\u001b[0;36m, line \u001b[0;32m3\u001b[0m\n\u001b[0;31m    \"Hello \" World\"\u001b[0m\n\u001b[0m             ^\u001b[0m\n\u001b[0;31mSyntaxError\u001b[0m\u001b[0;31m:\u001b[0m invalid syntax\n"
     ]
    }
   ],
   "source": [
    "# What happens when you don't do that\n",
    "\n",
    "\"Hello \" World\""
   ]
  },
  {
   "cell_type": "code",
   "execution_count": 18,
   "metadata": {},
   "outputs": [
    {
     "data": {
      "text/plain": [
       "'Hello \" World'"
      ]
     },
     "execution_count": 18,
     "metadata": {},
     "output_type": "execute_result"
    }
   ],
   "source": [
    "\"Hello \\\" World\""
   ]
  },
  {
   "cell_type": "markdown",
   "metadata": {},
   "source": [
    "## F-strings and Raw Strings\n",
    "\n",
    "- These are ways to tell Python that you want the string to be understood differently by the interpreter"
   ]
  },
  {
   "cell_type": "markdown",
   "metadata": {},
   "source": [
    "### Raw Strings\n",
    "\n",
    "- Raw strings tell python not to interpret any special string keywords in your text, like newlines (`\\n`) or tabs (`\\t`). It just outputs the text as-is."
   ]
  },
  {
   "cell_type": "code",
   "execution_count": 26,
   "metadata": {},
   "outputs": [
    {
     "name": "stdout",
     "output_type": "stream",
     "text": [
      "Hello \\\" World\n",
      "Hello\n",
      "\tWorld\n",
      "Hello\\n\\tWorld\n"
     ]
    }
   ],
   "source": [
    "my_string = r\"Hello \\\" World\"\n",
    "print(my_string)\n",
    "my_string = \"Hello\\n\\tWorld\"\n",
    "print(my_string)\n",
    "my_string = r\"Hello\\n\\tWorld\"\n",
    "print(my_string)"
   ]
  },
  {
   "cell_type": "markdown",
   "metadata": {},
   "source": [
    "### F-strings\n",
    "\n",
    "- F-strings allow you to input a variable or some transformation of a variable directly into the text and get a result."
   ]
  },
  {
   "cell_type": "code",
   "execution_count": 38,
   "metadata": {},
   "outputs": [
    {
     "name": "stdout",
     "output_type": "stream",
     "text": [
      "Hello World\n",
      "Hello World 2\n",
      "this is a number: 1.2343545656454546\n",
      "this is a number: 1.234\n"
     ]
    }
   ],
   "source": [
    "var = 'World'\n",
    "\n",
    "my_string = f\"Hello {var}\"\n",
    "print(my_string)\n",
    "\n",
    "x = 1\n",
    "\n",
    "my_string = f\"Hello World {x + 1}\"\n",
    "print(my_string)\n",
    "\n",
    "# Also allows you to change formatting\n",
    "\n",
    "y = 1.234354565645454634543\n",
    "\n",
    "print(f\"this is a number: {y}\")\n",
    "print(f\"this is a number: {y:0.3f}\")"
   ]
  },
  {
   "cell_type": "markdown",
   "metadata": {},
   "source": [
    "- We can also use them in functions (or lambda functions) to make a nice way to print out dynamic output "
   ]
  },
  {
   "cell_type": "code",
   "execution_count": 30,
   "metadata": {},
   "outputs": [
    {
     "name": "stdout",
     "output_type": "stream",
     "text": [
      "0 is done!\n",
      "1 is done!\n",
      "2 is done!\n",
      "3 is done!\n",
      "4 is done!\n",
      "5 is done!\n",
      "6 is done!\n",
      "7 is done!\n",
      "8 is done!\n",
      "9 is done!\n"
     ]
    }
   ],
   "source": [
    "def print_progress(i):\n",
    "    print(f\"{i} is done!\")\n",
    "\n",
    "for i in range(10):\n",
    "    print_progress(i)"
   ]
  },
  {
   "cell_type": "markdown",
   "metadata": {},
   "source": [
    "## Strings as a list \n",
    "\n",
    "- Strings can be treated as an iterator in python\n",
    "- Meaning when you make it a list or loop over it, it does interesting things"
   ]
  },
  {
   "cell_type": "code",
   "execution_count": 33,
   "metadata": {},
   "outputs": [
    {
     "name": "stdout",
     "output_type": "stream",
     "text": [
      "['H', 'e', 'l', 'l', 'o', ' ', 'W', 'o', 'r', 'l', 'd']\n",
      "H\n",
      "e\n",
      "l\n",
      "l\n",
      "o\n",
      " \n",
      "W\n",
      "o\n",
      "r\n",
      "l\n",
      "d\n"
     ]
    }
   ],
   "source": [
    "my_string = \"Hello World\"\n",
    "\n",
    "print(list(my_string))\n",
    "\n",
    "for i in my_string:\n",
    "    print(i)"
   ]
  },
  {
   "cell_type": "markdown",
   "metadata": {},
   "source": [
    "## Overloaded Multiplication and Addition\n",
    "\n",
    "- You can use `+` and `*` with strings \n",
    "\n"
   ]
  },
  {
   "cell_type": "code",
   "execution_count": 39,
   "metadata": {},
   "outputs": [
    {
     "name": "stdout",
     "output_type": "stream",
     "text": [
      "HelloWorld\n",
      "HelloHelloHello\n"
     ]
    }
   ],
   "source": [
    "print(\"Hello\" + \"World\")\n",
    "print(\"Hello\"*3)"
   ]
  },
  {
   "cell_type": "markdown",
   "metadata": {},
   "source": [
    "- Strings are accessed by index, so you can easily reverse a string if needed:"
   ]
  },
  {
   "cell_type": "code",
   "execution_count": 55,
   "metadata": {},
   "outputs": [
    {
     "data": {
      "text/plain": [
       "' 32 dlroW olleH '"
      ]
     },
     "execution_count": 55,
     "metadata": {},
     "output_type": "execute_result"
    }
   ],
   "source": [
    "my_string[::-1]"
   ]
  },
  {
   "cell_type": "markdown",
   "metadata": {},
   "source": [
    "## Replacing, Containing, and Finding\n",
    "\n",
    "- The basic python string has some helpful utilities for manipulating it.\n"
   ]
  },
  {
   "cell_type": "code",
   "execution_count": 12,
   "metadata": {},
   "outputs": [
    {
     "name": "stdout",
     "output_type": "stream",
     "text": [
      " Hello Me 23 \n",
      "True\n",
      "13\n",
      "Hello World 23\n",
      " hello world 23 \n",
      " HELLO WORLD 23 \n",
      " Hello World 23 \n",
      "False\n"
     ]
    },
    {
     "data": {
      "text/plain": [
       "'2'"
      ]
     },
     "execution_count": 12,
     "metadata": {},
     "output_type": "execute_result"
    }
   ],
   "source": [
    "my_string = \" Hello World 23 \"\n",
    "\n",
    "print(my_string.replace(\"World\", \"Me\"))\n",
    "\n",
    "print('23' in my_string)\n",
    "\n",
    "# find the first index where a substring occurs\n",
    "print(my_string.find(\"23\"))\n",
    "\n",
    "print(my_string.strip())\n",
    "\n",
    "# IMPORTANT: lowercase, uppercase, titlecase\n",
    "# Particularly important for string processing\n",
    "\n",
    "print(my_string.lower())\n",
    "print(my_string.upper())\n",
    "print(my_string.title())\n",
    "\n",
    "# can this be cast as a number?\n",
    "print(my_string.isalnum())\n",
    "\n",
    "my_string[13]"
   ]
  },
  {
   "cell_type": "markdown",
   "metadata": {},
   "source": [
    "## Joining and Splitting\n",
    "\n",
    "- You can split strings by some delimiter and then join them by another!"
   ]
  },
  {
   "cell_type": "code",
   "execution_count": 49,
   "metadata": {},
   "outputs": [
    {
     "data": {
      "text/plain": [
       "' ,H,e,l,l,o, ,W,o,r,l,d, ,2,3, '"
      ]
     },
     "execution_count": 49,
     "metadata": {},
     "output_type": "execute_result"
    }
   ],
   "source": [
    "my_string.split(' ')\n",
    "\n",
    "','.join(my_string)"
   ]
  },
  {
   "cell_type": "markdown",
   "metadata": {},
   "source": [
    "## For everything else, there's regex\n",
    "\n",
    "- Regex is an EXTREMELY powerful way to do string search\n",
    "- I'm going to ATTEMPT to teach you the beginnings of it, but it's just the tip of the iceberg.\n",
    "- Note that python does not use regex by default, `replace` and `find` just looks for the particular substring\n",
    "    - we use the library `re` for that. No need to install\n"
   ]
  },
  {
   "cell_type": "code",
   "execution_count": 2,
   "metadata": {},
   "outputs": [],
   "source": [
    "import re"
   ]
  },
  {
   "cell_type": "markdown",
   "metadata": {},
   "source": [
    "- Let's start with a big block of text and try to parse out the email address, and phone numbers\n",
    "- and then further, the sender and hostname, area code and phone number"
   ]
  },
  {
   "cell_type": "code",
   "execution_count": 3,
   "metadata": {},
   "outputs": [],
   "source": [
    "long_string = \"For more details, please contact, am2497@cornell.edu or call us at (718)-555-9987\""
   ]
  },
  {
   "cell_type": "markdown",
   "metadata": {},
   "source": [
    "-  We could use `find` to know where the email *might* occur, but we can't extract and won't be able to do any find-tuning\n",
    "- I'm going to give you the finished regex string and then we'll break it down"
   ]
  },
  {
   "cell_type": "code",
   "execution_count": 9,
   "metadata": {},
   "outputs": [
    {
     "data": {
      "text/plain": [
       "[('am2497', 'cornell.edu', '(718)-555-9987')]"
      ]
     },
     "execution_count": 9,
     "metadata": {},
     "output_type": "execute_result"
    }
   ],
   "source": [
    "find_email_phone = re.compile(r\".*?(\\S+)@(\\S+).*?([\\(\\)\\-\\d]+)\")\n",
    "\n",
    "# NOTE: raw string\n",
    "\n",
    "find_email_phone.findall(long_string)"
   ]
  },
  {
   "cell_type": "markdown",
   "metadata": {},
   "source": [
    "- What is this?!\n",
    "- This is horrible\n",
    "- How do we parse this out?"
   ]
  },
  {
   "cell_type": "markdown",
   "metadata": {},
   "source": [
    "![](images/image.svg)"
   ]
  },
  {
   "cell_type": "markdown",
   "metadata": {},
   "source": [
    "- Let's break this down and see what's going on:\n",
    "- It's important to note first that parentheses are an important thing here as it gives us the ability to extract from the string:\n",
    "    - This is called a *capture group* as we are telling the expression that we want whatever satisfies the conditions to be extracted\n",
    "- An important way to this about this conceptually is that each expression is like a conditional: we are telling python to break down the text to a set of tokens with that particular structure and to break it up based on those conditions.\n",
    "\n",
    "`.*?(\\S+)@(\\S+).*?([\\(\\)\\-0-9]+)`\n",
    "\n",
    "`. => ANYTHING that isn't a linebreak (\\n \\r \\b)`\n",
    "\n",
    "- `.` here denotes to capture ALL text. Since this is a one-line string, this is basically taking everything\n",
    "\n",
    "`* => 0 or more occurrences`\n",
    "\n",
    "- In this case, `*` modifies the expression before it and says \"give me 0 or more occurrences of EVERYTHING\"\n",
    "\n",
    "`? => The lazy quantifier`\n",
    "\n",
    "- To illustrate what this is, suppose we didn't use the lazy quantifier after each occurrence of `.*`\n",
    "- `.*(\\S+)@(\\S+).*([\\(\\)\\-0-9]+)`\n",
    "- Our output would be: `[('7', 'cornell.edu', '7')]`\n",
    "- Without the quantifier, `.*` is \"greedy\", so it takes up as much text that satisfies its condition before the next part of the text's conditions are satisfied.\n",
    "- In this case, we don't get what we want, which is the username of the email address\n",
    "\n",
    "`\\S => any character that's not whitespace`\n",
    "\n",
    "- The opposite of this is `\\s`, any whitespace\n",
    "- since we know that email addresses cannot include whitespace, `\\S` is really useful here.\n",
    "\n",
    "`+ => 1 or more occurences`\n",
    "\n",
    "- This is similar to `*` but means that we need at least 1 occurrence of this\n",
    "- In this case, `*` would have worked too, but this works better for readability.\n",
    "- So now we have this expression: `\\S+` which means \"at least one occurrence of a non-whitespace character\"\n",
    "- We also put this in a capture group because we want to extract it.\n",
    "\n",
    "`@ => the @ sign for emails`\n",
    "\n",
    "- This is here to denote for the capture group to stop when it reaches `@`\n",
    "\n",
    "`(\\S+) => capture 1 or more occurrences of a non-whitespace character`\n",
    "\n",
    "- Now do the same thing but for AFTER `@` to get the hostname\n",
    "\n",
    "`.*? => lazy ANYTHING`\n",
    "\n",
    "- Then a lazy ANYTHING to extract everything \n",
    "\n",
    "`\\( and \\- => escaped parentheses`\n",
    "\n",
    "- Since parentheses (`(`, `)`) and dash (`-`) are an important part of regex syntax, we need to \"escape\" by putting a backslash `\\` in front of it.\n",
    "\n",
    "`[<stuff>] => character set`\n",
    "\n",
    "-  square brackets are a way to clump together different things that you want to be searched for together, so in this case:\n",
    "\n",
    "```\n",
    "[\\(\\)\\-\\d]\n",
    "```\n",
    "\n",
    "The square brackets denote, \"all parentheses, dashes or digits\n",
    "\n",
    "`\\d => a digit`\n",
    "\n",
    "- Or can also be `[0-9]`\n",
    "\n",
    "\n",
    "Many of the reserved characters are a shorthand for a character set. For example:\n",
    "\n",
    "`. => [a-zA-Z0-9!\\@#\\$%\\^&\\*\\(\\)_+\\{\\}\\|:\"<>\\?-=\\[\\]\\\\\\;',\\./`~]`\n",
    "\n",
    "\n",
    "So finally when use `findall`, and put our capture groups in correctly, we get our desired result.\n"
   ]
  },
  {
   "cell_type": "markdown",
   "metadata": {},
   "source": [
    "## But wait, there's more!\n",
    "\n",
    "- seldom in life will you be confronted with a situation with text, where everything will be easy to extract\n",
    "- If you text DATA, there's not guarantee that the email will ALWAYS come before the phone number for instance.\n",
    "- Every regular expression makes assumptions about the input text, but it's our job to make it robust to extract as much information as we can."
   ]
  },
  {
   "cell_type": "code",
   "execution_count": 13,
   "metadata": {},
   "outputs": [
    {
     "data": {
      "text/plain": [
       "[]"
      ]
     },
     "execution_count": 13,
     "metadata": {},
     "output_type": "execute_result"
    }
   ],
   "source": [
    "long_string = \"For more details, please call us at (718)-555-9987 or email at am2497@cornell.edu\"\n",
    "\n",
    "find_email_phone = re.compile(r\".*?(\\S+)@(\\S+).*?([\\(\\)\\-\\d]+)\")\n",
    "\n",
    "# NOTE: raw string\n",
    "\n",
    "find_email_phone.findall(long_string)"
   ]
  },
  {
   "cell_type": "markdown",
   "metadata": {},
   "source": [
    "- In this case, simply switching the order of the email and phone number leads to an empty string\n",
    "- There are two ways around this:\n",
    "    1. break up the regex into two parts and extract each separately (easier to code but probably slower)\n",
    "    2. Make a more robust regex to extract both regardless of their position (more complicated regex, but can be done in one operation)\n",
    "    \n",
    "The one you decide to do will be based on you data size and patience for regex...\n",
    "\n"
   ]
  },
  {
   "cell_type": "markdown",
   "metadata": {},
   "source": [
    "### Breaking up the Regex\n",
    "\n",
    "-  This is pretty simple, but may not be perfect...\n",
    "\n"
   ]
  },
  {
   "cell_type": "code",
   "execution_count": 20,
   "metadata": {},
   "outputs": [
    {
     "name": "stdout",
     "output_type": "stream",
     "text": [
      "[('am2497', 'cornell.edu')]\n",
      "['(718)-555-9987', '2497']\n"
     ]
    }
   ],
   "source": [
    "email_regex = re.compile(r\".*?(\\S+)@(\\S+).*?\")\n",
    "phone_regex = re.compile(r\".*?([\\(\\)\\-\\d]+)\")\n",
    "\n",
    "print(email_regex.findall(long_string))\n",
    "print(phone_regex.findall(long_string))"
   ]
  },
  {
   "cell_type": "markdown",
   "metadata": {},
   "source": [
    "- Simply copy-pasting `phone_regex` was not enough as it also picks up numbers from the email address\n",
    "- You can modify it by using the structure of the phone number:\n",
    "\n"
   ]
  },
  {
   "cell_type": "code",
   "execution_count": 26,
   "metadata": {},
   "outputs": [
    {
     "data": {
      "text/plain": [
       "['(718)-555-9987']"
      ]
     },
     "execution_count": 26,
     "metadata": {},
     "output_type": "execute_result"
    }
   ],
   "source": [
    "phone_regex = re.compile(r\".*?(\\(*\\d{3}\\)*\\-*\\s*\\d{3}\\-*\\s*\\d{4}).*\") \n",
    "# {3} means exactly 3 occurrences\n",
    "# add stars to make sure that you don't NEED dashes to capture the expression\n",
    "# add whitespace in case phone number is broken up by spaces\n",
    "# surround it by .* to make sure that it come in any place in the string\n",
    "phone_regex.findall(long_string)\n"
   ]
  },
  {
   "cell_type": "markdown",
   "metadata": {},
   "source": [
    "### Creating a more Robust Regex expression\n",
    "\n",
    "- In order to be robust to changes of position or all-around weirdness in the text, we need a way for the regex to \"search\" and find the occurrence of the email or phone number.\n",
    "- For this we can use pipes for looking for *either* an email or phone number\n"
   ]
  },
  {
   "cell_type": "code",
   "execution_count": 43,
   "metadata": {},
   "outputs": [
    {
     "data": {
      "text/plain": [
       "['(718)-555-9987', 'am2497@cornell.edu']"
      ]
     },
     "execution_count": 43,
     "metadata": {},
     "output_type": "execute_result"
    }
   ],
   "source": [
    "robust_regex = re.compile(r\"(\\S+@\\S+|[\\(\\)\\-\\d]+)\")\n",
    "robust_regex.findall(long_string)"
   ]
  },
  {
   "cell_type": "markdown",
   "metadata": {},
   "source": [
    "## Other `re` functions"
   ]
  },
  {
   "cell_type": "markdown",
   "metadata": {},
   "source": [
    "- `re` isn't just about `find`, it has tons of functions you can use that have the same basic syntax but are used for different things:\n",
    "\n",
    "https://docs.python.org/3/library/re.html#functions"
   ]
  },
  {
   "cell_type": "markdown",
   "metadata": {},
   "source": [
    "## An Example Courtesy of ChatGPT\n",
    "\n",
    "-  ChatGPT was able to create some code for a random list of text where emails and phone numbers vary.\n",
    "- As long as we're on the topic, make sure to be aware of the ChatGPT policy!"
   ]
  },
  {
   "cell_type": "code",
   "execution_count": 29,
   "metadata": {},
   "outputs": [
    {
     "name": "stdout",
     "output_type": "stream",
     "text": [
      "Please provide your contact information, including your email (info_847@company-website.com) and your phone number (+1 (171) 448-7409).\n",
      "To get in touch, you can email me at contact.695@domain.net or call me at +44 438 449 2493.\n",
      "For any questions, please reach out to us via email at 453123@gmail.com or call our hotline at +1 (135) 657-2975.\n",
      "You can contact me at my email address, 608@email-provider.org or call my phone number, +1 (905) 838-3921.\n",
      "If you need assistance, feel free to call us at 280@email-provider.org or send an email to (832) 572-4040.\n"
     ]
    }
   ],
   "source": [
    "import random\n",
    "\n",
    "def generate_example():\n",
    "    templates = [\n",
    "        \"You can contact me at my email address, {} or call my phone number, {}.\",\n",
    "        \"For any questions, please reach out to us via email at {} or call our hotline at {}.\",\n",
    "        \"To get in touch, you can email me at {} or call me at {}.\",\n",
    "        \"Please provide your contact information, including your email ({}) and your phone number ({}).\",\n",
    "        \"If you need assistance, feel free to call us at {} or send an email to {}.\"\n",
    "    ]\n",
    "\n",
    "    email_formats = [\n",
    "        \"user{}@example.com\",\n",
    "        \"contact.{}@domain.net\",\n",
    "        \"{}@email-provider.org\",\n",
    "        \"{}123@gmail.com\",\n",
    "        \"info_{}@company-website.com\"\n",
    "    ]\n",
    "\n",
    "    phone_formats = [\n",
    "        \"({}) {}-{}\",\n",
    "        \"{}-{}-{}\",\n",
    "        \"+1 ({}) {}-{}\",\n",
    "        \"+44 {} {} {}\",\n",
    "        \"{}.{}.{}\"\n",
    "    ]\n",
    "\n",
    "    email = random.choice(email_formats).format(random.randint(100, 999))\n",
    "    phone = random.choice(phone_formats).format(\n",
    "        random.randint(100, 999),\n",
    "        random.randint(100, 999),\n",
    "        random.randint(1000, 9999)\n",
    "    )\n",
    "\n",
    "    template = random.choice(templates)\n",
    "    if random.random() < 0.5:\n",
    "        sentence = template.format(email, phone)\n",
    "    else:\n",
    "        sentence = template.format(phone, email)\n",
    "\n",
    "    return sentence\n",
    "\n",
    "string_list = []\n",
    "# Generate and print five random sentences\n",
    "for _ in range(5):\n",
    "    example = generate_example()\n",
    "    print(example)\n",
    "    string_list.append(example)"
   ]
  },
  {
   "cell_type": "markdown",
   "metadata": {},
   "source": [
    "## Processing Text Data with Pandas\n",
    "\n",
    "- Now that we have our regex expression and our example data, let's see how we can process this all in one go with `pandas`\n",
    "- What we can do is create a dataframe out of this data"
   ]
  },
  {
   "cell_type": "code",
   "execution_count": 44,
   "metadata": {},
   "outputs": [],
   "source": [
    "import pandas as pd"
   ]
  },
  {
   "cell_type": "code",
   "execution_count": 64,
   "metadata": {},
   "outputs": [],
   "source": [
    "text_series = pd.Series(\n",
    "    data=string_list,\n",
    "    name= 'text',\n",
    ")"
   ]
  },
  {
   "cell_type": "code",
   "execution_count": 65,
   "metadata": {},
   "outputs": [
    {
     "data": {
      "text/plain": [
       "0    Please provide your contact information, inclu...\n",
       "1    To get in touch, you can email me at contact.6...\n",
       "2    For any questions, please reach out to us via ...\n",
       "3    You can contact me at my email address, 608@em...\n",
       "4    If you need assistance, feel free to call us a...\n",
       "Name: text, dtype: object"
      ]
     },
     "execution_count": 65,
     "metadata": {},
     "output_type": "execute_result"
    }
   ],
   "source": [
    "text_series"
   ]
  },
  {
   "cell_type": "markdown",
   "metadata": {},
   "source": [
    "- Since this is one list, we can create `Series` out of it, not a dataframe\n",
    "- We can then use `to_frame` to make it a dataframe if need be\n",
    "-  In pandas we can use the `str` accessor to do everything we described above but for all text.\n",
    "- `pandas` uses the same functions as `re` and `str` "
   ]
  },
  {
   "cell_type": "code",
   "execution_count": 67,
   "metadata": {},
   "outputs": [
    {
     "data": {
      "text/html": [
       "<div>\n",
       "<style scoped>\n",
       "    .dataframe tbody tr th:only-of-type {\n",
       "        vertical-align: middle;\n",
       "    }\n",
       "\n",
       "    .dataframe tbody tr th {\n",
       "        vertical-align: top;\n",
       "    }\n",
       "\n",
       "    .dataframe thead th {\n",
       "        text-align: right;\n",
       "    }\n",
       "</style>\n",
       "<table border=\"1\" class=\"dataframe\">\n",
       "  <thead>\n",
       "    <tr style=\"text-align: right;\">\n",
       "      <th></th>\n",
       "      <th>text</th>\n",
       "      <th>text_upper</th>\n",
       "      <th>text_lower</th>\n",
       "      <th>text_contains_num_2</th>\n",
       "    </tr>\n",
       "  </thead>\n",
       "  <tbody>\n",
       "    <tr>\n",
       "      <th>0</th>\n",
       "      <td>Please provide your contact information, inclu...</td>\n",
       "      <td>PLEASE PROVIDE YOUR CONTACT INFORMATION, INCLU...</td>\n",
       "      <td>please provide your contact information, inclu...</td>\n",
       "      <td>False</td>\n",
       "    </tr>\n",
       "    <tr>\n",
       "      <th>1</th>\n",
       "      <td>To get in touch, you can email me at contact.6...</td>\n",
       "      <td>TO GET IN TOUCH, YOU CAN EMAIL ME AT CONTACT.6...</td>\n",
       "      <td>to get in touch, you can email me at contact.6...</td>\n",
       "      <td>True</td>\n",
       "    </tr>\n",
       "    <tr>\n",
       "      <th>2</th>\n",
       "      <td>For any questions, please reach out to us via ...</td>\n",
       "      <td>FOR ANY QUESTIONS, PLEASE REACH OUT TO US VIA ...</td>\n",
       "      <td>for any questions, please reach out to us via ...</td>\n",
       "      <td>True</td>\n",
       "    </tr>\n",
       "    <tr>\n",
       "      <th>3</th>\n",
       "      <td>You can contact me at my email address, 608@em...</td>\n",
       "      <td>YOU CAN CONTACT ME AT MY EMAIL ADDRESS, 608@EM...</td>\n",
       "      <td>you can contact me at my email address, 608@em...</td>\n",
       "      <td>True</td>\n",
       "    </tr>\n",
       "    <tr>\n",
       "      <th>4</th>\n",
       "      <td>If you need assistance, feel free to call us a...</td>\n",
       "      <td>IF YOU NEED ASSISTANCE, FEEL FREE TO CALL US A...</td>\n",
       "      <td>if you need assistance, feel free to call us a...</td>\n",
       "      <td>True</td>\n",
       "    </tr>\n",
       "  </tbody>\n",
       "</table>\n",
       "</div>"
      ],
      "text/plain": [
       "                                                text  \\\n",
       "0  Please provide your contact information, inclu...   \n",
       "1  To get in touch, you can email me at contact.6...   \n",
       "2  For any questions, please reach out to us via ...   \n",
       "3  You can contact me at my email address, 608@em...   \n",
       "4  If you need assistance, feel free to call us a...   \n",
       "\n",
       "                                          text_upper  \\\n",
       "0  PLEASE PROVIDE YOUR CONTACT INFORMATION, INCLU...   \n",
       "1  TO GET IN TOUCH, YOU CAN EMAIL ME AT CONTACT.6...   \n",
       "2  FOR ANY QUESTIONS, PLEASE REACH OUT TO US VIA ...   \n",
       "3  YOU CAN CONTACT ME AT MY EMAIL ADDRESS, 608@EM...   \n",
       "4  IF YOU NEED ASSISTANCE, FEEL FREE TO CALL US A...   \n",
       "\n",
       "                                          text_lower  text_contains_num_2  \n",
       "0  please provide your contact information, inclu...                False  \n",
       "1  to get in touch, you can email me at contact.6...                 True  \n",
       "2  for any questions, please reach out to us via ...                 True  \n",
       "3  you can contact me at my email address, 608@em...                 True  \n",
       "4  if you need assistance, feel free to call us a...                 True  "
      ]
     },
     "execution_count": 67,
     "metadata": {},
     "output_type": "execute_result"
    }
   ],
   "source": [
    "(\n",
    "    text_series\n",
    "    .to_frame()\n",
    "    .assign(text_upper = lambda df: df['text'].str.upper(),\n",
    "            text_lower = lambda df: df['text'].str.lower(),\n",
    "            text_contains_num_2 = lambda df: df['text'].str.contains('2') # same as `in`\n",
    "            )\n",
    "    )"
   ]
  },
  {
   "cell_type": "markdown",
   "metadata": {},
   "source": [
    "- for extracting, we just use `findall` as above\n",
    "- For this one, though let's inspect the data and make sure we're getting it right"
   ]
  },
  {
   "cell_type": "code",
   "execution_count": 61,
   "metadata": {},
   "outputs": [
    {
     "data": {
      "text/plain": [
       "['Please provide your contact information, including your email (info_847@company-website.com) and your phone number (+1 (171) 448-7409).',\n",
       " 'To get in touch, you can email me at contact.695@domain.net or call me at +44 438 449 2493.',\n",
       " 'For any questions, please reach out to us via email at 453123@gmail.com or call our hotline at +1 (135) 657-2975.',\n",
       " 'You can contact me at my email address, 608@email-provider.org or call my phone number, +1 (905) 838-3921.',\n",
       " 'If you need assistance, feel free to call us at 280@email-provider.org or send an email to (832) 572-4040.']"
      ]
     },
     "execution_count": 61,
     "metadata": {},
     "output_type": "execute_result"
    }
   ],
   "source": [
    "string_list"
   ]
  },
  {
   "cell_type": "markdown",
   "metadata": {},
   "source": [
    "- in this case, we can see that some numbers are international, have +1 in front of them. \n",
    "- The email have numbers, periods or no letters at all\n",
    "- Let's see what happens we run this with our existing piped regex"
   ]
  },
  {
   "cell_type": "code",
   "execution_count": 167,
   "metadata": {},
   "outputs": [
    {
     "data": {
      "text/plain": [
       "['(info_847@company-website.com)', '(', '1', '(171)', '448-7409)']"
      ]
     },
     "execution_count": 167,
     "metadata": {},
     "output_type": "execute_result"
    }
   ],
   "source": [
    "\n",
    "\n",
    "(\n",
    "    text_series\n",
    "    .to_frame()\n",
    "    .assign(find_groups = lambda df: df['text'].str.findall(robust_regex),\n",
    "            )\n",
    "    .find_groups.iloc[0]\n",
    "    )"
   ]
  },
  {
   "cell_type": "markdown",
   "metadata": {},
   "source": [
    "- We can see here that the emails have parentheses around them and the phone number is split up\n",
    "- We can always do some extra processing to it if need be, but let's if we can make it right in one go. "
   ]
  },
  {
   "cell_type": "code",
   "execution_count": 166,
   "metadata": {},
   "outputs": [
    {
     "data": {
      "text/plain": [
       "[('', ' '),\n",
       " ('', ' '),\n",
       " ('', ' '),\n",
       " ('', ' '),\n",
       " ('', ' '),\n",
       " ('', ' '),\n",
       " ('', ' '),\n",
       " ('', ' ('),\n",
       " ('info_847@company-website.com)', ''),\n",
       " ('', ' '),\n",
       " ('', ' '),\n",
       " ('', ' '),\n",
       " ('', ' '),\n",
       " ('', ' (+1 (171) 448-7409)')]"
      ]
     },
     "execution_count": 166,
     "metadata": {},
     "output_type": "execute_result"
    }
   ],
   "source": [
    "(\n",
    "    text_series\n",
    "    .to_frame()\n",
    "    .assign(find_groups = lambda df: df['text'].str.findall(r'(\\S+@\\S+)|([\\+\\(\\)\\-\\d\\s]+)'),\n",
    "            )\n",
    "    .find_groups.iloc[0]\n",
    "    )"
   ]
  },
  {
   "cell_type": "markdown",
   "metadata": {},
   "source": [
    "-  This is tough... maybe we should just do each separately"
   ]
  },
  {
   "cell_type": "code",
   "execution_count": 376,
   "metadata": {},
   "outputs": [
    {
     "data": {
      "text/html": [
       "<div>\n",
       "<style scoped>\n",
       "    .dataframe tbody tr th:only-of-type {\n",
       "        vertical-align: middle;\n",
       "    }\n",
       "\n",
       "    .dataframe tbody tr th {\n",
       "        vertical-align: top;\n",
       "    }\n",
       "\n",
       "    .dataframe thead th {\n",
       "        text-align: right;\n",
       "    }\n",
       "</style>\n",
       "<table border=\"1\" class=\"dataframe\">\n",
       "  <thead>\n",
       "    <tr style=\"text-align: right;\">\n",
       "      <th></th>\n",
       "      <th>text</th>\n",
       "      <th>find_email</th>\n",
       "      <th>find_phone</th>\n",
       "    </tr>\n",
       "  </thead>\n",
       "  <tbody>\n",
       "    <tr>\n",
       "      <th>0</th>\n",
       "      <td>Please provide your contact information, inclu...</td>\n",
       "      <td>info_847@company-website.com</td>\n",
       "      <td>+1 (171) 448-7409</td>\n",
       "    </tr>\n",
       "    <tr>\n",
       "      <th>1</th>\n",
       "      <td>To get in touch, you can email me at contact.6...</td>\n",
       "      <td>contact.695@domain.net</td>\n",
       "      <td>+44 438 449 2493</td>\n",
       "    </tr>\n",
       "    <tr>\n",
       "      <th>2</th>\n",
       "      <td>For any questions, please reach out to us via ...</td>\n",
       "      <td>453123@gmail.com</td>\n",
       "      <td>+1 (135) 657-2975</td>\n",
       "    </tr>\n",
       "    <tr>\n",
       "      <th>3</th>\n",
       "      <td>You can contact me at my email address, 608@em...</td>\n",
       "      <td>608@email-provider.org</td>\n",
       "      <td>+1 (905) 838-3921</td>\n",
       "    </tr>\n",
       "    <tr>\n",
       "      <th>4</th>\n",
       "      <td>If you need assistance, feel free to call us a...</td>\n",
       "      <td>280@email-provider.org</td>\n",
       "      <td>(832) 572-4040</td>\n",
       "    </tr>\n",
       "  </tbody>\n",
       "</table>\n",
       "</div>"
      ],
      "text/plain": [
       "                                                text  \\\n",
       "0  Please provide your contact information, inclu...   \n",
       "1  To get in touch, you can email me at contact.6...   \n",
       "2  For any questions, please reach out to us via ...   \n",
       "3  You can contact me at my email address, 608@em...   \n",
       "4  If you need assistance, feel free to call us a...   \n",
       "\n",
       "                     find_email         find_phone  \n",
       "0  info_847@company-website.com  +1 (171) 448-7409  \n",
       "1        contact.695@domain.net   +44 438 449 2493  \n",
       "2              453123@gmail.com  +1 (135) 657-2975  \n",
       "3        608@email-provider.org  +1 (905) 838-3921  \n",
       "4        280@email-provider.org     (832) 572-4040  "
      ]
     },
     "execution_count": 376,
     "metadata": {},
     "output_type": "execute_result"
    }
   ],
   "source": [
    "text_found = (\n",
    "    text_series\n",
    "    .to_frame()\n",
    "    .assign(find_email = lambda df: df['text'].str.extract(r'(\\S+@\\S+)', expand=False).str.replace(r\"\\(|\\)\", '', regex=True),\n",
    "            find_phone = lambda df: df['text'].str.extract(r\"(\\+*\\d*[\\s\\-]+\\(*\\d*\\)*[\\s\\-]+\\d*\\s*\\-*\\d*)\"),\n",
    "            )\n",
    "    )\n",
    "\n",
    "# When expand=True, it can create a dataframe from capture groups\n",
    "# So we set expand=False, so that it returns the capture (assuming we just want the first one)\n",
    "\n",
    "text_found\n"
   ]
  },
  {
   "cell_type": "markdown",
   "metadata": {},
   "source": [
    "- But now that we have figured OUT each separately, we can do it in on go"
   ]
  },
  {
   "cell_type": "code",
   "execution_count": 371,
   "metadata": {},
   "outputs": [
    {
     "data": {
      "text/html": [
       "<div>\n",
       "<style scoped>\n",
       "    .dataframe tbody tr th:only-of-type {\n",
       "        vertical-align: middle;\n",
       "    }\n",
       "\n",
       "    .dataframe tbody tr th {\n",
       "        vertical-align: top;\n",
       "    }\n",
       "\n",
       "    .dataframe thead th {\n",
       "        text-align: right;\n",
       "    }\n",
       "</style>\n",
       "<table border=\"1\" class=\"dataframe\">\n",
       "  <thead>\n",
       "    <tr style=\"text-align: right;\">\n",
       "      <th></th>\n",
       "      <th></th>\n",
       "      <th>email</th>\n",
       "      <th>phone</th>\n",
       "    </tr>\n",
       "    <tr>\n",
       "      <th></th>\n",
       "      <th>match</th>\n",
       "      <th></th>\n",
       "      <th></th>\n",
       "    </tr>\n",
       "  </thead>\n",
       "  <tbody>\n",
       "    <tr>\n",
       "      <th rowspan=\"2\" valign=\"top\">0</th>\n",
       "      <th>0</th>\n",
       "      <td>(info_847@company-website.com)</td>\n",
       "      <td>NaN</td>\n",
       "    </tr>\n",
       "    <tr>\n",
       "      <th>1</th>\n",
       "      <td>NaN</td>\n",
       "      <td>+1 (171) 448-7409</td>\n",
       "    </tr>\n",
       "    <tr>\n",
       "      <th rowspan=\"2\" valign=\"top\">1</th>\n",
       "      <th>0</th>\n",
       "      <td>contact.695@domain.net</td>\n",
       "      <td>NaN</td>\n",
       "    </tr>\n",
       "    <tr>\n",
       "      <th>1</th>\n",
       "      <td>NaN</td>\n",
       "      <td>+44 438 449 2493</td>\n",
       "    </tr>\n",
       "    <tr>\n",
       "      <th rowspan=\"2\" valign=\"top\">2</th>\n",
       "      <th>0</th>\n",
       "      <td>453123@gmail.com</td>\n",
       "      <td>NaN</td>\n",
       "    </tr>\n",
       "    <tr>\n",
       "      <th>1</th>\n",
       "      <td>NaN</td>\n",
       "      <td>+1 (135) 657-2975</td>\n",
       "    </tr>\n",
       "    <tr>\n",
       "      <th rowspan=\"2\" valign=\"top\">3</th>\n",
       "      <th>0</th>\n",
       "      <td>608@email-provider.org</td>\n",
       "      <td>NaN</td>\n",
       "    </tr>\n",
       "    <tr>\n",
       "      <th>1</th>\n",
       "      <td>NaN</td>\n",
       "      <td>+1 (905) 838-3921</td>\n",
       "    </tr>\n",
       "    <tr>\n",
       "      <th rowspan=\"2\" valign=\"top\">4</th>\n",
       "      <th>0</th>\n",
       "      <td>280@email-provider.org</td>\n",
       "      <td>NaN</td>\n",
       "    </tr>\n",
       "    <tr>\n",
       "      <th>1</th>\n",
       "      <td>NaN</td>\n",
       "      <td>(832) 572-4040</td>\n",
       "    </tr>\n",
       "  </tbody>\n",
       "</table>\n",
       "</div>"
      ],
      "text/plain": [
       "                                  email              phone\n",
       "  match                                                   \n",
       "0 0      (info_847@company-website.com)                NaN\n",
       "  1                                 NaN  +1 (171) 448-7409\n",
       "1 0              contact.695@domain.net                NaN\n",
       "  1                                 NaN   +44 438 449 2493\n",
       "2 0                    453123@gmail.com                NaN\n",
       "  1                                 NaN  +1 (135) 657-2975\n",
       "3 0              608@email-provider.org                NaN\n",
       "  1                                 NaN  +1 (905) 838-3921\n",
       "4 0              280@email-provider.org                NaN\n",
       "  1                                 NaN     (832) 572-4040"
      ]
     },
     "execution_count": 371,
     "metadata": {},
     "output_type": "execute_result"
    }
   ],
   "source": [
    "text_series.str.extractall(r\"(?P<email>\\S+@\\S+)|(?P<phone>\\+*\\d*[\\s\\-]+\\(*\\d*\\)*[\\s\\-]+\\d*\\s*\\-*\\d*)\")\n"
   ]
  },
  {
   "cell_type": "markdown",
   "metadata": {},
   "source": [
    "## Exercises\n",
    "\n",
    "1. For each text in `text_series`, output a boolean (True/False) series if the word `email` appears\n",
    "2. extract just the username from each email address (you can just use the `find_email` column in `text_found`)\n",
    "3. How long is each text string in `text_series`\n",
    "    - Hint: check the `str` accessor functions in `pandas`: https://pandas.pydata.org/docs/reference/api/pandas.Series.str.len.html"
   ]
  }
 ],
 "metadata": {
  "kernelspec": {
   "display_name": "base",
   "language": "python",
   "name": "python3"
  },
  "language_info": {
   "codemirror_mode": {
    "name": "ipython",
    "version": 3
   },
   "file_extension": ".py",
   "mimetype": "text/x-python",
   "name": "python",
   "nbconvert_exporter": "python",
   "pygments_lexer": "ipython3",
   "version": "3.9.13"
  },
  "orig_nbformat": 4
 },
 "nbformat": 4,
 "nbformat_minor": 2
}
